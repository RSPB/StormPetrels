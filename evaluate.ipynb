{
 "cells": [
  {
   "cell_type": "markdown",
   "metadata": {},
   "source": [
    "# Evaluate warbleR autodetect\n",
    "The goal of this notebook is to evaluate performance of the `autodetect` method against the labelled data set provided by Stefan"
   ]
  },
  {
   "cell_type": "code",
   "execution_count": 1,
   "metadata": {},
   "outputs": [],
   "source": [
    "%load_ext autoreload\n",
    "%autoreload 2\n",
    "%matplotlib inline\n",
    "\n",
    "import os\n",
    "import glob\n",
    "import pandas as pd\n",
    "import matplotlib.pyplot as plt\n",
    "from birdutils import read_labels"
   ]
  },
  {
   "cell_type": "markdown",
   "metadata": {},
   "source": [
    "We start by developing algorithm that can assess the accuracy. We take the labelled data set and compare it against one of the output files produced by `autodetect`."
   ]
  },
  {
   "cell_type": "code",
   "execution_count": 2,
   "metadata": {},
   "outputs": [],
   "source": [
    "bird_calls_labels_path = '/mnt/data/Birdman/sthelena_labels.xls'\n",
    "detected_calls_path = '/mnt/data/Birdman/samples/features/autodetect/autodetect_petrels_bp1-8_wl256_th2_smooth1200_maxdur4.csv'"
   ]
  },
  {
   "cell_type": "code",
   "execution_count": 3,
   "metadata": {},
   "outputs": [],
   "source": [
    "labels_dict = read_labels(bird_calls_labels_path)\n",
    "labels = pd.concat(labels_dict, axis=0, ignore_index=True)\n",
    "detected = pd.read_csv(detected_calls_path, usecols=['sound.files', 'selec', 'duration', 'start', 'end'])"
   ]
  },
  {
   "cell_type": "code",
   "execution_count": 4,
   "metadata": {},
   "outputs": [
    {
     "data": {
      "text/html": [
       "<div>\n",
       "<style scoped>\n",
       "    .dataframe tbody tr th:only-of-type {\n",
       "        vertical-align: middle;\n",
       "    }\n",
       "\n",
       "    .dataframe tbody tr th {\n",
       "        vertical-align: top;\n",
       "    }\n",
       "\n",
       "    .dataframe thead th {\n",
       "        text-align: right;\n",
       "    }\n",
       "</style>\n",
       "<table border=\"1\" class=\"dataframe\">\n",
       "  <thead>\n",
       "    <tr style=\"text-align: right;\">\n",
       "      <th></th>\n",
       "      <th>Date</th>\n",
       "      <th>File Name</th>\n",
       "      <th>Type of Call</th>\n",
       "      <th>Time Start</th>\n",
       "      <th>Time End</th>\n",
       "      <th>Species</th>\n",
       "      <th>Notes</th>\n",
       "    </tr>\n",
       "  </thead>\n",
       "  <tbody>\n",
       "    <tr>\n",
       "      <th>0</th>\n",
       "      <td>2014-06-05</td>\n",
       "      <td>STHELENA-02_20140605_200000_1</td>\n",
       "      <td>Flight Call</td>\n",
       "      <td>2.905</td>\n",
       "      <td>4.197</td>\n",
       "      <td>Storm Petrel</td>\n",
       "      <td>NaN</td>\n",
       "    </tr>\n",
       "    <tr>\n",
       "      <th>1</th>\n",
       "      <td>2014-06-05</td>\n",
       "      <td>STHELENA-02_20140605_200000_1</td>\n",
       "      <td>Flight Call</td>\n",
       "      <td>10.008</td>\n",
       "      <td>11.622</td>\n",
       "      <td>Storm Petrel</td>\n",
       "      <td>NaN</td>\n",
       "    </tr>\n",
       "    <tr>\n",
       "      <th>2</th>\n",
       "      <td>2014-06-05</td>\n",
       "      <td>STHELENA-02_20140605_200000_1</td>\n",
       "      <td>Flight Call</td>\n",
       "      <td>14.527</td>\n",
       "      <td>16.464</td>\n",
       "      <td>Storm Petrel</td>\n",
       "      <td>NaN</td>\n",
       "    </tr>\n",
       "    <tr>\n",
       "      <th>3</th>\n",
       "      <td>2014-06-05</td>\n",
       "      <td>STHELENA-02_20140605_200000_1</td>\n",
       "      <td>Flight Call</td>\n",
       "      <td>17.110</td>\n",
       "      <td>18.724</td>\n",
       "      <td>Storm Petrel</td>\n",
       "      <td>NaN</td>\n",
       "    </tr>\n",
       "    <tr>\n",
       "      <th>4</th>\n",
       "      <td>2014-06-05</td>\n",
       "      <td>STHELENA-02_20140605_200000_1</td>\n",
       "      <td>Flight Call</td>\n",
       "      <td>20.338</td>\n",
       "      <td>21.307</td>\n",
       "      <td>Storm Petrel</td>\n",
       "      <td>NaN</td>\n",
       "    </tr>\n",
       "  </tbody>\n",
       "</table>\n",
       "</div>"
      ],
      "text/plain": [
       "        Date                      File Name Type of Call  Time Start  \\\n",
       "0 2014-06-05  STHELENA-02_20140605_200000_1  Flight Call       2.905   \n",
       "1 2014-06-05  STHELENA-02_20140605_200000_1  Flight Call      10.008   \n",
       "2 2014-06-05  STHELENA-02_20140605_200000_1  Flight Call      14.527   \n",
       "3 2014-06-05  STHELENA-02_20140605_200000_1  Flight Call      17.110   \n",
       "4 2014-06-05  STHELENA-02_20140605_200000_1  Flight Call      20.338   \n",
       "\n",
       "   Time End       Species Notes  \n",
       "0     4.197  Storm Petrel   NaN  \n",
       "1    11.622  Storm Petrel   NaN  \n",
       "2    16.464  Storm Petrel   NaN  \n",
       "3    18.724  Storm Petrel   NaN  \n",
       "4    21.307  Storm Petrel   NaN  "
      ]
     },
     "execution_count": 4,
     "metadata": {},
     "output_type": "execute_result"
    }
   ],
   "source": [
    "labels.head()"
   ]
  },
  {
   "cell_type": "code",
   "execution_count": 5,
   "metadata": {},
   "outputs": [
    {
     "data": {
      "text/html": [
       "<div>\n",
       "<style scoped>\n",
       "    .dataframe tbody tr th:only-of-type {\n",
       "        vertical-align: middle;\n",
       "    }\n",
       "\n",
       "    .dataframe tbody tr th {\n",
       "        vertical-align: top;\n",
       "    }\n",
       "\n",
       "    .dataframe thead th {\n",
       "        text-align: right;\n",
       "    }\n",
       "</style>\n",
       "<table border=\"1\" class=\"dataframe\">\n",
       "  <thead>\n",
       "    <tr style=\"text-align: right;\">\n",
       "      <th></th>\n",
       "      <th>sound.files</th>\n",
       "      <th>selec</th>\n",
       "      <th>duration</th>\n",
       "      <th>start</th>\n",
       "      <th>end</th>\n",
       "    </tr>\n",
       "  </thead>\n",
       "  <tbody>\n",
       "    <tr>\n",
       "      <th>0</th>\n",
       "      <td>STHELENA-02_20140605_200000_10.wav</td>\n",
       "      <td>1</td>\n",
       "      <td>0.208063</td>\n",
       "      <td>20.171815</td>\n",
       "      <td>20.379877</td>\n",
       "    </tr>\n",
       "    <tr>\n",
       "      <th>1</th>\n",
       "      <td>STHELENA-02_20140605_200000_10.wav</td>\n",
       "      <td>2</td>\n",
       "      <td>0.816938</td>\n",
       "      <td>20.538940</td>\n",
       "      <td>21.355877</td>\n",
       "    </tr>\n",
       "    <tr>\n",
       "      <th>2</th>\n",
       "      <td>STHELENA-02_20140605_200000_10.wav</td>\n",
       "      <td>3</td>\n",
       "      <td>0.223563</td>\n",
       "      <td>21.368252</td>\n",
       "      <td>21.591815</td>\n",
       "    </tr>\n",
       "    <tr>\n",
       "      <th>3</th>\n",
       "      <td>STHELENA-02_20140605_200000_10.wav</td>\n",
       "      <td>4</td>\n",
       "      <td>0.603438</td>\n",
       "      <td>22.350002</td>\n",
       "      <td>22.953440</td>\n",
       "    </tr>\n",
       "    <tr>\n",
       "      <th>4</th>\n",
       "      <td>STHELENA-02_20140605_200000_10.wav</td>\n",
       "      <td>5</td>\n",
       "      <td>0.308938</td>\n",
       "      <td>39.672442</td>\n",
       "      <td>39.981379</td>\n",
       "    </tr>\n",
       "  </tbody>\n",
       "</table>\n",
       "</div>"
      ],
      "text/plain": [
       "                          sound.files  selec  duration      start        end\n",
       "0  STHELENA-02_20140605_200000_10.wav      1  0.208063  20.171815  20.379877\n",
       "1  STHELENA-02_20140605_200000_10.wav      2  0.816938  20.538940  21.355877\n",
       "2  STHELENA-02_20140605_200000_10.wav      3  0.223563  21.368252  21.591815\n",
       "3  STHELENA-02_20140605_200000_10.wav      4  0.603438  22.350002  22.953440\n",
       "4  STHELENA-02_20140605_200000_10.wav      5  0.308938  39.672442  39.981379"
      ]
     },
     "execution_count": 5,
     "metadata": {},
     "output_type": "execute_result"
    }
   ],
   "source": [
    "detected.head()"
   ]
  },
  {
   "cell_type": "code",
   "execution_count": 6,
   "metadata": {},
   "outputs": [],
   "source": [
    "detected = detected.rename(columns={'sound.files': 'File Name', 'start': 'Time Start', 'end': 'Time End'})\n",
    "detected['File Name'] = detected['File Name'].str.replace('.wav', '')"
   ]
  },
  {
   "cell_type": "code",
   "execution_count": 7,
   "metadata": {},
   "outputs": [
    {
     "data": {
      "text/html": [
       "<div>\n",
       "<style scoped>\n",
       "    .dataframe tbody tr th:only-of-type {\n",
       "        vertical-align: middle;\n",
       "    }\n",
       "\n",
       "    .dataframe tbody tr th {\n",
       "        vertical-align: top;\n",
       "    }\n",
       "\n",
       "    .dataframe thead th {\n",
       "        text-align: right;\n",
       "    }\n",
       "</style>\n",
       "<table border=\"1\" class=\"dataframe\">\n",
       "  <thead>\n",
       "    <tr style=\"text-align: right;\">\n",
       "      <th></th>\n",
       "      <th>File Name</th>\n",
       "      <th>selec</th>\n",
       "      <th>duration</th>\n",
       "      <th>Time Start</th>\n",
       "      <th>Time End</th>\n",
       "    </tr>\n",
       "  </thead>\n",
       "  <tbody>\n",
       "    <tr>\n",
       "      <th>0</th>\n",
       "      <td>STHELENA-02_20140605_200000_10</td>\n",
       "      <td>1</td>\n",
       "      <td>0.208063</td>\n",
       "      <td>20.171815</td>\n",
       "      <td>20.379877</td>\n",
       "    </tr>\n",
       "    <tr>\n",
       "      <th>1</th>\n",
       "      <td>STHELENA-02_20140605_200000_10</td>\n",
       "      <td>2</td>\n",
       "      <td>0.816938</td>\n",
       "      <td>20.538940</td>\n",
       "      <td>21.355877</td>\n",
       "    </tr>\n",
       "    <tr>\n",
       "      <th>2</th>\n",
       "      <td>STHELENA-02_20140605_200000_10</td>\n",
       "      <td>3</td>\n",
       "      <td>0.223563</td>\n",
       "      <td>21.368252</td>\n",
       "      <td>21.591815</td>\n",
       "    </tr>\n",
       "    <tr>\n",
       "      <th>3</th>\n",
       "      <td>STHELENA-02_20140605_200000_10</td>\n",
       "      <td>4</td>\n",
       "      <td>0.603438</td>\n",
       "      <td>22.350002</td>\n",
       "      <td>22.953440</td>\n",
       "    </tr>\n",
       "    <tr>\n",
       "      <th>4</th>\n",
       "      <td>STHELENA-02_20140605_200000_10</td>\n",
       "      <td>5</td>\n",
       "      <td>0.308938</td>\n",
       "      <td>39.672442</td>\n",
       "      <td>39.981379</td>\n",
       "    </tr>\n",
       "  </tbody>\n",
       "</table>\n",
       "</div>"
      ],
      "text/plain": [
       "                        File Name  selec  duration  Time Start   Time End\n",
       "0  STHELENA-02_20140605_200000_10      1  0.208063   20.171815  20.379877\n",
       "1  STHELENA-02_20140605_200000_10      2  0.816938   20.538940  21.355877\n",
       "2  STHELENA-02_20140605_200000_10      3  0.223563   21.368252  21.591815\n",
       "3  STHELENA-02_20140605_200000_10      4  0.603438   22.350002  22.953440\n",
       "4  STHELENA-02_20140605_200000_10      5  0.308938   39.672442  39.981379"
      ]
     },
     "execution_count": 7,
     "metadata": {},
     "output_type": "execute_result"
    }
   ],
   "source": [
    "detected.head()"
   ]
  },
  {
   "cell_type": "code",
   "execution_count": 8,
   "metadata": {},
   "outputs": [],
   "source": [
    "def get_acc(features, labels):\n",
    "    features['overlap'] = False\n",
    "    labels['overlap'] = False\n",
    "    filenames = labels['File Name'].unique()\n",
    "\n",
    "    for filename in filenames:\n",
    "        df_label = labels[labels['File Name'] == filename]\n",
    "        df_feat = features[features['File Name'] == filename]\n",
    "        for index1, row_label in df_label.iterrows():\n",
    "            for index2, row_feat in df_feat.iterrows():\n",
    "                feat_start = row_feat['Time Start']\n",
    "                feat_end = row_feat['Time End']\n",
    "                label_start = row_label['Time Start']\n",
    "                label_end = row_label['Time End']\n",
    "                overlap = (label_start <= feat_end) and (label_end >= feat_start)\n",
    "                if overlap:\n",
    "                    labels.at[index1, 'overlap'] = True\n",
    "                    features.at[index2, 'overlap'] = True\n",
    "    return sum(labels['overlap']) / len(labels)"
   ]
  },
  {
   "cell_type": "code",
   "execution_count": 9,
   "metadata": {},
   "outputs": [
    {
     "name": "stdout",
     "output_type": "stream",
     "text": [
      "Accuracy for /mnt/data/Birdman/sthelena_labels.xls: 70.36%\n"
     ]
    }
   ],
   "source": [
    "print(f'Accuracy for {bird_calls_labels_path}: {get_acc(detected, labels) * 100:.2f}%') "
   ]
  },
  {
   "cell_type": "markdown",
   "metadata": {},
   "source": [
    "## Get accuracy for all tested parameters\n",
    "In WarbleR `autodetect` we can tune various parameters like:\n",
    "* threshold\n",
    "* amplitude envelope smoothing\n",
    "* ... and many more to be found in [docs](https://www.rdocumentation.org/packages/warbleR/versions/1.1.14/topics/autodetec)\n",
    "\n",
    "We put the params in the file name and then check which one perform best."
   ]
  },
  {
   "cell_type": "code",
   "execution_count": 10,
   "metadata": {},
   "outputs": [],
   "source": [
    "detected_all_paths = glob.glob('/mnt/data/Birdman/samples/features/autodetect/autodetect_*.csv')"
   ]
  },
  {
   "cell_type": "code",
   "execution_count": 11,
   "metadata": {},
   "outputs": [
    {
     "name": "stdout",
     "output_type": "stream",
     "text": [
      "Accuracy of detected calls in autodetect_petrels_bp1-8_wl512_th1_smooth1200_maxdur12.csv: 43.30%\n",
      "Accuracy of detected calls in autodetect_petrels_bp1-8_wl256_th2_smooth1200_maxdur4.csv: 70.36%\n",
      "Accuracy of detected calls in autodetect_petrels_bp1-8_wl512_th10_smooth1200_maxdur4.csv: 21.13%\n",
      "Accuracy of detected calls in autodetect_petrels_bp1-8_wl256_th1_smooth1200_maxdur4.csv: 49.23%\n",
      "Accuracy of detected calls in autodetect_petrels_bp1-8_wl256_th2_smooth600.csv: 31.96%\n",
      "Accuracy of detected calls in autodetect_petrels_bp1-12_wl256_th2_smooth1200_maxdur4_hil.csv: 70.36%\n",
      "Accuracy of detected calls in autodetect_petrels_bp1-8_wl256_th2_smooth1200_mdur04.csv: 31.44%\n",
      "Accuracy of detected calls in autodetect_petrels_bp1-8_wl512_th1_smooth500_maxdur4.csv: 45.62%\n",
      "Accuracy of detected calls in autodetect_petrels_bp0-8_wl256_th2_smooth1200_maxdur4_hil.csv: 1.03%\n",
      "Accuracy of detected calls in autodetect_petrels_bp1-8_wl256_th2_smooth2000_maxdur4_hil.csv: 62.11%\n",
      "Accuracy of detected calls in autodetect_petrels_bp1-8_wl512_th1_smooth1200_maxdur4.csv: 51.03%\n",
      "Accuracy of detected calls in autodetect_petrels_bp1-8_wl512_th2_smooth1200_maxdur4.csv: 71.39%\n",
      "Accuracy of detected calls in autodetect_petrels_bp1-8_wl256_th2_smooth1500.csv: 58.76%\n",
      "Accuracy of detected calls in autodetect_petrels_bp1-5_wl256_th2_smooth1200_maxdur4_hil.csv: 70.36%\n",
      "Accuracy of detected calls in autodetect_petrels_bp1-8_wl256_th2_smooth1200.csv: 67.01%\n",
      "Accuracy of detected calls in autodetect_petrels_bp1-8_wl256_th2_smooth1200_maxdur4_hil.csv: 70.62%\n"
     ]
    }
   ],
   "source": [
    "for path in detected_all_paths:\n",
    "    name = os.path.basename(path)\n",
    "    detected = pd.read_csv(path, usecols=['sound.files', 'selec', 'duration', 'start', 'end'])\n",
    "    detected = detected.rename(columns={'sound.files': 'File Name', 'start': 'Time Start', 'end': 'Time End'})\n",
    "    detected['File Name'] = detected['File Name'].str.replace('.wav', '')\n",
    "    acc = get_acc(detected, labels)\n",
    "    print(f'Accuracy of detected calls in {name}: {acc*100:.2f}%')"
   ]
  },
  {
   "cell_type": "markdown",
   "metadata": {},
   "source": [
    "## Results\n",
    "Clearly the results aren't impressive. 30% of calls goes unnoticed."
   ]
  },
  {
   "cell_type": "code",
   "execution_count": 12,
   "metadata": {},
   "outputs": [],
   "source": [
    "# det_df.to_csv('detected.csv', index=False)"
   ]
  },
  {
   "cell_type": "code",
   "execution_count": null,
   "metadata": {},
   "outputs": [],
   "source": []
  }
 ],
 "metadata": {
  "kernelspec": {
   "display_name": "Python 3",
   "language": "python",
   "name": "python3"
  },
  "language_info": {
   "codemirror_mode": {
    "name": "ipython",
    "version": 3
   },
   "file_extension": ".py",
   "mimetype": "text/x-python",
   "name": "python",
   "nbconvert_exporter": "python",
   "pygments_lexer": "ipython3",
   "version": "3.6.6"
  }
 },
 "nbformat": 4,
 "nbformat_minor": 2
}
