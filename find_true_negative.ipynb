{
 "cells": [
  {
   "cell_type": "code",
   "execution_count": 15,
   "metadata": {},
   "outputs": [],
   "source": [
    "import os\n",
    "import glob\n",
    "import gcsfs\n",
    "import numpy as np\n",
    "import pandas as pd"
   ]
  },
  {
   "cell_type": "code",
   "execution_count": 3,
   "metadata": {},
   "outputs": [],
   "source": [
    "fs = gcsfs.GCSFileSystem(project='birdman-project')\n",
    "with fs.open('storm-petrels/samples/features_warbler_buffer_250ms.csv') as f:\n",
    "    warbler_df = pd.read_csv(f)\n",
    "with fs.open('storm-petrels/samples/sthelena_labels_overlap.csv') as f:\n",
    "    labels_df = pd.read_csv(f)"
   ]
  },
  {
   "cell_type": "code",
   "execution_count": 4,
   "metadata": {},
   "outputs": [
    {
     "data": {
      "text/html": [
       "<div>\n",
       "<style scoped>\n",
       "    .dataframe tbody tr th:only-of-type {\n",
       "        vertical-align: middle;\n",
       "    }\n",
       "\n",
       "    .dataframe tbody tr th {\n",
       "        vertical-align: top;\n",
       "    }\n",
       "\n",
       "    .dataframe thead th {\n",
       "        text-align: right;\n",
       "    }\n",
       "</style>\n",
       "<table border=\"1\" class=\"dataframe\">\n",
       "  <thead>\n",
       "    <tr style=\"text-align: right;\">\n",
       "      <th></th>\n",
       "      <th>Date</th>\n",
       "      <th>File Name</th>\n",
       "      <th>Type of Call</th>\n",
       "      <th>Time Start</th>\n",
       "      <th>Time End</th>\n",
       "      <th>Species</th>\n",
       "      <th>Notes</th>\n",
       "      <th>overlap</th>\n",
       "      <th>storm_petrel</th>\n",
       "    </tr>\n",
       "  </thead>\n",
       "  <tbody>\n",
       "    <tr>\n",
       "      <th>0</th>\n",
       "      <td>2014-06-05</td>\n",
       "      <td>STHELENA-02_20140605_200000_1</td>\n",
       "      <td>Flight Call</td>\n",
       "      <td>2.905</td>\n",
       "      <td>4.197</td>\n",
       "      <td>Storm Petrel</td>\n",
       "      <td>NaN</td>\n",
       "      <td>True</td>\n",
       "      <td>True</td>\n",
       "    </tr>\n",
       "    <tr>\n",
       "      <th>1</th>\n",
       "      <td>2014-06-05</td>\n",
       "      <td>STHELENA-02_20140605_200000_1</td>\n",
       "      <td>Flight Call</td>\n",
       "      <td>10.008</td>\n",
       "      <td>11.622</td>\n",
       "      <td>Storm Petrel</td>\n",
       "      <td>NaN</td>\n",
       "      <td>True</td>\n",
       "      <td>True</td>\n",
       "    </tr>\n",
       "    <tr>\n",
       "      <th>2</th>\n",
       "      <td>2014-06-05</td>\n",
       "      <td>STHELENA-02_20140605_200000_1</td>\n",
       "      <td>Flight Call</td>\n",
       "      <td>14.527</td>\n",
       "      <td>16.464</td>\n",
       "      <td>Storm Petrel</td>\n",
       "      <td>NaN</td>\n",
       "      <td>True</td>\n",
       "      <td>True</td>\n",
       "    </tr>\n",
       "    <tr>\n",
       "      <th>3</th>\n",
       "      <td>2014-06-05</td>\n",
       "      <td>STHELENA-02_20140605_200000_1</td>\n",
       "      <td>Flight Call</td>\n",
       "      <td>17.110</td>\n",
       "      <td>18.724</td>\n",
       "      <td>Storm Petrel</td>\n",
       "      <td>NaN</td>\n",
       "      <td>True</td>\n",
       "      <td>True</td>\n",
       "    </tr>\n",
       "    <tr>\n",
       "      <th>4</th>\n",
       "      <td>2014-06-05</td>\n",
       "      <td>STHELENA-02_20140605_200000_1</td>\n",
       "      <td>Flight Call</td>\n",
       "      <td>20.338</td>\n",
       "      <td>21.307</td>\n",
       "      <td>Storm Petrel</td>\n",
       "      <td>NaN</td>\n",
       "      <td>True</td>\n",
       "      <td>True</td>\n",
       "    </tr>\n",
       "  </tbody>\n",
       "</table>\n",
       "</div>"
      ],
      "text/plain": [
       "         Date                      File Name Type of Call  Time Start  \\\n",
       "0  2014-06-05  STHELENA-02_20140605_200000_1  Flight Call       2.905   \n",
       "1  2014-06-05  STHELENA-02_20140605_200000_1  Flight Call      10.008   \n",
       "2  2014-06-05  STHELENA-02_20140605_200000_1  Flight Call      14.527   \n",
       "3  2014-06-05  STHELENA-02_20140605_200000_1  Flight Call      17.110   \n",
       "4  2014-06-05  STHELENA-02_20140605_200000_1  Flight Call      20.338   \n",
       "\n",
       "   Time End       Species Notes  overlap  storm_petrel  \n",
       "0     4.197  Storm Petrel   NaN     True          True  \n",
       "1    11.622  Storm Petrel   NaN     True          True  \n",
       "2    16.464  Storm Petrel   NaN     True          True  \n",
       "3    18.724  Storm Petrel   NaN     True          True  \n",
       "4    21.307  Storm Petrel   NaN     True          True  "
      ]
     },
     "execution_count": 4,
     "metadata": {},
     "output_type": "execute_result"
    }
   ],
   "source": [
    "labels_df.head()"
   ]
  },
  {
   "cell_type": "code",
   "execution_count": 5,
   "metadata": {},
   "outputs": [
    {
     "data": {
      "text/html": [
       "<div>\n",
       "<style scoped>\n",
       "    .dataframe tbody tr th:only-of-type {\n",
       "        vertical-align: middle;\n",
       "    }\n",
       "\n",
       "    .dataframe tbody tr th {\n",
       "        vertical-align: top;\n",
       "    }\n",
       "\n",
       "    .dataframe thead th {\n",
       "        text-align: right;\n",
       "    }\n",
       "</style>\n",
       "<table border=\"1\" class=\"dataframe\">\n",
       "  <thead>\n",
       "    <tr style=\"text-align: right;\">\n",
       "      <th></th>\n",
       "      <th>index</th>\n",
       "      <th>sound.files</th>\n",
       "      <th>selec</th>\n",
       "      <th>overlap</th>\n",
       "      <th>storm_petrel</th>\n",
       "      <th>storm_petrel_ground_truth</th>\n",
       "      <th>brown_noddy</th>\n",
       "      <th>Time Start</th>\n",
       "      <th>Time End</th>\n",
       "      <th>duration</th>\n",
       "      <th>...</th>\n",
       "      <th>mindom</th>\n",
       "      <th>maxdom</th>\n",
       "      <th>dfrange</th>\n",
       "      <th>modindx</th>\n",
       "      <th>startdom</th>\n",
       "      <th>enddom</th>\n",
       "      <th>dfslope</th>\n",
       "      <th>meanpeakf</th>\n",
       "      <th>peakf</th>\n",
       "      <th>notes</th>\n",
       "    </tr>\n",
       "  </thead>\n",
       "  <tbody>\n",
       "    <tr>\n",
       "      <th>0</th>\n",
       "      <td>0</td>\n",
       "      <td>STHELENA-02_20140605_200000_10</td>\n",
       "      <td>1</td>\n",
       "      <td>False</td>\n",
       "      <td>0</td>\n",
       "      <td>1</td>\n",
       "      <td>0</td>\n",
       "      <td>10.920001</td>\n",
       "      <td>11.527314</td>\n",
       "      <td>0.607313</td>\n",
       "      <td>...</td>\n",
       "      <td>1.0</td>\n",
       "      <td>2.9375</td>\n",
       "      <td>1.9375</td>\n",
       "      <td>10.677419</td>\n",
       "      <td>1.0625</td>\n",
       "      <td>1.2500</td>\n",
       "      <td>0.308737</td>\n",
       "      <td>2.866071</td>\n",
       "      <td>0.016466</td>\n",
       "      <td>NaN</td>\n",
       "    </tr>\n",
       "    <tr>\n",
       "      <th>1</th>\n",
       "      <td>1</td>\n",
       "      <td>STHELENA-02_20140605_200000_10</td>\n",
       "      <td>2</td>\n",
       "      <td>True</td>\n",
       "      <td>1</td>\n",
       "      <td>1</td>\n",
       "      <td>0</td>\n",
       "      <td>19.955440</td>\n",
       "      <td>20.619502</td>\n",
       "      <td>0.664063</td>\n",
       "      <td>...</td>\n",
       "      <td>1.0</td>\n",
       "      <td>3.6250</td>\n",
       "      <td>2.6250</td>\n",
       "      <td>10.714286</td>\n",
       "      <td>1.0000</td>\n",
       "      <td>2.6250</td>\n",
       "      <td>2.447059</td>\n",
       "      <td>3.181052</td>\n",
       "      <td>0.040659</td>\n",
       "      <td>NaN</td>\n",
       "    </tr>\n",
       "    <tr>\n",
       "      <th>2</th>\n",
       "      <td>2</td>\n",
       "      <td>STHELENA-02_20140605_200000_10</td>\n",
       "      <td>3</td>\n",
       "      <td>True</td>\n",
       "      <td>1</td>\n",
       "      <td>1</td>\n",
       "      <td>0</td>\n",
       "      <td>20.296877</td>\n",
       "      <td>21.140940</td>\n",
       "      <td>0.844063</td>\n",
       "      <td>...</td>\n",
       "      <td>1.0</td>\n",
       "      <td>3.6250</td>\n",
       "      <td>2.6250</td>\n",
       "      <td>17.285714</td>\n",
       "      <td>3.6250</td>\n",
       "      <td>1.2500</td>\n",
       "      <td>-2.813773</td>\n",
       "      <td>3.118056</td>\n",
       "      <td>0.045020</td>\n",
       "      <td>NaN</td>\n",
       "    </tr>\n",
       "    <tr>\n",
       "      <th>3</th>\n",
       "      <td>3</td>\n",
       "      <td>STHELENA-02_20140605_200000_10</td>\n",
       "      <td>4</td>\n",
       "      <td>True</td>\n",
       "      <td>1</td>\n",
       "      <td>1</td>\n",
       "      <td>0</td>\n",
       "      <td>20.700627</td>\n",
       "      <td>21.367252</td>\n",
       "      <td>0.666625</td>\n",
       "      <td>...</td>\n",
       "      <td>1.0</td>\n",
       "      <td>3.1875</td>\n",
       "      <td>2.1875</td>\n",
       "      <td>21.342857</td>\n",
       "      <td>3.0000</td>\n",
       "      <td>1.0625</td>\n",
       "      <td>-2.906432</td>\n",
       "      <td>2.992063</td>\n",
       "      <td>0.021001</td>\n",
       "      <td>NaN</td>\n",
       "    </tr>\n",
       "    <tr>\n",
       "      <th>4</th>\n",
       "      <td>4</td>\n",
       "      <td>STHELENA-02_20140605_200000_10</td>\n",
       "      <td>5</td>\n",
       "      <td>True</td>\n",
       "      <td>1</td>\n",
       "      <td>1</td>\n",
       "      <td>0</td>\n",
       "      <td>20.899127</td>\n",
       "      <td>21.600002</td>\n",
       "      <td>0.700875</td>\n",
       "      <td>...</td>\n",
       "      <td>1.0</td>\n",
       "      <td>3.3125</td>\n",
       "      <td>2.3125</td>\n",
       "      <td>17.864865</td>\n",
       "      <td>1.0000</td>\n",
       "      <td>1.3125</td>\n",
       "      <td>0.445871</td>\n",
       "      <td>2.677083</td>\n",
       "      <td>0.022829</td>\n",
       "      <td>NaN</td>\n",
       "    </tr>\n",
       "  </tbody>\n",
       "</table>\n",
       "<p>5 rows × 40 columns</p>\n",
       "</div>"
      ],
      "text/plain": [
       "   index                     sound.files  selec  overlap  storm_petrel  \\\n",
       "0      0  STHELENA-02_20140605_200000_10      1    False             0   \n",
       "1      1  STHELENA-02_20140605_200000_10      2     True             1   \n",
       "2      2  STHELENA-02_20140605_200000_10      3     True             1   \n",
       "3      3  STHELENA-02_20140605_200000_10      4     True             1   \n",
       "4      4  STHELENA-02_20140605_200000_10      5     True             1   \n",
       "\n",
       "   storm_petrel_ground_truth  brown_noddy  Time Start   Time End  duration  \\\n",
       "0                          1            0   10.920001  11.527314  0.607313   \n",
       "1                          1            0   19.955440  20.619502  0.664063   \n",
       "2                          1            0   20.296877  21.140940  0.844063   \n",
       "3                          1            0   20.700627  21.367252  0.666625   \n",
       "4                          1            0   20.899127  21.600002  0.700875   \n",
       "\n",
       "   ...    mindom  maxdom  dfrange    modindx  startdom  enddom   dfslope  \\\n",
       "0  ...       1.0  2.9375   1.9375  10.677419    1.0625  1.2500  0.308737   \n",
       "1  ...       1.0  3.6250   2.6250  10.714286    1.0000  2.6250  2.447059   \n",
       "2  ...       1.0  3.6250   2.6250  17.285714    3.6250  1.2500 -2.813773   \n",
       "3  ...       1.0  3.1875   2.1875  21.342857    3.0000  1.0625 -2.906432   \n",
       "4  ...       1.0  3.3125   2.3125  17.864865    1.0000  1.3125  0.445871   \n",
       "\n",
       "   meanpeakf     peakf  notes  \n",
       "0   2.866071  0.016466    NaN  \n",
       "1   3.181052  0.040659    NaN  \n",
       "2   3.118056  0.045020    NaN  \n",
       "3   2.992063  0.021001    NaN  \n",
       "4   2.677083  0.022829    NaN  \n",
       "\n",
       "[5 rows x 40 columns]"
      ]
     },
     "execution_count": 5,
     "metadata": {},
     "output_type": "execute_result"
    }
   ],
   "source": [
    "warbler_df.head()"
   ]
  },
  {
   "cell_type": "code",
   "execution_count": 6,
   "metadata": {},
   "outputs": [],
   "source": [
    "warbler_df = warbler_df.rename(columns={'sound.files': 'File Name'})"
   ]
  },
  {
   "cell_type": "code",
   "execution_count": 7,
   "metadata": {},
   "outputs": [
    {
     "name": "stdout",
     "output_type": "stream",
     "text": [
      "No of petrels calls NOT found by warbleR: 114\n",
      "No of petrels calls NOT found in labels: 93\n"
     ]
    }
   ],
   "source": [
    "extra_petrels_mask_labels = (labels_df['Species'] == 'Storm Petrel') & (~labels_df['overlap'])\n",
    "extra_petrels_mask_warbler = warbler_df['storm_petrel_ground_truth'] & (~warbler_df['overlap'])\n",
    "warbler_petrels_mask = warbler_df['storm_petrel_ground_truth'].astype(bool)\n",
    "print('No of petrels calls NOT found by warbleR:', sum(extra_petrels_mask_labels))\n",
    "print('No of petrels calls NOT found in labels:', sum(extra_petrels_mask_warbler))"
   ]
  },
  {
   "cell_type": "code",
   "execution_count": 8,
   "metadata": {},
   "outputs": [],
   "source": [
    "column_selection = ['File Name', 'Time Start', 'Time End', 'duration']\n",
    "warbler_petrels = warbler_df[warbler_petrels_mask][column_selection]\n",
    "warbler_petrels = warbler_petrels.rename(columns={'sound.files': 'File Name'})"
   ]
  },
  {
   "cell_type": "code",
   "execution_count": 9,
   "metadata": {},
   "outputs": [
    {
     "data": {
      "text/html": [
       "<div>\n",
       "<style scoped>\n",
       "    .dataframe tbody tr th:only-of-type {\n",
       "        vertical-align: middle;\n",
       "    }\n",
       "\n",
       "    .dataframe tbody tr th {\n",
       "        vertical-align: top;\n",
       "    }\n",
       "\n",
       "    .dataframe thead th {\n",
       "        text-align: right;\n",
       "    }\n",
       "</style>\n",
       "<table border=\"1\" class=\"dataframe\">\n",
       "  <thead>\n",
       "    <tr style=\"text-align: right;\">\n",
       "      <th></th>\n",
       "      <th>File Name</th>\n",
       "      <th>Time Start</th>\n",
       "      <th>Time End</th>\n",
       "      <th>duration</th>\n",
       "    </tr>\n",
       "  </thead>\n",
       "  <tbody>\n",
       "    <tr>\n",
       "      <th>0</th>\n",
       "      <td>STHELENA-02_20140605_200000_10</td>\n",
       "      <td>10.920001</td>\n",
       "      <td>11.527314</td>\n",
       "      <td>0.607313</td>\n",
       "    </tr>\n",
       "    <tr>\n",
       "      <th>1</th>\n",
       "      <td>STHELENA-02_20140605_200000_10</td>\n",
       "      <td>19.955440</td>\n",
       "      <td>20.619502</td>\n",
       "      <td>0.664063</td>\n",
       "    </tr>\n",
       "    <tr>\n",
       "      <th>2</th>\n",
       "      <td>STHELENA-02_20140605_200000_10</td>\n",
       "      <td>20.296877</td>\n",
       "      <td>21.140940</td>\n",
       "      <td>0.844063</td>\n",
       "    </tr>\n",
       "    <tr>\n",
       "      <th>3</th>\n",
       "      <td>STHELENA-02_20140605_200000_10</td>\n",
       "      <td>20.700627</td>\n",
       "      <td>21.367252</td>\n",
       "      <td>0.666625</td>\n",
       "    </tr>\n",
       "    <tr>\n",
       "      <th>4</th>\n",
       "      <td>STHELENA-02_20140605_200000_10</td>\n",
       "      <td>20.899127</td>\n",
       "      <td>21.600002</td>\n",
       "      <td>0.700875</td>\n",
       "    </tr>\n",
       "  </tbody>\n",
       "</table>\n",
       "</div>"
      ],
      "text/plain": [
       "                        File Name  Time Start   Time End  duration\n",
       "0  STHELENA-02_20140605_200000_10   10.920001  11.527314  0.607313\n",
       "1  STHELENA-02_20140605_200000_10   19.955440  20.619502  0.664063\n",
       "2  STHELENA-02_20140605_200000_10   20.296877  21.140940  0.844063\n",
       "3  STHELENA-02_20140605_200000_10   20.700627  21.367252  0.666625\n",
       "4  STHELENA-02_20140605_200000_10   20.899127  21.600002  0.700875"
      ]
     },
     "execution_count": 9,
     "metadata": {},
     "output_type": "execute_result"
    }
   ],
   "source": [
    "warbler_petrels.head()"
   ]
  },
  {
   "cell_type": "code",
   "execution_count": 10,
   "metadata": {},
   "outputs": [
    {
     "data": {
      "text/plain": [
       "0.6726804123711341"
      ]
     },
     "execution_count": 10,
     "metadata": {},
     "output_type": "execute_result"
    }
   ],
   "source": [
    "sum(labels_df['overlap']) / len(labels_df)"
   ]
  },
  {
   "cell_type": "code",
   "execution_count": 11,
   "metadata": {},
   "outputs": [],
   "source": [
    "extra_petrels_labels = labels_df[extra_petrels_mask_labels].copy()\n",
    "extra_petrels_labels['duration'] = labels_df[extra_petrels_mask_labels]['Time End'] - labels_df[extra_petrels_mask_labels]['Time Start']\n",
    "extra_petrels_labels = extra_petrels_labels[column_selection]"
   ]
  },
  {
   "cell_type": "code",
   "execution_count": 12,
   "metadata": {},
   "outputs": [
    {
     "data": {
      "text/html": [
       "<div>\n",
       "<style scoped>\n",
       "    .dataframe tbody tr th:only-of-type {\n",
       "        vertical-align: middle;\n",
       "    }\n",
       "\n",
       "    .dataframe tbody tr th {\n",
       "        vertical-align: top;\n",
       "    }\n",
       "\n",
       "    .dataframe thead th {\n",
       "        text-align: right;\n",
       "    }\n",
       "</style>\n",
       "<table border=\"1\" class=\"dataframe\">\n",
       "  <thead>\n",
       "    <tr style=\"text-align: right;\">\n",
       "      <th></th>\n",
       "      <th>File Name</th>\n",
       "      <th>Time Start</th>\n",
       "      <th>Time End</th>\n",
       "      <th>duration</th>\n",
       "    </tr>\n",
       "  </thead>\n",
       "  <tbody>\n",
       "    <tr>\n",
       "      <th>6</th>\n",
       "      <td>STHELENA-02_20140605_200000_1</td>\n",
       "      <td>47.134</td>\n",
       "      <td>52.944</td>\n",
       "      <td>5.810</td>\n",
       "    </tr>\n",
       "    <tr>\n",
       "      <th>7</th>\n",
       "      <td>STHELENA-02_20140605_200000_1</td>\n",
       "      <td>60.692</td>\n",
       "      <td>61.984</td>\n",
       "      <td>1.292</td>\n",
       "    </tr>\n",
       "    <tr>\n",
       "      <th>9</th>\n",
       "      <td>STHELENA-02_20140605_200000_1</td>\n",
       "      <td>67.472</td>\n",
       "      <td>68.763</td>\n",
       "      <td>1.291</td>\n",
       "    </tr>\n",
       "    <tr>\n",
       "      <th>10</th>\n",
       "      <td>STHELENA-02_20140605_200000_1</td>\n",
       "      <td>73.606</td>\n",
       "      <td>75.543</td>\n",
       "      <td>1.937</td>\n",
       "    </tr>\n",
       "    <tr>\n",
       "      <th>22</th>\n",
       "      <td>STHELENA-02_20140605_200000_1</td>\n",
       "      <td>173.038</td>\n",
       "      <td>174.329</td>\n",
       "      <td>1.291</td>\n",
       "    </tr>\n",
       "    <tr>\n",
       "      <th>23</th>\n",
       "      <td>STHELENA-02_20140605_200000_1</td>\n",
       "      <td>184.983</td>\n",
       "      <td>185.629</td>\n",
       "      <td>0.646</td>\n",
       "    </tr>\n",
       "    <tr>\n",
       "      <th>24</th>\n",
       "      <td>STHELENA-02_20140605_200000_1</td>\n",
       "      <td>195.959</td>\n",
       "      <td>197.250</td>\n",
       "      <td>1.291</td>\n",
       "    </tr>\n",
       "    <tr>\n",
       "      <th>25</th>\n",
       "      <td>STHELENA-02_20140605_200000_1</td>\n",
       "      <td>218.235</td>\n",
       "      <td>219.849</td>\n",
       "      <td>1.614</td>\n",
       "    </tr>\n",
       "    <tr>\n",
       "      <th>26</th>\n",
       "      <td>STHELENA-02_20140605_200000_1</td>\n",
       "      <td>229.211</td>\n",
       "      <td>230.502</td>\n",
       "      <td>1.291</td>\n",
       "    </tr>\n",
       "    <tr>\n",
       "      <th>27</th>\n",
       "      <td>STHELENA-02_20140605_200000_1</td>\n",
       "      <td>231.148</td>\n",
       "      <td>231.794</td>\n",
       "      <td>0.646</td>\n",
       "    </tr>\n",
       "  </tbody>\n",
       "</table>\n",
       "</div>"
      ],
      "text/plain": [
       "                        File Name  Time Start  Time End  duration\n",
       "6   STHELENA-02_20140605_200000_1      47.134    52.944     5.810\n",
       "7   STHELENA-02_20140605_200000_1      60.692    61.984     1.292\n",
       "9   STHELENA-02_20140605_200000_1      67.472    68.763     1.291\n",
       "10  STHELENA-02_20140605_200000_1      73.606    75.543     1.937\n",
       "22  STHELENA-02_20140605_200000_1     173.038   174.329     1.291\n",
       "23  STHELENA-02_20140605_200000_1     184.983   185.629     0.646\n",
       "24  STHELENA-02_20140605_200000_1     195.959   197.250     1.291\n",
       "25  STHELENA-02_20140605_200000_1     218.235   219.849     1.614\n",
       "26  STHELENA-02_20140605_200000_1     229.211   230.502     1.291\n",
       "27  STHELENA-02_20140605_200000_1     231.148   231.794     0.646"
      ]
     },
     "execution_count": 12,
     "metadata": {},
     "output_type": "execute_result"
    }
   ],
   "source": [
    "extra_petrels_labels.head(10)"
   ]
  },
  {
   "cell_type": "code",
   "execution_count": 13,
   "metadata": {},
   "outputs": [],
   "source": [
    "df = pd.concat([warbler_petrels, extra_petrels_labels], axis=0)"
   ]
  },
  {
   "cell_type": "code",
   "execution_count": 36,
   "metadata": {},
   "outputs": [],
   "source": [
    "def split_long(df, max_len):\n",
    "\n",
    "    split = []\n",
    "\n",
    "    for idx, row in df.iterrows():\n",
    "        start = row['Time Start']\n",
    "        end = row['Time End']\n",
    "\n",
    "        start_r = np.arange(start, end, max_len / 2)\n",
    "        if len(start_r) == 1 or len(start_r) == 2:\n",
    "            split.append((idx, row['File Name'], start, end))\n",
    "        end_r = start_r + max_len\n",
    "        end_r = end_r[end_r < end]\n",
    "        start_r = start_r[:len(end_r)]\n",
    "        for s, e in zip(start_r, end_r):\n",
    "            split.append((idx, row['File Name'], s, e))\n",
    "    df = pd.DataFrame.from_records(split, columns=['idx', 'File Name', 'Time Start', 'Time End'])\n",
    "    \n",
    "    return df"
   ]
  },
  {
   "cell_type": "code",
   "execution_count": 37,
   "metadata": {},
   "outputs": [],
   "source": [
    "df_all_patrels = split_long(df, max_len=0.8)"
   ]
  },
  {
   "cell_type": "code",
   "execution_count": 38,
   "metadata": {},
   "outputs": [],
   "source": [
    "# df_all_patrels.to_csv('petrels.csv', index=False)\n",
    "# df.to_csv('petrels_all.csv',index=False,  float_format='%.2f')"
   ]
  },
  {
   "cell_type": "code",
   "execution_count": 39,
   "metadata": {},
   "outputs": [],
   "source": [
    "df_noddy = labels_df[labels_df['Species'] == 'Brown Noddy']"
   ]
  },
  {
   "cell_type": "code",
   "execution_count": 44,
   "metadata": {},
   "outputs": [],
   "source": [
    "df_noddy_split = split_long(df_noddy, max_len=0.8)"
   ]
  },
  {
   "cell_type": "code",
   "execution_count": 50,
   "metadata": {},
   "outputs": [],
   "source": [
    "fp_mask = (~warbler_df['storm_petrel_ground_truth']) & (~warbler_df['overlap'])\n",
    "fp = warbler_df[fp][['File Name', 'Time Start', 'Time End', 'duration']]"
   ]
  },
  {
   "cell_type": "code",
   "execution_count": 52,
   "metadata": {},
   "outputs": [
    {
     "data": {
      "text/plain": [
       "88"
      ]
     },
     "execution_count": 52,
     "metadata": {},
     "output_type": "execute_result"
    }
   ],
   "source": [
    "len(fp)"
   ]
  },
  {
   "cell_type": "code",
   "execution_count": 53,
   "metadata": {},
   "outputs": [
    {
     "data": {
      "text/plain": [
       "259"
      ]
     },
     "execution_count": 53,
     "metadata": {},
     "output_type": "execute_result"
    }
   ],
   "source": [
    "len(df_noddy_split)"
   ]
  },
  {
   "cell_type": "code",
   "execution_count": null,
   "metadata": {},
   "outputs": [],
   "source": []
  }
 ],
 "metadata": {
  "kernelspec": {
   "display_name": "Python 3",
   "language": "python",
   "name": "python3"
  },
  "language_info": {
   "codemirror_mode": {
    "name": "ipython",
    "version": 3
   },
   "file_extension": ".py",
   "mimetype": "text/x-python",
   "name": "python",
   "nbconvert_exporter": "python",
   "pygments_lexer": "ipython3",
   "version": "3.5.2"
  }
 },
 "nbformat": 4,
 "nbformat_minor": 2
}
