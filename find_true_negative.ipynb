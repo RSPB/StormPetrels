{
 "cells": [
  {
   "cell_type": "code",
   "execution_count": 1,
   "metadata": {},
   "outputs": [],
   "source": [
    "import os\n",
    "import glob\n",
    "import gcsfs\n",
    "import numpy as np\n",
    "import pandas as pd"
   ]
  },
  {
   "cell_type": "code",
   "execution_count": 3,
   "metadata": {},
   "outputs": [],
   "source": [
    "fs = gcsfs.GCSFileSystem(project='birdman-project')\n",
    "with fs.open('storm-petrels/samples/features/features_warbler_buffer_250ms.csv') as f:\n",
    "    warbler_df = pd.read_csv(f)\n",
    "with fs.open('storm-petrels/samples/labels/sthelena_labels_overlap.csv') as f:\n",
    "    labels_df = pd.read_csv(f)"
   ]
  },
  {
   "cell_type": "code",
   "execution_count": null,
   "metadata": {},
   "outputs": [],
   "source": [
    "labels_df.head()"
   ]
  },
  {
   "cell_type": "code",
   "execution_count": null,
   "metadata": {},
   "outputs": [],
   "source": [
    "warbler_df.head()"
   ]
  },
  {
   "cell_type": "code",
   "execution_count": null,
   "metadata": {},
   "outputs": [],
   "source": [
    "warbler_df = warbler_df.rename(columns={'sound.files': 'File Name'})"
   ]
  },
  {
   "cell_type": "code",
   "execution_count": null,
   "metadata": {},
   "outputs": [],
   "source": [
    "extra_petrels_mask_labels = (labels_df['Species'] == 'Storm Petrel') & (~labels_df['overlap'])\n",
    "extra_petrels_mask_warbler = warbler_df['storm_petrel_ground_truth'] & (~warbler_df['overlap'])\n",
    "warbler_petrels_mask = warbler_df['storm_petrel_ground_truth'].astype(bool)\n",
    "print('No of petrels calls NOT found by warbleR:', sum(extra_petrels_mask_labels))\n",
    "print('No of petrels calls NOT found in labels:', sum(extra_petrels_mask_warbler))"
   ]
  },
  {
   "cell_type": "code",
   "execution_count": null,
   "metadata": {},
   "outputs": [],
   "source": [
    "column_selection = ['File Name', 'Time Start', 'Time End', 'duration']\n",
    "warbler_petrels = warbler_df[warbler_petrels_mask][column_selection]\n",
    "warbler_petrels = warbler_petrels.rename(columns={'sound.files': 'File Name'})"
   ]
  },
  {
   "cell_type": "code",
   "execution_count": null,
   "metadata": {},
   "outputs": [],
   "source": [
    "warbler_petrels.head()"
   ]
  },
  {
   "cell_type": "code",
   "execution_count": null,
   "metadata": {},
   "outputs": [],
   "source": [
    "sum(labels_df['overlap']) / len(labels_df)"
   ]
  },
  {
   "cell_type": "code",
   "execution_count": null,
   "metadata": {},
   "outputs": [],
   "source": [
    "extra_petrels_labels = labels_df[extra_petrels_mask_labels].copy()\n",
    "extra_petrels_labels['duration'] = labels_df[extra_petrels_mask_labels]['Time End'] - labels_df[extra_petrels_mask_labels]['Time Start']\n",
    "extra_petrels_labels = extra_petrels_labels[column_selection]"
   ]
  },
  {
   "cell_type": "code",
   "execution_count": null,
   "metadata": {},
   "outputs": [],
   "source": [
    "extra_petrels_labels.head(10)"
   ]
  },
  {
   "cell_type": "code",
   "execution_count": null,
   "metadata": {},
   "outputs": [],
   "source": [
    "df = pd.concat([warbler_petrels, extra_petrels_labels], axis=0)"
   ]
  },
  {
   "cell_type": "code",
   "execution_count": null,
   "metadata": {},
   "outputs": [],
   "source": [
    "def split_long(df, max_len):\n",
    "\n",
    "    split = []\n",
    "\n",
    "    for idx, row in df.iterrows():\n",
    "        start = row['Time Start']\n",
    "        end = row['Time End']\n",
    "\n",
    "        start_r = np.arange(start, end, max_len / 2)\n",
    "        if len(start_r) == 1 or len(start_r) == 2:\n",
    "            split.append((idx, row['File Name'], start, end))\n",
    "        end_r = start_r + max_len\n",
    "        end_r = end_r[end_r < end]\n",
    "        start_r = start_r[:len(end_r)]\n",
    "        for s, e in zip(start_r, end_r):\n",
    "            split.append((idx, row['File Name'], s, e))\n",
    "    df = pd.DataFrame.from_records(split, columns=['idx', 'File Name', 'Time Start', 'Time End'])\n",
    "    \n",
    "    return df"
   ]
  },
  {
   "cell_type": "code",
   "execution_count": null,
   "metadata": {},
   "outputs": [],
   "source": [
    "df_all_patrels = split_long(df, max_len=0.8)"
   ]
  },
  {
   "cell_type": "code",
   "execution_count": null,
   "metadata": {},
   "outputs": [],
   "source": [
    "# df_all_patrels.to_csv('petrels.csv', index=False)\n",
    "# df.to_csv('petrels_all.csv',index=False,  float_format='%.2f')"
   ]
  },
  {
   "cell_type": "code",
   "execution_count": null,
   "metadata": {},
   "outputs": [],
   "source": [
    "df_noddy = labels_df[labels_df['Species'] == 'Brown Noddy']"
   ]
  },
  {
   "cell_type": "code",
   "execution_count": null,
   "metadata": {},
   "outputs": [],
   "source": [
    "df_noddy_split = split_long(df_noddy, max_len=0.8)"
   ]
  },
  {
   "cell_type": "code",
   "execution_count": null,
   "metadata": {},
   "outputs": [],
   "source": [
    "fp_mask = (~warbler_df['storm_petrel_ground_truth']) & (~warbler_df['overlap'])\n",
    "fp = warbler_df[fp][['File Name', 'Time Start', 'Time End', 'duration']]"
   ]
  },
  {
   "cell_type": "code",
   "execution_count": null,
   "metadata": {},
   "outputs": [],
   "source": [
    "len(fp)"
   ]
  },
  {
   "cell_type": "code",
   "execution_count": null,
   "metadata": {},
   "outputs": [],
   "source": [
    "len(df_noddy_split)"
   ]
  },
  {
   "cell_type": "code",
   "execution_count": null,
   "metadata": {},
   "outputs": [],
   "source": []
  }
 ],
 "metadata": {
  "kernelspec": {
   "display_name": "Python 3",
   "language": "python",
   "name": "python3"
  },
  "language_info": {
   "codemirror_mode": {
    "name": "ipython",
    "version": 3
   },
   "file_extension": ".py",
   "mimetype": "text/x-python",
   "name": "python",
   "nbconvert_exporter": "python",
   "pygments_lexer": "ipython3",
   "version": "3.6.5"
  }
 },
 "nbformat": 4,
 "nbformat_minor": 2
}
