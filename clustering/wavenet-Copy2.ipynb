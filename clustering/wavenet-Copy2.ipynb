{
 "cells": [
  {
   "cell_type": "code",
   "execution_count": null,
   "metadata": {},
   "outputs": [],
   "source": [
    "import os\n",
    "import glob\n",
    "import numpy as np\n",
    "import librosa\n",
    "from magenta.models.nsynth import utils\n",
    "from magenta.models.nsynth.wavenet import fastgen"
   ]
  },
  {
   "cell_type": "code",
   "execution_count": null,
   "metadata": {},
   "outputs": [],
   "source": [
    "model_path = '/mnt/data/Birdman/models/wavenet-ckpt/model.ckpt-200000'\n",
    "sample_size = 32000\n",
    "batch_size = 50"
   ]
  },
  {
   "cell_type": "code",
   "execution_count": null,
   "metadata": {},
   "outputs": [],
   "source": [
    "def rolling_window(a, window, overlap, copy = False):\n",
    "    sh = (a.size - window + 1, window)\n",
    "    st = a.strides * 2\n",
    "    view = np.lib.stride_tricks.as_strided(a, strides = st, shape = sh)[0::overlap]\n",
    "    if copy:\n",
    "        return view.copy()\n",
    "    else:\n",
    "        return view\n",
    "    \n",
    "def batch_array(a, batch_len):\n",
    "    idx = list(range(0, len(a), batch_len))\n",
    "    if idx[-1] != len(a):\n",
    "        idx += [len(a)]\n",
    "    for start, end in zip(idx[:-1], idx[1:]):\n",
    "        yield a[start:end]\n",
    "        \n",
    "def get_name_from_path(path):\n",
    "    name = os.path.splitext(os.path.basename(path))[0]\n",
    "    return name"
   ]
  },
  {
   "cell_type": "code",
   "execution_count": null,
   "metadata": {},
   "outputs": [],
   "source": [
    "recordings_paths = glob.glob('/mnt/data/Birdman/full/*.wav')\n",
    "completed_names = [get_name_from_path(path) for path in glob.glob('*.npy')]\n",
    "completed_names"
   ]
  },
  {
   "cell_type": "code",
   "execution_count": null,
   "metadata": {},
   "outputs": [],
   "source": [
    "d = {}\n",
    "encodings = []\n",
    "\n",
    "for path in recordings_paths:\n",
    "    name = get_name_from_path(path)\n",
    "    if name in completed_names:\n",
    "        print('Skipping', name)\n",
    "    else:\n",
    "        print('Processing', name)\n",
    "        y, sr = librosa.load(path, sr=None)\n",
    "        samples = rolling_window(y, sample_size, sample_size // 2)\n",
    "        for sample in batch_array(samples, batch_size):\n",
    "            encoding = fastgen.encode(wav_data=sample, checkpoint_path=model_path, sample_length=sample_size)\n",
    "            encodings.append(encoding)\n",
    "        full_enc = np.vstack(encodings)\n",
    "        d[name] = full_enc\n",
    "        np.save(name, full_enc)"
   ]
  },
  {
   "cell_type": "code",
   "execution_count": null,
   "metadata": {},
   "outputs": [],
   "source": [
    "d"
   ]
  },
  {
   "cell_type": "code",
   "execution_count": null,
   "metadata": {},
   "outputs": [],
   "source": []
  }
 ],
 "metadata": {
  "kernelspec": {
   "display_name": "Python 3",
   "language": "python",
   "name": "python3"
  },
  "language_info": {
   "codemirror_mode": {
    "name": "ipython",
    "version": 3
   },
   "file_extension": ".py",
   "mimetype": "text/x-python",
   "name": "python",
   "nbconvert_exporter": "python",
   "pygments_lexer": "ipython3",
   "version": "3.6.6"
  }
 },
 "nbformat": 4,
 "nbformat_minor": 2
}
