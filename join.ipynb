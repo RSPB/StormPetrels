{
 "cells": [
  {
   "cell_type": "code",
   "execution_count": 1,
   "metadata": {},
   "outputs": [],
   "source": [
    "import os\n",
    "import pandas as pd\n",
    "from birdutils import read_labels"
   ]
  },
  {
   "cell_type": "code",
   "execution_count": 16,
   "metadata": {},
   "outputs": [
    {
     "name": "stdout",
     "output_type": "stream",
     "text": [
      "Found signals:  1084\n",
      "Labelled calls:  388\n"
     ]
    }
   ],
   "source": [
    "features = pd.read_csv('/mnt/data/Birdman/results/warbler/features.csv')\n",
    "labels_dict = read_labels('/mnt/data/Birdman/sthelena_labels.xls')\n",
    "feature_group = features.groupby('sound.files', group_keys=True)\n",
    "labels_all = pd.concat(labels_dict, axis=0, ignore_index=True)\n",
    "print('Found signals: ', len(features))\n",
    "print('Labelled calls: ', len(labels_all))"
   ]
  },
  {
   "cell_type": "code",
   "execution_count": 17,
   "metadata": {},
   "outputs": [
    {
     "data": {
      "text/html": [
       "<div>\n",
       "<style scoped>\n",
       "    .dataframe tbody tr th:only-of-type {\n",
       "        vertical-align: middle;\n",
       "    }\n",
       "\n",
       "    .dataframe tbody tr th {\n",
       "        vertical-align: top;\n",
       "    }\n",
       "\n",
       "    .dataframe thead th {\n",
       "        text-align: right;\n",
       "    }\n",
       "</style>\n",
       "<table border=\"1\" class=\"dataframe\">\n",
       "  <thead>\n",
       "    <tr style=\"text-align: right;\">\n",
       "      <th></th>\n",
       "      <th>sound.files</th>\n",
       "      <th>selec</th>\n",
       "      <th>duration</th>\n",
       "      <th>meanfreq</th>\n",
       "      <th>sd</th>\n",
       "      <th>freq.median</th>\n",
       "      <th>freq.Q25</th>\n",
       "      <th>freq.Q75</th>\n",
       "      <th>freq.IQR</th>\n",
       "      <th>time.median</th>\n",
       "      <th>...</th>\n",
       "      <th>maxdom</th>\n",
       "      <th>dfrange</th>\n",
       "      <th>modindx</th>\n",
       "      <th>startdom</th>\n",
       "      <th>enddom</th>\n",
       "      <th>dfslope</th>\n",
       "      <th>meanpeakf</th>\n",
       "      <th>peakf</th>\n",
       "      <th>start</th>\n",
       "      <th>end</th>\n",
       "    </tr>\n",
       "  </thead>\n",
       "  <tbody>\n",
       "    <tr>\n",
       "      <th>0</th>\n",
       "      <td>STHELENA-02_20140605_200000_10.wav</td>\n",
       "      <td>1</td>\n",
       "      <td>0.080426</td>\n",
       "      <td>2.882945</td>\n",
       "      <td>1.210451</td>\n",
       "      <td>2.854772</td>\n",
       "      <td>2.282158</td>\n",
       "      <td>3.053942</td>\n",
       "      <td>0.771784</td>\n",
       "      <td>0.030164</td>\n",
       "      <td>...</td>\n",
       "      <td>2.9375</td>\n",
       "      <td>1.4375</td>\n",
       "      <td>2.043478</td>\n",
       "      <td>2.9375</td>\n",
       "      <td>2.7500</td>\n",
       "      <td>-2.331338</td>\n",
       "      <td>2.866071</td>\n",
       "      <td>0.037296</td>\n",
       "      <td>11.183444</td>\n",
       "      <td>11.263869</td>\n",
       "    </tr>\n",
       "    <tr>\n",
       "      <th>1</th>\n",
       "      <td>STHELENA-02_20140605_200000_10.wav</td>\n",
       "      <td>2</td>\n",
       "      <td>0.137176</td>\n",
       "      <td>2.966202</td>\n",
       "      <td>1.194502</td>\n",
       "      <td>3.051095</td>\n",
       "      <td>1.817518</td>\n",
       "      <td>3.627737</td>\n",
       "      <td>1.810219</td>\n",
       "      <td>0.082312</td>\n",
       "      <td>...</td>\n",
       "      <td>3.6250</td>\n",
       "      <td>2.6250</td>\n",
       "      <td>4.809524</td>\n",
       "      <td>2.5625</td>\n",
       "      <td>2.8125</td>\n",
       "      <td>1.822477</td>\n",
       "      <td>1.795139</td>\n",
       "      <td>0.036446</td>\n",
       "      <td>20.218882</td>\n",
       "      <td>20.356058</td>\n",
       "    </tr>\n",
       "    <tr>\n",
       "      <th>2</th>\n",
       "      <td>STHELENA-02_20140605_200000_10.wav</td>\n",
       "      <td>3</td>\n",
       "      <td>0.317176</td>\n",
       "      <td>2.802401</td>\n",
       "      <td>1.057195</td>\n",
       "      <td>2.851735</td>\n",
       "      <td>2.164038</td>\n",
       "      <td>3.097792</td>\n",
       "      <td>0.933754</td>\n",
       "      <td>0.162880</td>\n",
       "      <td>...</td>\n",
       "      <td>3.1250</td>\n",
       "      <td>2.1250</td>\n",
       "      <td>8.764706</td>\n",
       "      <td>1.9375</td>\n",
       "      <td>2.6875</td>\n",
       "      <td>2.364618</td>\n",
       "      <td>3.118056</td>\n",
       "      <td>3.017143</td>\n",
       "      <td>20.560320</td>\n",
       "      <td>20.877496</td>\n",
       "    </tr>\n",
       "  </tbody>\n",
       "</table>\n",
       "<p>3 rows × 34 columns</p>\n",
       "</div>"
      ],
      "text/plain": [
       "                          sound.files  selec  duration  meanfreq        sd  \\\n",
       "0  STHELENA-02_20140605_200000_10.wav      1  0.080426  2.882945  1.210451   \n",
       "1  STHELENA-02_20140605_200000_10.wav      2  0.137176  2.966202  1.194502   \n",
       "2  STHELENA-02_20140605_200000_10.wav      3  0.317176  2.802401  1.057195   \n",
       "\n",
       "   freq.median  freq.Q25  freq.Q75  freq.IQR  time.median    ...      maxdom  \\\n",
       "0     2.854772  2.282158  3.053942  0.771784     0.030164    ...      2.9375   \n",
       "1     3.051095  1.817518  3.627737  1.810219     0.082312    ...      3.6250   \n",
       "2     2.851735  2.164038  3.097792  0.933754     0.162880    ...      3.1250   \n",
       "\n",
       "   dfrange   modindx  startdom  enddom   dfslope  meanpeakf     peakf  \\\n",
       "0   1.4375  2.043478    2.9375  2.7500 -2.331338   2.866071  0.037296   \n",
       "1   2.6250  4.809524    2.5625  2.8125  1.822477   1.795139  0.036446   \n",
       "2   2.1250  8.764706    1.9375  2.6875  2.364618   3.118056  3.017143   \n",
       "\n",
       "       start        end  \n",
       "0  11.183444  11.263869  \n",
       "1  20.218882  20.356058  \n",
       "2  20.560320  20.877496  \n",
       "\n",
       "[3 rows x 34 columns]"
      ]
     },
     "execution_count": 17,
     "metadata": {},
     "output_type": "execute_result"
    }
   ],
   "source": [
    "features.head(3)"
   ]
  },
  {
   "cell_type": "code",
   "execution_count": 18,
   "metadata": {},
   "outputs": [
    {
     "data": {
      "text/html": [
       "<div>\n",
       "<style scoped>\n",
       "    .dataframe tbody tr th:only-of-type {\n",
       "        vertical-align: middle;\n",
       "    }\n",
       "\n",
       "    .dataframe tbody tr th {\n",
       "        vertical-align: top;\n",
       "    }\n",
       "\n",
       "    .dataframe thead th {\n",
       "        text-align: right;\n",
       "    }\n",
       "</style>\n",
       "<table border=\"1\" class=\"dataframe\">\n",
       "  <thead>\n",
       "    <tr style=\"text-align: right;\">\n",
       "      <th></th>\n",
       "      <th>Date</th>\n",
       "      <th>File Name</th>\n",
       "      <th>Type of Call</th>\n",
       "      <th>Time Start</th>\n",
       "      <th>Time End</th>\n",
       "      <th>Species</th>\n",
       "      <th>Notes</th>\n",
       "    </tr>\n",
       "  </thead>\n",
       "  <tbody>\n",
       "    <tr>\n",
       "      <th>0</th>\n",
       "      <td>2014-06-05</td>\n",
       "      <td>STHELENA-02_20140605_200000_1</td>\n",
       "      <td>Flight Call</td>\n",
       "      <td>2.905</td>\n",
       "      <td>4.197</td>\n",
       "      <td>Storm Petrel</td>\n",
       "      <td>NaN</td>\n",
       "    </tr>\n",
       "    <tr>\n",
       "      <th>1</th>\n",
       "      <td>2014-06-05</td>\n",
       "      <td>STHELENA-02_20140605_200000_1</td>\n",
       "      <td>Flight Call</td>\n",
       "      <td>10.008</td>\n",
       "      <td>11.622</td>\n",
       "      <td>Storm Petrel</td>\n",
       "      <td>NaN</td>\n",
       "    </tr>\n",
       "    <tr>\n",
       "      <th>2</th>\n",
       "      <td>2014-06-05</td>\n",
       "      <td>STHELENA-02_20140605_200000_1</td>\n",
       "      <td>Flight Call</td>\n",
       "      <td>14.527</td>\n",
       "      <td>16.464</td>\n",
       "      <td>Storm Petrel</td>\n",
       "      <td>NaN</td>\n",
       "    </tr>\n",
       "  </tbody>\n",
       "</table>\n",
       "</div>"
      ],
      "text/plain": [
       "        Date                      File Name Type of Call  Time Start  \\\n",
       "0 2014-06-05  STHELENA-02_20140605_200000_1  Flight Call       2.905   \n",
       "1 2014-06-05  STHELENA-02_20140605_200000_1  Flight Call      10.008   \n",
       "2 2014-06-05  STHELENA-02_20140605_200000_1  Flight Call      14.527   \n",
       "\n",
       "   Time End       Species Notes  \n",
       "0     4.197  Storm Petrel   NaN  \n",
       "1    11.622  Storm Petrel   NaN  \n",
       "2    16.464  Storm Petrel   NaN  "
      ]
     },
     "execution_count": 18,
     "metadata": {},
     "output_type": "execute_result"
    }
   ],
   "source": [
    "labels_all.head(3)"
   ]
  },
  {
   "cell_type": "code",
   "execution_count": 19,
   "metadata": {},
   "outputs": [],
   "source": [
    "def find_overlap(df, labels):\n",
    "    label_start = labels['Time Start']\n",
    "    label_end = labels['Time End']\n",
    "    \n",
    "    result = []\n",
    "\n",
    "    for index, row in df.iterrows():\n",
    "        start = row['start']\n",
    "        end = row['end']\n",
    "        overlap = any((label_start <= end) & (label_end >= start))\n",
    "        result.append(overlap)\n",
    "        # print('start {} end {} overlap {}'.format(start, end, overlap))\n",
    "    return result"
   ]
  },
  {
   "cell_type": "code",
   "execution_count": 28,
   "metadata": {},
   "outputs": [],
   "source": [
    "def fun(group):\n",
    "    name = group.name\n",
    "    print(type(group))\n",
    "    return name\n",
    "#     name = os.path.splitext(name)[0]\n",
    "#     label_df = labels[name]\n",
    "#     return find_overlap(group, label_df)"
   ]
  },
  {
   "cell_type": "code",
   "execution_count": 29,
   "metadata": {},
   "outputs": [
    {
     "name": "stdout",
     "output_type": "stream",
     "text": [
      "<class 'pandas.core.frame.DataFrame'>\n",
      "<class 'pandas.core.frame.DataFrame'>\n",
      "<class 'pandas.core.frame.DataFrame'>\n",
      "<class 'pandas.core.frame.DataFrame'>\n",
      "<class 'pandas.core.frame.DataFrame'>\n",
      "<class 'pandas.core.frame.DataFrame'>\n",
      "<class 'pandas.core.frame.DataFrame'>\n",
      "<class 'pandas.core.frame.DataFrame'>\n",
      "<class 'pandas.core.frame.DataFrame'>\n",
      "<class 'pandas.core.frame.DataFrame'>\n",
      "<class 'pandas.core.frame.DataFrame'>\n",
      "<class 'pandas.core.frame.DataFrame'>\n",
      "<class 'pandas.core.frame.DataFrame'>\n",
      "<class 'pandas.core.frame.DataFrame'>\n"
     ]
    }
   ],
   "source": [
    "x=feature_group.apply(fun)"
   ]
  },
  {
   "cell_type": "code",
   "execution_count": 30,
   "metadata": {},
   "outputs": [
    {
     "data": {
      "text/plain": [
       "sound.files\n",
       "STHELENA-02_20140605_200000_1.wav      STHELENA-02_20140605_200000_1.wav\n",
       "STHELENA-02_20140605_200000_10.wav    STHELENA-02_20140605_200000_10.wav\n",
       "STHELENA-02_20140605_200000_11.wav    STHELENA-02_20140605_200000_11.wav\n",
       "STHELENA-02_20140605_200000_12.wav    STHELENA-02_20140605_200000_12.wav\n",
       "STHELENA-02_20140605_200000_13.wav    STHELENA-02_20140605_200000_13.wav\n",
       "STHELENA-02_20140605_200000_2.wav      STHELENA-02_20140605_200000_2.wav\n",
       "STHELENA-02_20140605_200000_3.wav      STHELENA-02_20140605_200000_3.wav\n",
       "STHELENA-02_20140605_200000_4.wav      STHELENA-02_20140605_200000_4.wav\n",
       "STHELENA-02_20140605_200000_5.wav      STHELENA-02_20140605_200000_5.wav\n",
       "STHELENA-02_20140605_200000_6.wav      STHELENA-02_20140605_200000_6.wav\n",
       "STHELENA-02_20140605_200000_7.wav      STHELENA-02_20140605_200000_7.wav\n",
       "STHELENA-02_20140605_200000_8.wav      STHELENA-02_20140605_200000_8.wav\n",
       "STHELENA-02_20140605_200000_9.wav      STHELENA-02_20140605_200000_9.wav\n",
       "dtype: object"
      ]
     },
     "execution_count": 30,
     "metadata": {},
     "output_type": "execute_result"
    }
   ],
   "source": [
    "x"
   ]
  },
  {
   "cell_type": "code",
   "execution_count": null,
   "metadata": {},
   "outputs": [],
   "source": [
    "for name, feature in feature_group:\n",
    "    name = os.path.splitext(name)[0]\n",
    "    label_df = labels[name]\n",
    "    features.loc[] # feature['overlap'] = find_overlap(feature, label_df)"
   ]
  },
  {
   "cell_type": "code",
   "execution_count": null,
   "metadata": {},
   "outputs": [],
   "source": [
    "features.head(2).T"
   ]
  },
  {
   "cell_type": "code",
   "execution_count": null,
   "metadata": {},
   "outputs": [],
   "source": [
    "labels"
   ]
  },
  {
   "cell_type": "code",
   "execution_count": null,
   "metadata": {},
   "outputs": [],
   "source": [
    "y = features[features['sound.files'] == 'STHELENA-02_20140605_200000_1.wav']"
   ]
  },
  {
   "cell_type": "code",
   "execution_count": null,
   "metadata": {},
   "outputs": [],
   "source": [
    "x=labels['STHELENA-02_20140605_200000_1']"
   ]
  },
  {
   "cell_type": "code",
   "execution_count": null,
   "metadata": {},
   "outputs": [],
   "source": [
    "pd.DataFrame([])"
   ]
  },
  {
   "cell_type": "code",
   "execution_count": null,
   "metadata": {},
   "outputs": [],
   "source": [
    "pd.DataFrame({'start': {0: 4.197, 1: 11.622, 2: 16.464, 3: 18.724, 4: 21.307, 5: 34.866},\n",
    " 'end': {0: 2.9050000000000002, 1: 10.008, 2: 14.527, 3: 17.11, 4: 20.338, 5: 34.22}})"
   ]
  },
  {
   "cell_type": "code",
   "execution_count": null,
   "metadata": {},
   "outputs": [],
   "source": [
    "x[['Time End','Time Start']].head(5).to_dict()"
   ]
  },
  {
   "cell_type": "code",
   "execution_count": null,
   "metadata": {},
   "outputs": [],
   "source": [
    "y.head(10)[['start', 'end']].to_dict()"
   ]
  },
  {
   "cell_type": "code",
   "execution_count": null,
   "metadata": {},
   "outputs": [],
   "source": [
    "l = labels['STHELENA-02_20140605_200000_1']\n",
    "label_start = l['Time Start']\n",
    "label_end = l['Time End']\n",
    "\n",
    "for index, row in x.iterrows():\n",
    "    start = row['start']\n",
    "    end = row['end']\n",
    "    overlap = any((label_start <= end) & (label_end >= start))\n",
    "    print('start {} end {} overlap {}'.format(start, end, overlap))"
   ]
  },
  {
   "cell_type": "code",
   "execution_count": null,
   "metadata": {},
   "outputs": [],
   "source": [
    "start1=8.74100577821629\n",
    "end1=8.872431701910289\n",
    "\n",
    "start2=14.918006459232302\n",
    "end2=15.027494880507698"
   ]
  },
  {
   "cell_type": "code",
   "execution_count": null,
   "metadata": {},
   "outputs": [],
   "source": []
  },
  {
   "cell_type": "code",
   "execution_count": null,
   "metadata": {},
   "outputs": [],
   "source": [
    "(label_end >= start1)"
   ]
  },
  {
   "cell_type": "code",
   "execution_count": null,
   "metadata": {},
   "outputs": [],
   "source": [
    "label_start"
   ]
  },
  {
   "cell_type": "code",
   "execution_count": null,
   "metadata": {},
   "outputs": [],
   "source": [
    "label_start <= end"
   ]
  },
  {
   "cell_type": "code",
   "execution_count": null,
   "metadata": {},
   "outputs": [],
   "source": []
  }
 ],
 "metadata": {
  "kernelspec": {
   "display_name": "Python 3",
   "language": "python",
   "name": "python3"
  },
  "language_info": {
   "codemirror_mode": {
    "name": "ipython",
    "version": 3
   },
   "file_extension": ".py",
   "mimetype": "text/x-python",
   "name": "python",
   "nbconvert_exporter": "python",
   "pygments_lexer": "ipython3",
   "version": "3.5.2"
  }
 },
 "nbformat": 4,
 "nbformat_minor": 2
}
