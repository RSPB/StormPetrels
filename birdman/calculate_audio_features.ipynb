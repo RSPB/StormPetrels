{
 "cells": [
  {
   "cell_type": "code",
   "execution_count": 1,
   "metadata": {},
   "outputs": [],
   "source": [
    "import sys, os\n",
    "pardir = os.path.abspath(os.path.join(os.path.dirname('__file__'), os.path.pardir))\n",
    "sys.path.append(pardir)\n",
    "\n",
    "import numpy as np\n",
    "import yaafelib\n",
    "import matplotlib\n",
    "import matplotlib.pyplot as plt\n",
    "from collections import namedtuple\n",
    "from scipy.io import wavfile\n",
    "from read_labels import read_labels\n",
    "\n",
    "%matplotlib inline  "
   ]
  },
  {
   "cell_type": "code",
   "execution_count": 2,
   "metadata": {},
   "outputs": [],
   "source": [
    "path = '/mnt/data/Birdman/16khz//STHELENA-02_20140605_200000_1.wav'\n",
    "step_size = 512 # no. of samples\n",
    "\n",
    "rate, signal = wavfile.read(path)\n",
    "feature_plan = yaafelib.FeaturePlan(sample_rate=rate, normalize=True)\n",
    "success = feature_plan.loadFeaturePlan('features.config')\n",
    "engine = yaafelib.Engine()\n",
    "engine.load(feature_plan.getDataFlow())\n",
    "feats = engine.processAudio(signal.reshape(1, -1).astype('float64'))\n",
    "\n",
    "sheets = read_labels('/mnt/data/Birdman/sthelena_labels.xls')\n",
    "sheet_selected = sheets['STHELENA-02_20140605_200000_1']"
   ]
  },
  {
   "cell_type": "code",
   "execution_count": 3,
   "metadata": {},
   "outputs": [
    {
     "name": "stdout",
     "output_type": "stream",
     "text": [
      "No. of calls: 52\n"
     ]
    },
    {
     "data": {
      "text/html": [
       "<div>\n",
       "<style scoped>\n",
       "    .dataframe tbody tr th:only-of-type {\n",
       "        vertical-align: middle;\n",
       "    }\n",
       "\n",
       "    .dataframe tbody tr th {\n",
       "        vertical-align: top;\n",
       "    }\n",
       "\n",
       "    .dataframe thead th {\n",
       "        text-align: right;\n",
       "    }\n",
       "</style>\n",
       "<table border=\"1\" class=\"dataframe\">\n",
       "  <thead>\n",
       "    <tr style=\"text-align: right;\">\n",
       "      <th></th>\n",
       "      <th>Date</th>\n",
       "      <th>File Name</th>\n",
       "      <th>Type of Call</th>\n",
       "      <th>Time Start</th>\n",
       "      <th>Time End</th>\n",
       "      <th>Species</th>\n",
       "      <th>Notes</th>\n",
       "    </tr>\n",
       "  </thead>\n",
       "  <tbody>\n",
       "    <tr>\n",
       "      <th>0</th>\n",
       "      <td>2014-06-05</td>\n",
       "      <td>STHELENA-02_20140605_200000_1</td>\n",
       "      <td>Flight Call</td>\n",
       "      <td>2.905</td>\n",
       "      <td>4.197</td>\n",
       "      <td>Storm Petrel</td>\n",
       "      <td>NaN</td>\n",
       "    </tr>\n",
       "    <tr>\n",
       "      <th>1</th>\n",
       "      <td>2014-06-05</td>\n",
       "      <td>STHELENA-02_20140605_200000_1</td>\n",
       "      <td>Flight Call</td>\n",
       "      <td>10.008</td>\n",
       "      <td>11.622</td>\n",
       "      <td>Storm Petrel</td>\n",
       "      <td>NaN</td>\n",
       "    </tr>\n",
       "    <tr>\n",
       "      <th>2</th>\n",
       "      <td>2014-06-05</td>\n",
       "      <td>STHELENA-02_20140605_200000_1</td>\n",
       "      <td>Flight Call</td>\n",
       "      <td>14.527</td>\n",
       "      <td>16.464</td>\n",
       "      <td>Storm Petrel</td>\n",
       "      <td>NaN</td>\n",
       "    </tr>\n",
       "    <tr>\n",
       "      <th>3</th>\n",
       "      <td>2014-06-05</td>\n",
       "      <td>STHELENA-02_20140605_200000_1</td>\n",
       "      <td>Flight Call</td>\n",
       "      <td>17.110</td>\n",
       "      <td>18.724</td>\n",
       "      <td>Storm Petrel</td>\n",
       "      <td>NaN</td>\n",
       "    </tr>\n",
       "    <tr>\n",
       "      <th>4</th>\n",
       "      <td>2014-06-05</td>\n",
       "      <td>STHELENA-02_20140605_200000_1</td>\n",
       "      <td>Flight Call</td>\n",
       "      <td>20.338</td>\n",
       "      <td>21.307</td>\n",
       "      <td>Storm Petrel</td>\n",
       "      <td>NaN</td>\n",
       "    </tr>\n",
       "  </tbody>\n",
       "</table>\n",
       "</div>"
      ],
      "text/plain": [
       "        Date                      File Name Type of Call  Time Start  \\\n",
       "0 2014-06-05  STHELENA-02_20140605_200000_1  Flight Call       2.905   \n",
       "1 2014-06-05  STHELENA-02_20140605_200000_1  Flight Call      10.008   \n",
       "2 2014-06-05  STHELENA-02_20140605_200000_1  Flight Call      14.527   \n",
       "3 2014-06-05  STHELENA-02_20140605_200000_1  Flight Call      17.110   \n",
       "4 2014-06-05  STHELENA-02_20140605_200000_1  Flight Call      20.338   \n",
       "\n",
       "   Time End       Species Notes  \n",
       "0     4.197  Storm Petrel   NaN  \n",
       "1    11.622  Storm Petrel   NaN  \n",
       "2    16.464  Storm Petrel   NaN  \n",
       "3    18.724  Storm Petrel   NaN  \n",
       "4    21.307  Storm Petrel   NaN  "
      ]
     },
     "execution_count": 3,
     "metadata": {},
     "output_type": "execute_result"
    }
   ],
   "source": [
    "print('No. of calls: {}'.format(len(sheet_selected)))\n",
    "sheet_selected.head()"
   ]
  },
  {
   "cell_type": "code",
   "execution_count": 4,
   "metadata": {},
   "outputs": [],
   "source": [
    "Call = namedtuple('Call', ['start', 'end', 'features'])\n",
    "\n",
    "feature_lengths = []\n",
    "storm_petrel_calls = []\n",
    "\n",
    "for idx, row in sheet_selected.iterrows():\n",
    "    if row['Species'] == 'Storm Petrel':\n",
    "        start = int((row['Time Start'] * rate) / step_size)\n",
    "        end = int((row['Time End'] * rate) / step_size)\n",
    "        feature_lengths.append(end - start)\n",
    "        storm_petrel_call_feature = {}\n",
    "        for name, feature in feats.items():\n",
    "            storm_petrel_call_feature[name + '_mean'] = feature[start:end].mean(axis=0)\n",
    "            storm_petrel_call_feature[name + '_std'] = feature[start:end].std(axis=0)\n",
    "        storm_petrel_calls.append(Call(start, end, storm_petrel_call_feature))"
   ]
  },
  {
   "cell_type": "code",
   "execution_count": 9,
   "metadata": {
    "collapsed": true
   },
   "outputs": [
    {
     "data": {
      "text/plain": [
       "(35431, 257)"
      ]
     },
     "execution_count": 9,
     "metadata": {},
     "output_type": "execute_result"
    }
   ],
   "source": [
    "feats['MagnitudeSpectrum'].shape"
   ]
  },
  {
   "cell_type": "code",
   "execution_count": null,
   "metadata": {},
   "outputs": [],
   "source": []
  }
 ],
 "metadata": {
  "kernelspec": {
   "display_name": "Python 3",
   "language": "python",
   "name": "python3"
  },
  "language_info": {
   "codemirror_mode": {
    "name": "ipython",
    "version": 3
   },
   "file_extension": ".py",
   "mimetype": "text/x-python",
   "name": "python",
   "nbconvert_exporter": "python",
   "pygments_lexer": "ipython3",
   "version": "3.5.2"
  }
 },
 "nbformat": 4,
 "nbformat_minor": 2
}
