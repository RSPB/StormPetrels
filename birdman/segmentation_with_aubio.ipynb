{
 "cells": [
  {
   "cell_type": "code",
   "execution_count": 4,
   "metadata": {},
   "outputs": [],
   "source": [
    "import sys, os\n",
    "pardir = os.path.abspath(os.path.join(os.path.dirname('__file__'), os.path.pardir))\n",
    "sys.path.append(pardir)\n",
    "\n",
    "import numpy as np\n",
    "import librosa\n",
    "import librosa.display\n",
    "from scipy.io import wavfile\n",
    "from aubio import onset\n",
    "from scipy.signal import butter, lfilter\n",
    "import matplotlib.pyplot as plt\n",
    "import dsp\n",
    "\n",
    "from read_labels import read_labels\n",
    "\n",
    "%matplotlib inline"
   ]
  },
  {
   "cell_type": "code",
   "execution_count": 5,
   "metadata": {},
   "outputs": [
    {
     "name": "stderr",
     "output_type": "stream",
     "text": [
      "/home/tracek/.virtualenvs/ml/lib/python3.5/site-packages/pandas/util/_decorators.py:118: FutureWarning: The `sheetname` keyword is deprecated, use `sheet_name` instead\n",
      "  return func(*args, **kwargs)\n"
     ]
    }
   ],
   "source": [
    "rootdir = '/home/tracek/Data/Birdman/'\n",
    "filename = os.path.join(rootdir, 'raw/STHELENA-02_20140605_200000_1.wav')\n",
    "outdir = os.path.join(rootdir, 'raw/samples/')\n",
    "sheets = read_labels('/home/tracek/Data/Birdman/labels/sthelena_labels.xls')\n",
    "filename_noext = os.path.splitext(os.path.basename(filename))[0]\n",
    "\n",
    "# in seconds [s]\n",
    "signal_start_s = 0\n",
    "signal_end_s = 60\n",
    "\n",
    "sheet = sheets[filename_noext]\n",
    "condition = (sheet['Time Start'] > signal_start_s) & (sheet['Time End'] < signal_end_s)\n",
    "sheet_selected = sheet[condition]\n",
    "\n",
    "nfft = 512 # samples\n",
    "hop = nfft // 2"
   ]
  },
  {
   "cell_type": "code",
   "execution_count": 7,
   "metadata": {},
   "outputs": [],
   "source": [
    "y, sr = librosa.load(filename, sr=None)\n",
    "y = y[signal_start_s * sr: signal_end_s * sr]\n",
    "yh = dsp.highpass_filter(y, sr, highcut=500)"
   ]
  },
  {
   "cell_type": "code",
   "execution_count": 8,
   "metadata": {},
   "outputs": [],
   "source": [
    "def get_onsets(signal, sr, nfft, hop, unit='s'):\n",
    "    onsets = []\n",
    "\n",
    "    onset_detector_type = 'hfc'\n",
    "    onset_threshold = 0.01\n",
    "    onset_silence_threshold = -70\n",
    "\n",
    "    min_duration_s = 0.300\n",
    "\n",
    "    onset_detector = onset(onset_detector_type, nfft, hop, sr)\n",
    "    onset_detector.set_threshold(onset_threshold)\n",
    "    onset_detector.set_silence(onset_silence_threshold)\n",
    "    onset_detector.set_minioi_s(min_duration_s)\n",
    "\n",
    "    signal_windowed = np.array_split(signal, np.arange(hop, len(signal), hop))\n",
    "\n",
    "    for frame in signal_windowed[:-1]:\n",
    "        if onset_detector(frame):\n",
    "            if unit in {'seconds', 'second', 's'}:\n",
    "                onsets.append(onset_detector.get_last_s())\n",
    "            elif unit in {'sample', 'samples'}:\n",
    "                onsets.append(onset_detector.get_last())\n",
    "            else:\n",
    "                raise ValueError('Unknown unit provided to the onset detector')\n",
    "                \n",
    "    return onsets"
   ]
  },
  {
   "cell_type": "code",
   "execution_count": 9,
   "metadata": {},
   "outputs": [],
   "source": [
    "onsets_forward = np.array(get_onsets(yh, sr, nfft, hop, unit='s')[1:])\n",
    "onsets_backward = np.array(get_onsets(yh[::-1], sr, nfft, hop)[1:])\n",
    "onsets_backward_reversed = (signal_end_s - onsets_backward)[::-1]"
   ]
  },
  {
   "cell_type": "code",
   "execution_count": 10,
   "metadata": {},
   "outputs": [],
   "source": [
    "slices = []\n",
    "\n",
    "for onset_fw in onsets_forward:\n",
    "    nearest_onset_backward_condition = onset_fw < onsets_backward_reversed - 0.2\n",
    "    if nearest_onset_backward_condition[-1] == False:\n",
    "        break\n",
    "    else:\n",
    "        idx_onset_backward = np.argmax(nearest_onset_backward_condition)\n",
    "        slices.append((onset_fw, onsets_backward_reversed[idx_onset_backward]))"
   ]
  },
  {
   "cell_type": "code",
   "execution_count": 11,
   "metadata": {},
   "outputs": [
    {
     "data": {
      "text/plain": [
       "[(2.9632499217987061, 3.3673133850097656),\n",
       " (3.3401250839233398, 3.7081260681152344),\n",
       " (3.7916250228881836, 4.1085014343261719),\n",
       " (8.123687744140625, 8.7581253051757812),\n",
       " (8.4540004730224609, 8.7581253051757812),\n",
       " (8.8272495269775391, 9.113311767578125),\n",
       " (9.9928121566772461, 10.388938903808594),\n",
       " (10.357687950134277, 10.853939056396484),\n",
       " (10.763562202453613, 11.250438690185547),\n",
       " (11.162625312805176, 14.826187133789062),\n",
       " (14.634312629699707, 15.208812713623047),\n",
       " (15.103750228881836, 15.58856201171875),\n",
       " (15.483875274658203, 16.984935760498047),\n",
       " (16.956249237060547, 17.469001770019531),\n",
       " (17.320999145507812, 17.859188079833984),\n",
       " (17.647811889648438, 17.859188079833984),\n",
       " (17.968936920166016, 18.246498107910156),\n",
       " (20.328937530517578, 20.920936584472656),\n",
       " (20.638063430786133, 20.920936584472656),\n",
       " (23.156000137329102, 23.477935791015625),\n",
       " (30.650312423706055, 31.509937286376953),\n",
       " (31.048500061035156, 31.509937286376953),\n",
       " (32.215126037597656, 32.770437240600586),\n",
       " (33.756126403808594, 34.446125030517578),\n",
       " (34.122062683105469, 34.446125030517578),\n",
       " (34.555561065673828, 34.867374420166016),\n",
       " (41.913188934326172, 47.469875335693359),\n",
       " (46.010189056396484, 47.469875335693359),\n",
       " (47.756061553955078, 48.150187492370605),\n",
       " (48.119998931884766, 48.52243709564209),\n",
       " (48.503936767578125, 48.905374526977539),\n",
       " (48.878936767578125, 49.206687927246094),\n",
       " (49.324062347412109, 49.809937477111816),\n",
       " (52.368438720703125, 52.596812725067139)]"
      ]
     },
     "execution_count": 11,
     "metadata": {},
     "output_type": "execute_result"
    }
   ],
   "source": [
    "slices"
   ]
  },
  {
   "cell_type": "code",
   "execution_count": null,
   "metadata": {},
   "outputs": [],
   "source": []
  }
 ],
 "metadata": {
  "kernelspec": {
   "display_name": "Python 3",
   "language": "python",
   "name": "python3"
  },
  "language_info": {
   "codemirror_mode": {
    "name": "ipython",
    "version": 3
   },
   "file_extension": ".py",
   "mimetype": "text/x-python",
   "name": "python",
   "nbconvert_exporter": "python",
   "pygments_lexer": "ipython3",
   "version": "3.6.6"
  }
 },
 "nbformat": 4,
 "nbformat_minor": 2
}
