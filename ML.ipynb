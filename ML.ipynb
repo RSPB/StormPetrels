{
 "cells": [
  {
   "cell_type": "code",
   "execution_count": 29,
   "metadata": {},
   "outputs": [],
   "source": [
    "%matplotlib inline\n",
    "\n",
    "from comet_ml import Experiment\n",
    "\n",
    "import os\n",
    "import warnings\n",
    "import plotutils\n",
    "import xgboost as xg\n",
    "import pandas as pd\n",
    "import plotly.plotly as py\n",
    "import plotly.graph_objs as go\n",
    "import matplotlib.pyplot as plt\n",
    "from collections import OrderedDict, namedtuple\n",
    "from plotly import tools\n",
    "from sklearn import preprocessing\n",
    "from sklearn import model_selection\n",
    "from sklearn.metrics import f1_score, precision_score, recall_score, confusion_matrix, accuracy_score\n",
    "\n",
    "warnings.filterwarnings(module='sklearn*', action='ignore', category=DeprecationWarning)"
   ]
  },
  {
   "cell_type": "markdown",
   "metadata": {},
   "source": [
    "Load features computed for the predetermined sound samples."
   ]
  },
  {
   "cell_type": "code",
   "execution_count": 2,
   "metadata": {},
   "outputs": [],
   "source": [
    "path = '/mnt/data/Birdman/samples/features/features_petrels_bp1-8_wl256_th4.csv'\n",
    "features = pd.read_csv(path, index_col=None)"
   ]
  },
  {
   "cell_type": "markdown",
   "metadata": {},
   "source": [
    "## Feature selection\n",
    "The features have been selected based on analysis of their covariance and visual inspection present [here](https://plot.ly/~tracewsl/43)"
   ]
  },
  {
   "cell_type": "code",
   "execution_count": 3,
   "metadata": {},
   "outputs": [],
   "source": [
    "selected_features = (\n",
    "    ('petrel', 'presence of storm petrel'),\n",
    "    ('sound.files', 'name of the file'),\n",
    "    ('meanfreq', 'mean frequency (in kHz)'),\n",
    "    ('sd', 'standard deviation of frequency'),\n",
    "    ('freq.Q75', 'third quantile (in kHz)'),\n",
    "    ('freq.IQR', 'interquantile range (in kHz)'),\n",
    "    ('skew', 'skewness - asymmetry of the spectrum'),\n",
    "    ('kurt', 'kurtosis - peakedness of the spectrum'),\n",
    "    ('sp.ent', 'spectral entropy'),\n",
    "    ('sfm', 'spectral flatness'),\n",
    "    ('meanfun', 'average of fundamental frequency'),\n",
    "    ('maxfun', 'maximum fundamental frequency'),\n",
    "    ('meandom', 'average of dominant frequency'),\n",
    "    ('dfrange', 'range of dominant frequency'),\n",
    "    ('modindx', 'modulation index'),\n",
    "    ('meanpeakf', 'mean peak frequency'))\n",
    "\n",
    "feature_legend = OrderedDict(selected_features)\n",
    "selected_features_names = [name for name, desc in selected_features]\n",
    "features = features[selected_features_names]\n",
    "features = features.fillna(0)"
   ]
  },
  {
   "cell_type": "code",
   "execution_count": 4,
   "metadata": {},
   "outputs": [
    {
     "name": "stdout",
     "output_type": "stream",
     "text": [
      "0    2482\n",
      "1    1281\n",
      "Name: petrel, dtype: int64\n"
     ]
    }
   ],
   "source": [
    "petrel_count = features['petrel'].value_counts()\n",
    "print(petrel_count)"
   ]
  },
  {
   "cell_type": "markdown",
   "metadata": {},
   "source": [
    "`1` denotes petrel, `0` lack of thereof (we'll call it *noise* for brevity). There is imbalance in favour of non-petrel features, primarily introduced with three files that in the selected regions represent only noise."
   ]
  },
  {
   "cell_type": "markdown",
   "metadata": {},
   "source": [
    "### Subsampling\n",
    "STHELENA-02_20140605_* contain relatively few samples compared to the:\n",
    "```\n",
    "STHELENA-01_20140106_210000_0-15min.wav       840\n",
    "STHELENA-02_20140108_210100_110-120min.wav    600\n",
    "STHELENA-01_20140101_210000_55-105min.wav     600\n",
    "```\n",
    "For training, we're going to take all sampels from STHELENA-02_20140605_* and subsample the top 3. The data set is already organised such that first 1201 rows from `path` are non-petrels coming from the top 3. We're going to split the dataframe into two: noise-only and mixed."
   ]
  },
  {
   "cell_type": "code",
   "execution_count": 25,
   "metadata": {},
   "outputs": [
    {
     "name": "stdout",
     "output_type": "stream",
     "text": [
      "Noise-only count: 1200\n",
      "Mixed noise: 1282\n",
      "Mixed petrels: 1281\n"
     ]
    }
   ],
   "source": [
    "split_idx = 1200\n",
    "noise_only_df, df = features.iloc[:split_idx], features.iloc[split_idx:]\n",
    "petrels = df[df['petrel'] == 1]\n",
    "nonpetrels = df[df['petrel'] == 0]\n",
    "print(f'Noise-only count: {len(noise_only_df)}')\n",
    "print(f'Mixed noise: {len(nonpetrels)}') \n",
    "print(f'Mixed petrels: {len(petrels)}') "
   ]
  },
  {
   "cell_type": "code",
   "execution_count": 26,
   "metadata": {},
   "outputs": [
    {
     "data": {
      "text/html": [
       "<div>\n",
       "<style scoped>\n",
       "    .dataframe tbody tr th:only-of-type {\n",
       "        vertical-align: middle;\n",
       "    }\n",
       "\n",
       "    .dataframe tbody tr th {\n",
       "        vertical-align: top;\n",
       "    }\n",
       "\n",
       "    .dataframe thead th {\n",
       "        text-align: right;\n",
       "    }\n",
       "</style>\n",
       "<table border=\"1\" class=\"dataframe\">\n",
       "  <thead>\n",
       "    <tr style=\"text-align: right;\">\n",
       "      <th></th>\n",
       "      <th>petrel</th>\n",
       "      <th>sound.files</th>\n",
       "      <th>meanfreq</th>\n",
       "      <th>sd</th>\n",
       "      <th>freq.Q75</th>\n",
       "      <th>freq.IQR</th>\n",
       "      <th>skew</th>\n",
       "      <th>kurt</th>\n",
       "      <th>sp.ent</th>\n",
       "      <th>sfm</th>\n",
       "      <th>meanfun</th>\n",
       "      <th>maxfun</th>\n",
       "      <th>meandom</th>\n",
       "      <th>dfrange</th>\n",
       "      <th>modindx</th>\n",
       "      <th>meanpeakf</th>\n",
       "    </tr>\n",
       "  </thead>\n",
       "  <tbody>\n",
       "    <tr>\n",
       "      <th>1200</th>\n",
       "      <td>0</td>\n",
       "      <td>STHELENA-01_20140101_210000_55-105min.wav</td>\n",
       "      <td>3.449775</td>\n",
       "      <td>1.749425</td>\n",
       "      <td>4.891</td>\n",
       "      <td>3.015</td>\n",
       "      <td>1.475437</td>\n",
       "      <td>6.202251</td>\n",
       "      <td>0.977536</td>\n",
       "      <td>0.786448</td>\n",
       "      <td>4.855395</td>\n",
       "      <td>5.333333</td>\n",
       "      <td>1.575387</td>\n",
       "      <td>2.9375</td>\n",
       "      <td>20.787234</td>\n",
       "      <td>0.913194</td>\n",
       "    </tr>\n",
       "    <tr>\n",
       "      <th>1201</th>\n",
       "      <td>0</td>\n",
       "      <td>STHELENA-02_20140108_210100_110-120min.wav</td>\n",
       "      <td>3.608110</td>\n",
       "      <td>1.829769</td>\n",
       "      <td>5.202</td>\n",
       "      <td>3.314</td>\n",
       "      <td>1.894124</td>\n",
       "      <td>9.501967</td>\n",
       "      <td>0.979052</td>\n",
       "      <td>0.816575</td>\n",
       "      <td>5.333333</td>\n",
       "      <td>5.333333</td>\n",
       "      <td>1.278226</td>\n",
       "      <td>5.1250</td>\n",
       "      <td>6.146341</td>\n",
       "      <td>0.976190</td>\n",
       "    </tr>\n",
       "    <tr>\n",
       "      <th>1202</th>\n",
       "      <td>0</td>\n",
       "      <td>STHELENA-02_20140108_210100_110-120min.wav</td>\n",
       "      <td>3.583817</td>\n",
       "      <td>1.826647</td>\n",
       "      <td>5.164</td>\n",
       "      <td>3.267</td>\n",
       "      <td>1.833918</td>\n",
       "      <td>9.445981</td>\n",
       "      <td>0.978609</td>\n",
       "      <td>0.825397</td>\n",
       "      <td>5.333333</td>\n",
       "      <td>5.333333</td>\n",
       "      <td>1.424731</td>\n",
       "      <td>5.0625</td>\n",
       "      <td>11.407407</td>\n",
       "      <td>0.976190</td>\n",
       "    </tr>\n",
       "  </tbody>\n",
       "</table>\n",
       "</div>"
      ],
      "text/plain": [
       "      petrel                                 sound.files  meanfreq        sd  \\\n",
       "1200       0   STHELENA-01_20140101_210000_55-105min.wav  3.449775  1.749425   \n",
       "1201       0  STHELENA-02_20140108_210100_110-120min.wav  3.608110  1.829769   \n",
       "1202       0  STHELENA-02_20140108_210100_110-120min.wav  3.583817  1.826647   \n",
       "\n",
       "      freq.Q75  freq.IQR      skew      kurt    sp.ent       sfm   meanfun  \\\n",
       "1200     4.891     3.015  1.475437  6.202251  0.977536  0.786448  4.855395   \n",
       "1201     5.202     3.314  1.894124  9.501967  0.979052  0.816575  5.333333   \n",
       "1202     5.164     3.267  1.833918  9.445981  0.978609  0.825397  5.333333   \n",
       "\n",
       "        maxfun   meandom  dfrange    modindx  meanpeakf  \n",
       "1200  5.333333  1.575387   2.9375  20.787234   0.913194  \n",
       "1201  5.333333  1.278226   5.1250   6.146341   0.976190  \n",
       "1202  5.333333  1.424731   5.0625  11.407407   0.976190  "
      ]
     },
     "execution_count": 26,
     "metadata": {},
     "output_type": "execute_result"
    }
   ],
   "source": [
    "df.head(3)"
   ]
  },
  {
   "cell_type": "code",
   "execution_count": 27,
   "metadata": {},
   "outputs": [],
   "source": [
    "df = df.drop(['sound.files'], axis=1)"
   ]
  },
  {
   "cell_type": "code",
   "execution_count": 28,
   "metadata": {},
   "outputs": [],
   "source": [
    "y = df.pop('petrel')\n",
    "X = df.values"
   ]
  },
  {
   "cell_type": "code",
   "execution_count": 52,
   "metadata": {},
   "outputs": [],
   "source": [
    "X_train, X_test, y_train, y_test = model_selection.train_test_split(X, y, test_size=0.2, random_state=42)"
   ]
  },
  {
   "cell_type": "code",
   "execution_count": 55,
   "metadata": {},
   "outputs": [],
   "source": [
    "scaler = preprocessing.StandardScaler()\n",
    "X_train = scaler.fit_transform(X_train)\n",
    "X_test = scaler.transform(X_test)"
   ]
  },
  {
   "cell_type": "code",
   "execution_count": 54,
   "metadata": {},
   "outputs": [],
   "source": [
    "hyperparams = {\n",
    "    'n_estimators': [100, 300],\n",
    "    'learning_rate': [0.1],\n",
    "    'gamma': [0.0, 0.5],\n",
    "    'max_depth': [2, 3, 5],\n",
    "    'min_child_weight': [1, 2],\n",
    "    'subsample': [1, 0.8],\n",
    "    'reg_alpha': [0, 0.1],\n",
    "    'reg_lambda': [1]\n",
    "}"
   ]
  },
  {
   "cell_type": "code",
   "execution_count": null,
   "metadata": {},
   "outputs": [],
   "source": [
    "experiment = Experiment(api_key=\"4PdGdUZmGf6P8QsMa5F2zB4Ui\",\n",
    "                        project_name=\"general\", workspace=\"tracewsl\")"
   ]
  },
  {
   "cell_type": "code",
   "execution_count": null,
   "metadata": {},
   "outputs": [],
   "source": [
    "experiment.log_multiple_params(hyperparams)"
   ]
  },
  {
   "cell_type": "code",
   "execution_count": 56,
   "metadata": {},
   "outputs": [],
   "source": [
    "estimator = xg.XGBClassifier(objective='binary:logistic',\n",
    "                             n_jobs=-1)\n",
    "clf = model_selection.GridSearchCV(estimator=estimator,\n",
    "                                   param_grid=hyperparams,\n",
    "                                   cv=4)"
   ]
  },
  {
   "cell_type": "code",
   "execution_count": 57,
   "metadata": {},
   "outputs": [],
   "source": [
    "fit_params = clf.fit(X_train, y_train)"
   ]
  },
  {
   "cell_type": "code",
   "execution_count": null,
   "metadata": {},
   "outputs": [],
   "source": [
    "est = fit_params.best_estimator_"
   ]
  },
  {
   "cell_type": "code",
   "execution_count": null,
   "metadata": {},
   "outputs": [],
   "source": [
    "est.feature_importances_"
   ]
  },
  {
   "cell_type": "code",
   "execution_count": null,
   "metadata": {},
   "outputs": [],
   "source": [
    "fit_params.best_params_"
   ]
  },
  {
   "cell_type": "code",
   "execution_count": null,
   "metadata": {},
   "outputs": [],
   "source": [
    "test_pred = est.predict(X_test)"
   ]
  },
  {
   "cell_type": "code",
   "execution_count": null,
   "metadata": {},
   "outputs": [],
   "source": [
    "sklearn.__version__"
   ]
  },
  {
   "cell_type": "code",
   "execution_count": null,
   "metadata": {},
   "outputs": [],
   "source": [
    "experiment.log_multiple_metrics()"
   ]
  },
  {
   "cell_type": "code",
   "execution_count": null,
   "metadata": {},
   "outputs": [],
   "source": [
    "est.feature_importances_"
   ]
  },
  {
   "cell_type": "code",
   "execution_count": null,
   "metadata": {},
   "outputs": [],
   "source": [
    "df.head(5).T"
   ]
  },
  {
   "cell_type": "code",
   "execution_count": 30,
   "metadata": {},
   "outputs": [],
   "source": [
    "import numpy as np"
   ]
  },
  {
   "cell_type": "code",
   "execution_count": 47,
   "metadata": {},
   "outputs": [],
   "source": [
    "y_true = np.array([1,2])\n",
    "y_pred = np.array([0,0])"
   ]
  },
  {
   "cell_type": "code",
   "execution_count": 48,
   "metadata": {},
   "outputs": [
    {
     "data": {
      "text/plain": [
       "array([[0, 0, 0],\n",
       "       [1, 0, 0],\n",
       "       [1, 0, 0]])"
      ]
     },
     "execution_count": 48,
     "metadata": {},
     "output_type": "execute_result"
    }
   ],
   "source": [
    "confusion_matrix(y_true, y_pred)"
   ]
  },
  {
   "cell_type": "code",
   "execution_count": null,
   "metadata": {},
   "outputs": [],
   "source": []
  }
 ],
 "metadata": {
  "kernelspec": {
   "display_name": "Python 3",
   "language": "python",
   "name": "python3"
  },
  "language_info": {
   "codemirror_mode": {
    "name": "ipython",
    "version": 3
   },
   "file_extension": ".py",
   "mimetype": "text/x-python",
   "name": "python",
   "nbconvert_exporter": "python",
   "pygments_lexer": "ipython3",
   "version": "3.6.6"
  }
 },
 "nbformat": 4,
 "nbformat_minor": 2
}
