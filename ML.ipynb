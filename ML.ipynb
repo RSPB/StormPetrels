{
 "cells": [
  {
   "cell_type": "code",
   "execution_count": null,
   "metadata": {},
   "outputs": [],
   "source": [
    "%matplotlib inline\n",
    "\n",
    "from comet_ml import Experiment\n",
    "\n",
    "import os\n",
    "import warnings\n",
    "import plotutils\n",
    "import xgboost as xg\n",
    "import pandas as pd\n",
    "import plotly.plotly as py\n",
    "import plotly.graph_objs as go\n",
    "import matplotlib.pyplot as plt\n",
    "from collections import OrderedDict, namedtuple\n",
    "from plotly import tools\n",
    "from sklearn import preprocessing\n",
    "from sklearn import model_selection\n",
    "from sklearn.metrics import f1_score, precision_score, recall_score, confusion_matrix, accuracy_score\n",
    "\n",
    "warnings.filterwarnings(module='sklearn*', action='ignore', category=DeprecationWarning)"
   ]
  },
  {
   "cell_type": "markdown",
   "metadata": {},
   "source": [
    "Load features computed for the predetermined sound samples."
   ]
  },
  {
   "cell_type": "code",
   "execution_count": null,
   "metadata": {},
   "outputs": [],
   "source": [
    "path = '/mnt/data/Birdman/samples/features/features_petrels_bp1-8_wl256_th4.csv'\n",
    "features = pd.read_csv(path, index_col=None)"
   ]
  },
  {
   "cell_type": "markdown",
   "metadata": {},
   "source": [
    "## Feature selection\n",
    "The features have been selected based on analysis of their covariance and visual inspection present [here](https://plot.ly/~tracewsl/43)"
   ]
  },
  {
   "cell_type": "code",
   "execution_count": null,
   "metadata": {},
   "outputs": [],
   "source": [
    "selected_features = (\n",
    "    ('petrel', 'presence of storm petrel'),\n",
    "    ('sound.files', 'name of the file'),\n",
    "    ('meanfreq', 'mean frequency (in kHz)'),\n",
    "    ('sd', 'standard deviation of frequency'),\n",
    "    ('freq.Q75', 'third quantile (in kHz)'),\n",
    "    ('freq.IQR', 'interquantile range (in kHz)'),\n",
    "    ('skew', 'skewness - asymmetry of the spectrum'),\n",
    "    ('kurt', 'kurtosis - peakedness of the spectrum'),\n",
    "    ('sp.ent', 'spectral entropy'),\n",
    "    ('sfm', 'spectral flatness'),\n",
    "    ('meanfun', 'average of fundamental frequency'),\n",
    "    ('maxfun', 'maximum fundamental frequency'),\n",
    "    ('meandom', 'average of dominant frequency'),\n",
    "    ('dfrange', 'range of dominant frequency'),\n",
    "    ('modindx', 'modulation index'),\n",
    "    ('meanpeakf', 'mean peak frequency'))\n",
    "\n",
    "feature_legend = OrderedDict(selected_features)\n",
    "selected_features_names = [name for name, desc in selected_features]\n",
    "features = features[selected_features_names]\n",
    "features = features.fillna(0)"
   ]
  },
  {
   "cell_type": "code",
   "execution_count": null,
   "metadata": {},
   "outputs": [],
   "source": [
    "petrel_count = features['petrel'].value_counts()\n",
    "print(petrel_count)"
   ]
  },
  {
   "cell_type": "markdown",
   "metadata": {},
   "source": [
    "`1` denotes petrel, `0` lack of thereof (we'll call it *noise* for brevity). There is imbalance in favour of non-petrel features, primarily introduced with three files that in the selected regions represent only noise."
   ]
  },
  {
   "cell_type": "markdown",
   "metadata": {},
   "source": [
    "### Subsampling\n",
    "STHELENA-02_20140605_* contain relatively few samples compared to the:\n",
    "```\n",
    "STHELENA-01_20140106_210000_0-15min.wav       840\n",
    "STHELENA-02_20140108_210100_110-120min.wav    600\n",
    "STHELENA-01_20140101_210000_55-105min.wav     600\n",
    "```\n",
    "For training, we're going to take all sampels from STHELENA-02_20140605_* and subsample the top 3. The data set is already organised such that first 1201 rows from `path` are non-petrels coming from the top 3. We're going to split the dataframe into two: noise-only and mixed."
   ]
  },
  {
   "cell_type": "code",
   "execution_count": null,
   "metadata": {},
   "outputs": [],
   "source": [
    "split_idx = 1200\n",
    "noise_only_df, df = features.iloc[:split_idx], features.iloc[split_idx:]\n",
    "petrels = df[df['petrel'] == 1]\n",
    "nonpetrels = df[df['petrel'] == 0]\n",
    "print(f'Noise-only count: {len(noise_only_df)}')\n",
    "print(f'Mixed noise: {len(nonpetrels)}') \n",
    "print(f'Mixed petrels: {len(petrels)}') "
   ]
  },
  {
   "cell_type": "code",
   "execution_count": null,
   "metadata": {},
   "outputs": [],
   "source": [
    "df.head(3)"
   ]
  },
  {
   "cell_type": "code",
   "execution_count": null,
   "metadata": {},
   "outputs": [],
   "source": [
    "df = df.drop(['sound.files'], axis=1)"
   ]
  },
  {
   "cell_type": "code",
   "execution_count": null,
   "metadata": {},
   "outputs": [],
   "source": [
    "y = df.pop('petrel')\n",
    "X = df.values"
   ]
  },
  {
   "cell_type": "code",
   "execution_count": null,
   "metadata": {},
   "outputs": [],
   "source": [
    "X_train, X_test, y_train, y_test = model_selection.train_test_split(X, y, test_size=0.2, random_state=42)"
   ]
  },
  {
   "cell_type": "code",
   "execution_count": null,
   "metadata": {},
   "outputs": [],
   "source": [
    "scaler = preprocessing.StandardScaler()\n",
    "X_train = scaler.fit_transform(X_train)\n",
    "X_test = scaler.transform(X_test)"
   ]
  },
  {
   "cell_type": "code",
   "execution_count": null,
   "metadata": {},
   "outputs": [],
   "source": [
    "hyperparams = {\n",
    "    'n_estimators': [100, 300],\n",
    "    'learning_rate': [0.1],\n",
    "    'gamma': [0.0, 0.5],\n",
    "    'max_depth': [2, 3, 5],\n",
    "    'min_child_weight': [1, 2],\n",
    "    'subsample': [1, 0.8],\n",
    "    'reg_alpha': [0, 0.1],\n",
    "    'reg_lambda': [1]\n",
    "}"
   ]
  },
  {
   "cell_type": "code",
   "execution_count": null,
   "metadata": {},
   "outputs": [],
   "source": [
    "experiment = Experiment(api_key=\"4PdGdUZmGf6P8QsMa5F2zB4Ui\",\n",
    "                        project_name=\"general\", workspace=\"tracewsl\")"
   ]
  },
  {
   "cell_type": "code",
   "execution_count": null,
   "metadata": {},
   "outputs": [],
   "source": [
    "experiment.log_multiple_params(hyperparams)"
   ]
  },
  {
   "cell_type": "code",
   "execution_count": null,
   "metadata": {},
   "outputs": [],
   "source": [
    "estimator = xg.XGBClassifier(objective='binary:logistic',\n",
    "                             n_jobs=-1)\n",
    "clf = model_selection.GridSearchCV(estimator=estimator,\n",
    "                                   param_grid=hyperparams,\n",
    "                                   cv=4)"
   ]
  },
  {
   "cell_type": "code",
   "execution_count": null,
   "metadata": {},
   "outputs": [],
   "source": [
    "fit_params = clf.fit(X_train, y_train)"
   ]
  },
  {
   "cell_type": "code",
   "execution_count": null,
   "metadata": {},
   "outputs": [],
   "source": [
    "estimator = fit_params.best_estimator_\n",
    "test_pred = estimator.predict(X_test)\n",
    "\n",
    "metrics = {\n",
    "    'accuracy': accuracy_score(y_true=y_test, y_pred=test_pred),\n",
    "    'precision': precision_score(y_true=y_test, y_pred=test_pred),\n",
    "    'recall': recall_score(y_true=y_test, y_pred=test_pred),\n",
    "    'f1-score': f1_score(y_true=y_test, y_pred=test_pred),\n",
    "}\n",
    "cm = confusion_matrix(y_true=y_test, y_pred=test_pred)\n",
    "\n",
    "experiment.log_parameter('name', os.path.basename(path))\n",
    "experiment.log_multiple_params(fit_params.best_params_)\n",
    "experiment.log_multiple_metrics(metrics)\n",
    "\n",
    "cmf_fig = plotutils.print_confusion_matrix(confusion_matrix=cm,\n",
    "                                           class_names=['noise', 'petrels'],\n",
    "                                           figsize=(12,12))\n",
    "\n",
    "experiment.log_figure('Confusion matrix', cmf_fig)"
   ]
  },
  {
   "cell_type": "code",
   "execution_count": null,
   "metadata": {},
   "outputs": [],
   "source": []
  }
 ],
 "metadata": {
  "kernelspec": {
   "display_name": "Python 3",
   "language": "python",
   "name": "python3"
  },
  "language_info": {
   "codemirror_mode": {
    "name": "ipython",
    "version": 3
   },
   "file_extension": ".py",
   "mimetype": "text/x-python",
   "name": "python",
   "nbconvert_exporter": "python",
   "pygments_lexer": "ipython3",
   "version": "3.6.6"
  }
 },
 "nbformat": 4,
 "nbformat_minor": 2
}
