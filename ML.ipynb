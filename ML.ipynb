{
 "cells": [
  {
   "cell_type": "code",
   "execution_count": 1,
   "metadata": {},
   "outputs": [],
   "source": [
    "%matplotlib inline\n",
    "\n",
    "from comet_ml import Experiment\n",
    "\n",
    "import os\n",
    "import warnings\n",
    "import plotutils\n",
    "import xgboost as xg\n",
    "import pandas as pd\n",
    "import plotly.plotly as py\n",
    "import plotly.graph_objs as go\n",
    "import matplotlib.pyplot as plt\n",
    "from collections import OrderedDict, namedtuple\n",
    "from plotly import tools\n",
    "from sklearn import preprocessing\n",
    "from sklearn import model_selection\n",
    "from sklearn.metrics import f1_score, precision_score, recall_score, confusion_matrix, accuracy_score\n",
    "\n",
    "warnings.filterwarnings(module='sklearn*', action='ignore', category=DeprecationWarning)"
   ]
  },
  {
   "cell_type": "markdown",
   "metadata": {},
   "source": [
    "Load features computed for the predetermined sound samples."
   ]
  },
  {
   "cell_type": "code",
   "execution_count": 2,
   "metadata": {},
   "outputs": [],
   "source": [
    "path = '/mnt/data/Birdman/samples/features/features_petrels_bp1-8_wl256_th4.csv'\n",
    "features = pd.read_csv(path, index_col=None)"
   ]
  },
  {
   "cell_type": "markdown",
   "metadata": {},
   "source": [
    "## Feature selection\n",
    "The features have been selected based on analysis of their covariance and visual inspection present [here](https://plot.ly/~tracewsl/43)"
   ]
  },
  {
   "cell_type": "code",
   "execution_count": 3,
   "metadata": {},
   "outputs": [],
   "source": [
    "selected_features = (\n",
    "    ('petrel', 'presence of storm petrel'),\n",
    "    ('sound.files', 'name of the file'),\n",
    "    ('meanfreq', 'mean frequency (in kHz)'),\n",
    "    ('sd', 'standard deviation of frequency'),\n",
    "    ('freq.Q75', 'third quantile (in kHz)'),\n",
    "    ('freq.IQR', 'interquantile range (in kHz)'),\n",
    "    ('skew', 'skewness - asymmetry of the spectrum'),\n",
    "    ('kurt', 'kurtosis - peakedness of the spectrum'),\n",
    "    ('sp.ent', 'spectral entropy'),\n",
    "    ('sfm', 'spectral flatness'),\n",
    "    ('meanfun', 'average of fundamental frequency'),\n",
    "    ('maxfun', 'maximum fundamental frequency'),\n",
    "    ('meandom', 'average of dominant frequency'),\n",
    "    ('dfrange', 'range of dominant frequency'),\n",
    "    ('modindx', 'modulation index'),\n",
    "    ('meanpeakf', 'mean peak frequency'))\n",
    "\n",
    "feature_legend = OrderedDict(selected_features)\n",
    "selected_features_names = [name for name, desc in selected_features]\n",
    "features = features[selected_features_names]\n",
    "features = features.fillna(0)"
   ]
  },
  {
   "cell_type": "code",
   "execution_count": 4,
   "metadata": {},
   "outputs": [
    {
     "name": "stdout",
     "output_type": "stream",
     "text": [
      "0    2482\n",
      "1    1281\n",
      "Name: petrel, dtype: int64\n"
     ]
    }
   ],
   "source": [
    "petrel_count = features['petrel'].value_counts()\n",
    "print(petrel_count)"
   ]
  },
  {
   "cell_type": "markdown",
   "metadata": {},
   "source": [
    "`1` denotes petrel, `0` lack of thereof (we'll call it *noise* for brevity). There is imbalance in favour of non-petrel features, primarily introduced with three files that in the selected regions represent only noise."
   ]
  },
  {
   "cell_type": "markdown",
   "metadata": {},
   "source": [
    "### Subsampling\n",
    "STHELENA-02_20140605_* contain relatively few samples compared to the:\n",
    "```\n",
    "STHELENA-01_20140106_210000_0-15min.wav       840\n",
    "STHELENA-02_20140108_210100_110-120min.wav    600\n",
    "STHELENA-01_20140101_210000_55-105min.wav     600\n",
    "```\n",
    "For training, we're going to take all sampels from STHELENA-02_20140605_* and subsample the top 3. The data set is already organised such that first 1201 rows from `path` are non-petrels coming from the top 3. We're going to split the dataframe into two: noise-only and mixed."
   ]
  },
  {
   "cell_type": "code",
   "execution_count": 5,
   "metadata": {},
   "outputs": [
    {
     "name": "stdout",
     "output_type": "stream",
     "text": [
      "Noise-only count: 1200\n",
      "Mixed noise: 1282\n",
      "Mixed petrels: 1281\n"
     ]
    }
   ],
   "source": [
    "split_idx = 1200\n",
    "noise_only_df, df = features.iloc[:split_idx], features.iloc[split_idx:]\n",
    "petrels = df[df['petrel'] == 1]\n",
    "nonpetrels = df[df['petrel'] == 0]\n",
    "print(f'Noise-only count: {len(noise_only_df)}')\n",
    "print(f'Mixed noise: {len(nonpetrels)}') \n",
    "print(f'Mixed petrels: {len(petrels)}') "
   ]
  },
  {
   "cell_type": "code",
   "execution_count": 7,
   "metadata": {},
   "outputs": [
    {
     "data": {
      "text/html": [
       "<div>\n",
       "<style scoped>\n",
       "    .dataframe tbody tr th:only-of-type {\n",
       "        vertical-align: middle;\n",
       "    }\n",
       "\n",
       "    .dataframe tbody tr th {\n",
       "        vertical-align: top;\n",
       "    }\n",
       "\n",
       "    .dataframe thead th {\n",
       "        text-align: right;\n",
       "    }\n",
       "</style>\n",
       "<table border=\"1\" class=\"dataframe\">\n",
       "  <thead>\n",
       "    <tr style=\"text-align: right;\">\n",
       "      <th></th>\n",
       "      <th>petrel</th>\n",
       "      <th>sound.files</th>\n",
       "      <th>meanfreq</th>\n",
       "      <th>sd</th>\n",
       "      <th>freq.Q75</th>\n",
       "      <th>freq.IQR</th>\n",
       "      <th>skew</th>\n",
       "      <th>kurt</th>\n",
       "      <th>sp.ent</th>\n",
       "      <th>sfm</th>\n",
       "      <th>meanfun</th>\n",
       "      <th>maxfun</th>\n",
       "      <th>meandom</th>\n",
       "      <th>dfrange</th>\n",
       "      <th>modindx</th>\n",
       "      <th>meanpeakf</th>\n",
       "    </tr>\n",
       "  </thead>\n",
       "  <tbody>\n",
       "    <tr>\n",
       "      <th>1200</th>\n",
       "      <td>0</td>\n",
       "      <td>STHELENA-01_20140101_210000_55-105min.wav</td>\n",
       "      <td>3.449775</td>\n",
       "      <td>1.749425</td>\n",
       "      <td>4.891</td>\n",
       "      <td>3.015</td>\n",
       "      <td>1.475437</td>\n",
       "      <td>6.202251</td>\n",
       "      <td>0.977536</td>\n",
       "      <td>0.786448</td>\n",
       "      <td>4.855395</td>\n",
       "      <td>5.333333</td>\n",
       "      <td>1.575387</td>\n",
       "      <td>2.9375</td>\n",
       "      <td>20.787234</td>\n",
       "      <td>0.913194</td>\n",
       "    </tr>\n",
       "    <tr>\n",
       "      <th>1201</th>\n",
       "      <td>0</td>\n",
       "      <td>STHELENA-02_20140108_210100_110-120min.wav</td>\n",
       "      <td>3.608110</td>\n",
       "      <td>1.829769</td>\n",
       "      <td>5.202</td>\n",
       "      <td>3.314</td>\n",
       "      <td>1.894124</td>\n",
       "      <td>9.501967</td>\n",
       "      <td>0.979052</td>\n",
       "      <td>0.816575</td>\n",
       "      <td>5.333333</td>\n",
       "      <td>5.333333</td>\n",
       "      <td>1.278226</td>\n",
       "      <td>5.1250</td>\n",
       "      <td>6.146341</td>\n",
       "      <td>0.976190</td>\n",
       "    </tr>\n",
       "    <tr>\n",
       "      <th>1202</th>\n",
       "      <td>0</td>\n",
       "      <td>STHELENA-02_20140108_210100_110-120min.wav</td>\n",
       "      <td>3.583817</td>\n",
       "      <td>1.826647</td>\n",
       "      <td>5.164</td>\n",
       "      <td>3.267</td>\n",
       "      <td>1.833918</td>\n",
       "      <td>9.445981</td>\n",
       "      <td>0.978609</td>\n",
       "      <td>0.825397</td>\n",
       "      <td>5.333333</td>\n",
       "      <td>5.333333</td>\n",
       "      <td>1.424731</td>\n",
       "      <td>5.0625</td>\n",
       "      <td>11.407407</td>\n",
       "      <td>0.976190</td>\n",
       "    </tr>\n",
       "  </tbody>\n",
       "</table>\n",
       "</div>"
      ],
      "text/plain": [
       "      petrel                                 sound.files  meanfreq        sd  \\\n",
       "1200       0   STHELENA-01_20140101_210000_55-105min.wav  3.449775  1.749425   \n",
       "1201       0  STHELENA-02_20140108_210100_110-120min.wav  3.608110  1.829769   \n",
       "1202       0  STHELENA-02_20140108_210100_110-120min.wav  3.583817  1.826647   \n",
       "\n",
       "      freq.Q75  freq.IQR      skew      kurt    sp.ent       sfm   meanfun  \\\n",
       "1200     4.891     3.015  1.475437  6.202251  0.977536  0.786448  4.855395   \n",
       "1201     5.202     3.314  1.894124  9.501967  0.979052  0.816575  5.333333   \n",
       "1202     5.164     3.267  1.833918  9.445981  0.978609  0.825397  5.333333   \n",
       "\n",
       "        maxfun   meandom  dfrange    modindx  meanpeakf  \n",
       "1200  5.333333  1.575387   2.9375  20.787234   0.913194  \n",
       "1201  5.333333  1.278226   5.1250   6.146341   0.976190  \n",
       "1202  5.333333  1.424731   5.0625  11.407407   0.976190  "
      ]
     },
     "execution_count": 7,
     "metadata": {},
     "output_type": "execute_result"
    }
   ],
   "source": [
    "df.head(3)"
   ]
  },
  {
   "cell_type": "markdown",
   "metadata": {},
   "source": [
    "Drop file names and extract target values for training"
   ]
  },
  {
   "cell_type": "code",
   "execution_count": 9,
   "metadata": {},
   "outputs": [],
   "source": [
    "df = df.drop(['sound.files'], axis=1)\n",
    "y = df.pop('petrel')\n",
    "X = df.values"
   ]
  },
  {
   "cell_type": "markdown",
   "metadata": {},
   "source": [
    "Our data set is balanced, no need to"
   ]
  },
  {
   "cell_type": "code",
   "execution_count": 10,
   "metadata": {},
   "outputs": [],
   "source": [
    "X_train, X_test, y_train, y_test = model_selection.train_test_split(X, y, test_size=0.2, random_state=42)"
   ]
  },
  {
   "cell_type": "code",
   "execution_count": 11,
   "metadata": {},
   "outputs": [],
   "source": [
    "scaler = preprocessing.StandardScaler()\n",
    "X_train = scaler.fit_transform(X_train)\n",
    "X_test = scaler.transform(X_test)"
   ]
  },
  {
   "cell_type": "code",
   "execution_count": 12,
   "metadata": {},
   "outputs": [],
   "source": [
    "hyperparams = {\n",
    "    'n_estimators': [100],\n",
    "    'learning_rate': [0.1],\n",
    "    'gamma': [0.0],\n",
    "    'max_depth': [3],\n",
    "    'min_child_weight': [2],\n",
    "    'subsample': [0.8],\n",
    "    'reg_alpha': [0.1],\n",
    "    'reg_lambda': [1]\n",
    "}"
   ]
  },
  {
   "cell_type": "code",
   "execution_count": 24,
   "metadata": {},
   "outputs": [
    {
     "name": "stderr",
     "output_type": "stream",
     "text": [
      "COMET WARNING: We detected that you are running inside a Ipython/Jupyter notebook environment but we cannot save your notebook source code. Please be sure to have installed comet_ml as a notebook server extension by running:\n",
      "jupyter comet_ml enable \n",
      "For more details, please refer to: https://www.comet.ml/docs/python-sdk/warnings-errors\n",
      "COMET WARNING: Comet.ml support for Ipython Notebook is limited at the moment, automatic monitoring and stdout capturing is deactivated \n",
      "For more details, please refer to: https://www.comet.ml/docs/python-sdk/warnings-errors\n",
      "COMET INFO: Experiment is live on comet.ml https://www.comet.ml/tracewsl/general/21d3b5a765f243dfa3bf08adeb7b09d4\n",
      "\n"
     ]
    }
   ],
   "source": [
    "experiment = Experiment(api_key=\"4PdGdUZmGf6P8QsMa5F2zB4Ui\",\n",
    "                        project_name=\"general\", workspace=\"tracewsl\")"
   ]
  },
  {
   "cell_type": "code",
   "execution_count": 14,
   "metadata": {},
   "outputs": [],
   "source": [
    "experiment.log_multiple_params(hyperparams)"
   ]
  },
  {
   "cell_type": "code",
   "execution_count": 15,
   "metadata": {},
   "outputs": [],
   "source": [
    "estimator = xg.XGBClassifier(objective='binary:logistic',\n",
    "                             n_jobs=-1)\n",
    "clf = model_selection.GridSearchCV(estimator=estimator,\n",
    "                                   param_grid=hyperparams,\n",
    "                                   cv=4)"
   ]
  },
  {
   "cell_type": "code",
   "execution_count": 16,
   "metadata": {},
   "outputs": [],
   "source": [
    "fit_params = clf.fit(X_train, y_train)"
   ]
  },
  {
   "cell_type": "code",
   "execution_count": 17,
   "metadata": {},
   "outputs": [
    {
     "data": {
      "image/png": "[encoded data removed]",
      "text/plain": [
       "<Figure size 864x864 with 2 Axes>"
      ]
     },
     "metadata": {
      "needs_background": "light"
     },
     "output_type": "display_data"
    }
   ],
   "source": [
    "estimator = fit_params.best_estimator_\n",
    "test_pred = estimator.predict(X_test)\n",
    "\n",
    "metrics = {\n",
    "    'accuracy': accuracy_score(y_true=y_test, y_pred=test_pred),\n",
    "    'precision': precision_score(y_true=y_test, y_pred=test_pred),\n",
    "    'recall': recall_score(y_true=y_test, y_pred=test_pred),\n",
    "    'f1-score': f1_score(y_true=y_test, y_pred=test_pred),\n",
    "}\n",
    "cm = confusion_matrix(y_true=y_test, y_pred=test_pred)\n",
    "\n",
    "experiment.log_parameter('name', os.path.basename(path))\n",
    "experiment.log_multiple_params(fit_params.best_params_)\n",
    "experiment.log_multiple_metrics(metrics)\n",
    "\n",
    "cmf_fig = plotutils.print_confusion_matrix(confusion_matrix=cm,\n",
    "                                           class_names=['noise', 'petrels'],\n",
    "                                           figsize=(12,12))\n",
    "\n",
    "experiment.log_figure('Confusion matrix', cmf_fig)"
   ]
  },
  {
   "cell_type": "code",
   "execution_count": 18,
   "metadata": {},
   "outputs": [
    {
     "data": {
      "text/plain": [
       "{'gamma': 0.0,\n",
       " 'learning_rate': 0.1,\n",
       " 'max_depth': 3,\n",
       " 'min_child_weight': 2,\n",
       " 'n_estimators': 100,\n",
       " 'reg_alpha': 0.1,\n",
       " 'reg_lambda': 1,\n",
       " 'subsample': 0.8}"
      ]
     },
     "execution_count": 18,
     "metadata": {},
     "output_type": "execute_result"
    }
   ],
   "source": [
    "fit_params.best_params_"
   ]
  },
  {
   "cell_type": "code",
   "execution_count": 19,
   "metadata": {},
   "outputs": [],
   "source": [
    "noise_only_df = noise_only_df.drop(['sound.files'], axis=1)\n",
    "y_noise = noise_only_df.pop('petrel')\n",
    "X_noise = noise_only_df.values"
   ]
  },
  {
   "cell_type": "code",
   "execution_count": 20,
   "metadata": {},
   "outputs": [],
   "source": [
    "test_pred_noise = estimator.predict(X_noise)"
   ]
  },
  {
   "cell_type": "code",
   "execution_count": 21,
   "metadata": {},
   "outputs": [
    {
     "data": {
      "text/plain": [
       "array([0, 0, 0, ..., 0, 0, 0])"
      ]
     },
     "execution_count": 21,
     "metadata": {},
     "output_type": "execute_result"
    }
   ],
   "source": [
    "test_pred_noise"
   ]
  },
  {
   "cell_type": "code",
   "execution_count": 22,
   "metadata": {},
   "outputs": [
    {
     "data": {
      "text/plain": [
       "{'base_score': 0.5,\n",
       " 'booster': 'gbtree',\n",
       " 'colsample_bylevel': 1,\n",
       " 'colsample_bytree': 1,\n",
       " 'gamma': 0.0,\n",
       " 'learning_rate': 0.1,\n",
       " 'max_delta_step': 0,\n",
       " 'max_depth': 3,\n",
       " 'min_child_weight': 2,\n",
       " 'missing': None,\n",
       " 'n_estimators': 100,\n",
       " 'n_jobs': -1,\n",
       " 'nthread': None,\n",
       " 'objective': 'binary:logistic',\n",
       " 'random_state': 0,\n",
       " 'reg_alpha': 0.1,\n",
       " 'reg_lambda': 1,\n",
       " 'scale_pos_weight': 1,\n",
       " 'seed': None,\n",
       " 'silent': True,\n",
       " 'subsample': 0.8}"
      ]
     },
     "execution_count": 22,
     "metadata": {},
     "output_type": "execute_result"
    }
   ],
   "source": [
    "estimator.get_params()"
   ]
  },
  {
   "cell_type": "code",
   "execution_count": null,
   "metadata": {},
   "outputs": [],
   "source": [
    "metrics = {\n",
    "    'accuracy': accuracy_score(y_true=y_test, y_pred=test_pred),\n",
    "    'precision': precision_score(y_true=y_test, y_pred=test_pred),\n",
    "    'recall': recall_score(y_true=y_test, y_pred=test_pred),\n",
    "    'f1-score': f1_score(y_true=y_test, y_pred=test_pred),\n",
    "    'cm': confusion_matrix(y_true=y_test, y_pred=test_pred)\n",
    "}"
   ]
  },
  {
   "cell_type": "code",
   "execution_count": 42,
   "metadata": {},
   "outputs": [
    {
     "data": {
      "image/png": "[encoded data removed]",
      "text/plain": [
       "<Figure size 864x576 with 1 Axes>"
      ]
     },
     "metadata": {
      "needs_background": "light"
     },
     "output_type": "display_data"
    }
   ],
   "source": [
    "fig, ax = plt.subplots(figsize=(12,8))\n",
    "names = list(df.columns.values)\n",
    "y_pos = range(len(names))\n",
    "plt.barh(y_pos, estimator.feature_importances_)\n",
    "ax.set_yticks(y_pos)\n",
    "_ = ax.set_yticklabels(names, fontsize=14)"
   ]
  },
  {
   "cell_type": "code",
   "execution_count": null,
   "metadata": {},
   "outputs": [],
   "source": [
    "joblib.dump(estimator, 'model.pkl')"
   ]
  },
  {
   "cell_type": "code",
   "execution_count": null,
   "metadata": {},
   "outputs": [],
   "source": [
    "x = joblib.load('model.pkl')"
   ]
  },
  {
   "cell_type": "code",
   "execution_count": null,
   "metadata": {},
   "outputs": [],
   "source": [
    "x.feature_importances_"
   ]
  },
  {
   "cell_type": "code",
   "execution_count": null,
   "metadata": {},
   "outputs": [],
   "source": [
    "df.columns.values"
   ]
  },
  {
   "cell_type": "code",
   "execution_count": null,
   "metadata": {},
   "outputs": [],
   "source": [
    "xg.plot_importance(estimator, )"
   ]
  },
  {
   "cell_type": "code",
   "execution_count": 26,
   "metadata": {},
   "outputs": [
    {
     "data": {
      "text/plain": [
       "{'f1': 73,\n",
       " 'f11': 69,\n",
       " 'f2': 31,\n",
       " 'f10': 51,\n",
       " 'f6': 44,\n",
       " 'f9': 2,\n",
       " 'f7': 33,\n",
       " 'f3': 20,\n",
       " 'f5': 34,\n",
       " 'f12': 28,\n",
       " 'f4': 19,\n",
       " 'f0': 17,\n",
       " 'f13': 22,\n",
       " 'f8': 3}"
      ]
     },
     "execution_count": 26,
     "metadata": {},
     "output_type": "execute_result"
    }
   ],
   "source": [
    "estimator.get_booster().get_fscore()"
   ]
  },
  {
   "cell_type": "code",
   "execution_count": 28,
   "metadata": {},
   "outputs": [
    {
     "data": {
      "text/plain": [
       "array([0.03811659, 0.16367713, 0.06950673, 0.04484305, 0.0426009 ,\n",
       "       0.07623319, 0.09865471, 0.07399103, 0.00672646, 0.00448431,\n",
       "       0.11434978, 0.15470852, 0.06278027, 0.04932735], dtype=float32)"
      ]
     },
     "execution_count": 28,
     "metadata": {},
     "output_type": "execute_result"
    }
   ],
   "source": [
    "estimator.feature_importances_"
   ]
  },
  {
   "cell_type": "code",
   "execution_count": null,
   "metadata": {},
   "outputs": [],
   "source": [
    "def get_xgb_imp(xgb, feat_names):\n",
    "    imp_vals = xgb.get_booster().get_fscore()\n",
    "    imp_dict = {feat_names[i]:float(imp_vals.get('f'+str(i),0.)) for i in range(len(feat_names))}\n",
    "    total = sum(imp_dict.values())\n",
    "    return {k:v/total for k,v in imp_dict.items()}"
   ]
  },
  {
   "cell_type": "code",
   "execution_count": null,
   "metadata": {},
   "outputs": [],
   "source": [
    "get_xgb_imp(estimator, list(df.columns.values))"
   ]
  },
  {
   "cell_type": "code",
   "execution_count": null,
   "metadata": {},
   "outputs": [],
   "source": [
    "sum(estimator.get_booster().get_fscore().values())"
   ]
  },
  {
   "cell_type": "code",
   "execution_count": 25,
   "metadata": {},
   "outputs": [
    {
     "data": {
      "text/plain": [
       "['meanfreq',\n",
       " 'sd',\n",
       " 'freq.Q75',\n",
       " 'freq.IQR',\n",
       " 'skew',\n",
       " 'kurt',\n",
       " 'sp.ent',\n",
       " 'sfm',\n",
       " 'meanfun',\n",
       " 'maxfun',\n",
       " 'meandom',\n",
       " 'dfrange',\n",
       " 'modindx',\n",
       " 'meanpeakf']"
      ]
     },
     "execution_count": 25,
     "metadata": {},
     "output_type": "execute_result"
    }
   ],
   "source": [
    "list(df.columns.values)"
   ]
  },
  {
   "cell_type": "code",
   "execution_count": null,
   "metadata": {},
   "outputs": [],
   "source": [
    "   from numpy import array"
   ]
  },
  {
   "cell_type": "code",
   "execution_count": null,
   "metadata": {},
   "outputs": [],
   "source": []
  }
 ],
 "metadata": {
  "kernelspec": {
   "display_name": "Python 3",
   "language": "python",
   "name": "python3"
  },
  "language_info": {
   "codemirror_mode": {
    "name": "ipython",
    "version": 3
   },
   "file_extension": ".py",
   "mimetype": "text/x-python",
   "name": "python",
   "nbconvert_exporter": "python",
   "pygments_lexer": "ipython3",
   "version": "3.6.6"
  }
 },
 "nbformat": 4,
 "nbformat_minor": 2
}
