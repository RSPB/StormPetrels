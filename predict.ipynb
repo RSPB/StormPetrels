{
 "cells": [
  {
   "cell_type": "code",
   "execution_count": 9,
   "metadata": {},
   "outputs": [],
   "source": [
    "import os\n",
    "import joblib\n",
    "import sklearn\n",
    "import xgboost as xg\n",
    "import pandas as pd\n",
    "import plotly.plotly as py\n",
    "import plotly.graph_objs as go\n",
    "import matplotlib.pyplot as plt\n",
    "\n",
    "%matplotlib inline"
   ]
  },
  {
   "cell_type": "code",
   "execution_count": 2,
   "metadata": {},
   "outputs": [],
   "source": [
    "data_path = '/mnt/data/Birdman/samples/features/manual/grid_08_features_petrels_bp1-6_wl256_th2.csv'"
   ]
  },
  {
   "cell_type": "code",
   "execution_count": 3,
   "metadata": {},
   "outputs": [],
   "source": [
    "model = joblib.load('models/features_petrels_bp1-6_wl256_th2_model.pkl')"
   ]
  },
  {
   "cell_type": "code",
   "execution_count": 4,
   "metadata": {},
   "outputs": [
    {
     "data": {
      "text/plain": [
       "XGBClassifier(base_score=0.5, booster='gbtree', colsample_bylevel=1,\n",
       "       colsample_bytree=1, gamma=0.0, learning_rate=0.1, max_delta_step=0,\n",
       "       max_depth=3, min_child_weight=2, missing=nan, n_estimators=100,\n",
       "       n_jobs=-1, nthread=None, objective='binary:logistic',\n",
       "       random_state=0, reg_alpha=0.0, reg_lambda=1, scale_pos_weight=1,\n",
       "       seed=None, silent=True, subsample=1.0)"
      ]
     },
     "execution_count": 4,
     "metadata": {},
     "output_type": "execute_result"
    }
   ],
   "source": [
    "model"
   ]
  },
  {
   "cell_type": "code",
   "execution_count": 5,
   "metadata": {},
   "outputs": [],
   "source": [
    "selected_features = (\n",
    "    ('sound.files', 'name of the file'),\n",
    "    ('meanfreq', 'mean frequency (in kHz)'),\n",
    "    ('sd', 'standard deviation of frequency'),\n",
    "    ('freq.Q75', 'third quantile (in kHz)'),\n",
    "    ('freq.IQR', 'interquantile range (in kHz)'),\n",
    "    ('skew', 'skewness - asymmetry of the spectrum'),\n",
    "    ('kurt', 'kurtosis - peakedness of the spectrum'),\n",
    "    ('sp.ent', 'spectral entropy'),\n",
    "    ('sfm', 'spectral flatness'),\n",
    "    ('meanfun', 'average of fundamental frequency'),\n",
    "    ('maxfun', 'maximum fundamental frequency'),\n",
    "    ('meandom', 'average of dominant frequency'),\n",
    "    ('dfrange', 'range of dominant frequency'),\n",
    "    ('modindx', 'modulation index'),\n",
    "    ('meanpeakf', 'mean peak frequency'))\n",
    "\n",
    "selected_features_names = [name for name, desc in selected_features]"
   ]
  },
  {
   "cell_type": "code",
   "execution_count": 6,
   "metadata": {},
   "outputs": [],
   "source": [
    "df = pd.read_csv(data_path, index_col=None)\n",
    "df = df[selected_features_names]\n",
    "df = df.fillna(0)\n",
    "df = df.drop(['sound.files'], axis=1)"
   ]
  },
  {
   "cell_type": "code",
   "execution_count": 7,
   "metadata": {},
   "outputs": [
    {
     "name": "stderr",
     "output_type": "stream",
     "text": [
      "/home/tracek/anaconda3/envs/birds/lib/python3.6/site-packages/sklearn/preprocessing/label.py:151: DeprecationWarning: The truth value of an empty array is ambiguous. Returning False, but in future this will result in an error. Use `array.size > 0` to check that an array is not empty.\n",
      "  if diff:\n"
     ]
    }
   ],
   "source": [
    "y_prob = model.predict_proba(df.values)\n",
    "y = model.predict(df.values)"
   ]
  },
  {
   "cell_type": "code",
   "execution_count": null,
   "metadata": {},
   "outputs": [],
   "source": []
  }
 ],
 "metadata": {
  "kernelspec": {
   "display_name": "Python 3",
   "language": "python",
   "name": "python3"
  },
  "language_info": {
   "codemirror_mode": {
    "name": "ipython",
    "version": 3
   },
   "file_extension": ".py",
   "mimetype": "text/x-python",
   "name": "python",
   "nbconvert_exporter": "python",
   "pygments_lexer": "ipython3",
   "version": "3.6.6"
  }
 },
 "nbformat": 4,
 "nbformat_minor": 2
}
