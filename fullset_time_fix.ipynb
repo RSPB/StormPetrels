{
 "cells": [
  {
   "cell_type": "code",
   "execution_count": 1,
   "metadata": {},
   "outputs": [],
   "source": [
    "import gcsfs\n",
    "import pandas as pd"
   ]
  },
  {
   "cell_type": "markdown",
   "metadata": {},
   "source": [
    "The full 50 GB data is mostly composed of 2h long recordings. Unfortuantely `warbleR` (as many R packages) seems to have problems with memory management, rendering parallel processing of these files on 32 GB machine impossible. For this reason the files have been split into 10 min long pieces and each piece given an index, integer ranging from `1` to `N`. For instance, file `STHELENA-02_20140516_200000` would be divided into:\n",
    "\n",
    "```\n",
    "STHELENA-02_20140516_200000_001.wav\n",
    "STHELENA-02_20140516_200000_002.wav\n",
    "...\n",
    "\n",
    "STHELENA-02_20140516_200000_012.wav\n",
    "```\n",
    "\n",
    "The side effect is that `warbleR` will give us `start` and `end` of each call with reference to the new file naming convention and all calls will have be between `0` and `600s`. We need to fix it by adding an offset."
   ]
  },
  {
   "cell_type": "code",
   "execution_count": 2,
   "metadata": {},
   "outputs": [],
   "source": [
    "fs = gcsfs.GCSFileSystem(project='birdman-project')\n",
    "with fs.open('storm-petrels/full-set-50GB/calls.csv') as f:\n",
    "    df = pd.read_csv(f)"
   ]
  },
  {
   "cell_type": "code",
   "execution_count": 3,
   "metadata": {},
   "outputs": [
    {
     "data": {
      "text/html": [
       "<div>\n",
       "<style scoped>\n",
       "    .dataframe tbody tr th:only-of-type {\n",
       "        vertical-align: middle;\n",
       "    }\n",
       "\n",
       "    .dataframe tbody tr th {\n",
       "        vertical-align: top;\n",
       "    }\n",
       "\n",
       "    .dataframe thead th {\n",
       "        text-align: right;\n",
       "    }\n",
       "</style>\n",
       "<table border=\"1\" class=\"dataframe\">\n",
       "  <thead>\n",
       "    <tr style=\"text-align: right;\">\n",
       "      <th></th>\n",
       "      <th>sound.files</th>\n",
       "      <th>selec</th>\n",
       "      <th>start</th>\n",
       "      <th>end</th>\n",
       "    </tr>\n",
       "  </thead>\n",
       "  <tbody>\n",
       "    <tr>\n",
       "      <th>0</th>\n",
       "      <td>STHELENA-02_20140516_200000_004</td>\n",
       "      <td>1</td>\n",
       "      <td>17.415189</td>\n",
       "      <td>17.753002</td>\n",
       "    </tr>\n",
       "    <tr>\n",
       "      <th>1</th>\n",
       "      <td>STHELENA-02_20140516_200000_004</td>\n",
       "      <td>2</td>\n",
       "      <td>17.815502</td>\n",
       "      <td>17.985752</td>\n",
       "    </tr>\n",
       "    <tr>\n",
       "      <th>2</th>\n",
       "      <td>STHELENA-02_20140516_200000_004</td>\n",
       "      <td>3</td>\n",
       "      <td>19.453127</td>\n",
       "      <td>19.904315</td>\n",
       "    </tr>\n",
       "    <tr>\n",
       "      <th>3</th>\n",
       "      <td>STHELENA-02_20140516_200000_004</td>\n",
       "      <td>4</td>\n",
       "      <td>19.912190</td>\n",
       "      <td>20.490565</td>\n",
       "    </tr>\n",
       "    <tr>\n",
       "      <th>4</th>\n",
       "      <td>STHELENA-02_20140516_200000_004</td>\n",
       "      <td>5</td>\n",
       "      <td>20.595752</td>\n",
       "      <td>21.009127</td>\n",
       "    </tr>\n",
       "  </tbody>\n",
       "</table>\n",
       "</div>"
      ],
      "text/plain": [
       "                       sound.files  selec      start        end\n",
       "0  STHELENA-02_20140516_200000_004      1  17.415189  17.753002\n",
       "1  STHELENA-02_20140516_200000_004      2  17.815502  17.985752\n",
       "2  STHELENA-02_20140516_200000_004      3  19.453127  19.904315\n",
       "3  STHELENA-02_20140516_200000_004      4  19.912190  20.490565\n",
       "4  STHELENA-02_20140516_200000_004      5  20.595752  21.009127"
      ]
     },
     "execution_count": 3,
     "metadata": {},
     "output_type": "execute_result"
    }
   ],
   "source": [
    "df.head()"
   ]
  },
  {
   "cell_type": "code",
   "execution_count": 4,
   "metadata": {},
   "outputs": [],
   "source": [
    "def adjust_time(row):\n",
    "    name = row['sound.files']\n",
    "    start = row['start']\n",
    "    end = row['end']\n",
    "    idx = int(name[name.rfind('_')+1:])\n",
    "    start += (idx - 1) * 600\n",
    "    end += (idx - 1) * 600\n",
    "    return pd.Series((start, end))"
   ]
  },
  {
   "cell_type": "code",
   "execution_count": 5,
   "metadata": {},
   "outputs": [],
   "source": [
    "df[['start_adjusted', 'end_adjusted']] = df.apply(adjust_time, axis=1)"
   ]
  },
  {
   "cell_type": "code",
   "execution_count": 6,
   "metadata": {},
   "outputs": [
    {
     "data": {
      "text/html": [
       "<div>\n",
       "<style scoped>\n",
       "    .dataframe tbody tr th:only-of-type {\n",
       "        vertical-align: middle;\n",
       "    }\n",
       "\n",
       "    .dataframe tbody tr th {\n",
       "        vertical-align: top;\n",
       "    }\n",
       "\n",
       "    .dataframe thead th {\n",
       "        text-align: right;\n",
       "    }\n",
       "</style>\n",
       "<table border=\"1\" class=\"dataframe\">\n",
       "  <thead>\n",
       "    <tr style=\"text-align: right;\">\n",
       "      <th></th>\n",
       "      <th>sound.files</th>\n",
       "      <th>selec</th>\n",
       "      <th>start</th>\n",
       "      <th>end</th>\n",
       "      <th>start_adjusted</th>\n",
       "      <th>end_adjusted</th>\n",
       "    </tr>\n",
       "  </thead>\n",
       "  <tbody>\n",
       "    <tr>\n",
       "      <th>0</th>\n",
       "      <td>STHELENA-02_20140516_200000_004</td>\n",
       "      <td>1</td>\n",
       "      <td>17.415189</td>\n",
       "      <td>17.753002</td>\n",
       "      <td>1817.415189</td>\n",
       "      <td>1817.753002</td>\n",
       "    </tr>\n",
       "    <tr>\n",
       "      <th>1</th>\n",
       "      <td>STHELENA-02_20140516_200000_004</td>\n",
       "      <td>2</td>\n",
       "      <td>17.815502</td>\n",
       "      <td>17.985752</td>\n",
       "      <td>1817.815502</td>\n",
       "      <td>1817.985752</td>\n",
       "    </tr>\n",
       "    <tr>\n",
       "      <th>2</th>\n",
       "      <td>STHELENA-02_20140516_200000_004</td>\n",
       "      <td>3</td>\n",
       "      <td>19.453127</td>\n",
       "      <td>19.904315</td>\n",
       "      <td>1819.453127</td>\n",
       "      <td>1819.904315</td>\n",
       "    </tr>\n",
       "    <tr>\n",
       "      <th>3</th>\n",
       "      <td>STHELENA-02_20140516_200000_004</td>\n",
       "      <td>4</td>\n",
       "      <td>19.912190</td>\n",
       "      <td>20.490565</td>\n",
       "      <td>1819.912190</td>\n",
       "      <td>1820.490565</td>\n",
       "    </tr>\n",
       "    <tr>\n",
       "      <th>4</th>\n",
       "      <td>STHELENA-02_20140516_200000_004</td>\n",
       "      <td>5</td>\n",
       "      <td>20.595752</td>\n",
       "      <td>21.009127</td>\n",
       "      <td>1820.595752</td>\n",
       "      <td>1821.009127</td>\n",
       "    </tr>\n",
       "  </tbody>\n",
       "</table>\n",
       "</div>"
      ],
      "text/plain": [
       "                       sound.files  selec      start        end  \\\n",
       "0  STHELENA-02_20140516_200000_004      1  17.415189  17.753002   \n",
       "1  STHELENA-02_20140516_200000_004      2  17.815502  17.985752   \n",
       "2  STHELENA-02_20140516_200000_004      3  19.453127  19.904315   \n",
       "3  STHELENA-02_20140516_200000_004      4  19.912190  20.490565   \n",
       "4  STHELENA-02_20140516_200000_004      5  20.595752  21.009127   \n",
       "\n",
       "   start_adjusted  end_adjusted  \n",
       "0     1817.415189   1817.753002  \n",
       "1     1817.815502   1817.985752  \n",
       "2     1819.453127   1819.904315  \n",
       "3     1819.912190   1820.490565  \n",
       "4     1820.595752   1821.009127  "
      ]
     },
     "execution_count": 6,
     "metadata": {},
     "output_type": "execute_result"
    }
   ],
   "source": [
    "df.head()"
   ]
  },
  {
   "cell_type": "code",
   "execution_count": null,
   "metadata": {},
   "outputs": [],
   "source": []
  }
 ],
 "metadata": {
  "kernelspec": {
   "display_name": "Python 3",
   "language": "python",
   "name": "python3"
  },
  "language_info": {
   "codemirror_mode": {
    "name": "ipython",
    "version": 3
   },
   "file_extension": ".py",
   "mimetype": "text/x-python",
   "name": "python",
   "nbconvert_exporter": "python",
   "pygments_lexer": "ipython3",
   "version": "3.5.2"
  }
 },
 "nbformat": 4,
 "nbformat_minor": 2
}
