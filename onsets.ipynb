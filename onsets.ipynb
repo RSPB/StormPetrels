{
 "cells": [
  {
   "cell_type": "code",
   "execution_count": 112,
   "metadata": {},
   "outputs": [],
   "source": [
    "import os\n",
    "import sys\n",
    "import glob\n",
    "import numpy as np\n",
    "import librosa\n",
    "import librosa.display\n",
    "import pandas as pd\n",
    "import matplotlib.pyplot as plt\n",
    "from scipy.io import wavfile\n",
    "from aubio import onset\n",
    "from scipy.signal import butter, lfilter\n",
    "from multiprocessing import Pool, cpu_count\n",
    "\n",
    "import signalproc\n",
    "from birdutils import read_labels\n",
    "\n",
    "%matplotlib inline"
   ]
  },
  {
   "cell_type": "code",
   "execution_count": 146,
   "metadata": {},
   "outputs": [],
   "source": [
    "def get_acc(features, labels):\n",
    "    features['overlap'] = False\n",
    "    labels['overlap'] = False\n",
    "    filenames = labels['File Name'].unique()\n",
    "\n",
    "    for filename in filenames:\n",
    "        df_label = labels[labels['File Name'] == filename]\n",
    "        df_feat = features[features['File Name'] == filename]\n",
    "        for index1, row_label in df_label.iterrows():\n",
    "            for index2, row_feat in df_feat.iterrows():\n",
    "                feat_start = row_feat['Time Start']\n",
    "                feat_end = row_feat['Time End']\n",
    "                label_start = row_label['Time Start']\n",
    "                label_end = row_label['Time End']\n",
    "                overlap = (label_start <= feat_end) and (label_end >= feat_start)\n",
    "                if overlap:\n",
    "                    labels.at[index1, 'overlap'] = True\n",
    "                    features.at[index2, 'overlap'] = True\n",
    "    return features, labels"
   ]
  },
  {
   "cell_type": "code",
   "execution_count": 148,
   "metadata": {},
   "outputs": [],
   "source": [
    "def find_onsets(path):\n",
    "    name = os.path.splitext(os.path.basename(path))[0]\n",
    "    y, sr = librosa.load(path, sr=16000)\n",
    "    y = signalproc.bandpass_filter(y, sr, 500, 6000)\n",
    "    onset_env = librosa.onset.onset_strength(y=y, sr=sr, feature=librosa.feature.melspectrogram,\n",
    "                                         fmax=8000.0, aggregate=np.median, detrend=False, center=False)\n",
    "    onset_s = librosa.onset.onset_detect(onset_envelope=onset_env, sr=sr, units='time', backtrack=True, hop_length=512)\n",
    "    onset_s = np.unique(onset_s)\n",
    "    onset_end_s = onset_s + 0.5\n",
    "    df = pd.DataFrame(data={'File Name': name, 'Time Start': onset_s, 'Time End': onset_end_s})\n",
    "    return df"
   ]
  },
  {
   "cell_type": "code",
   "execution_count": 2,
   "metadata": {},
   "outputs": [],
   "source": [
    "bird_calls_labels_path = '/mnt/data/Birdman/sthelena_labels.xls'\n",
    "samples_dir = '/mnt/data/Birdman/samples/recordings/'\n",
    "samples_paths = glob.glob(samples_dir + 'STHELENA-02_20140605_200000*.wav')\n",
    "labels_dict = read_labels(bird_calls_labels_path)\n",
    "labels = pd.concat(labels_dict, axis=0, ignore_index=True)"
   ]
  },
  {
   "cell_type": "code",
   "execution_count": 151,
   "metadata": {},
   "outputs": [],
   "source": [
    "with Pool(cpu_count()) as p:\n",
    "    onset_all = p.map(find_onsets, samples_paths)"
   ]
  },
  {
   "cell_type": "code",
   "execution_count": 152,
   "metadata": {},
   "outputs": [
    {
     "name": "stdout",
     "output_type": "stream",
     "text": [
      "2256\n"
     ]
    }
   ],
   "source": [
    "onsets_df = pd.concat(onset_all)\n",
    "print(len(onsets_df))"
   ]
  },
  {
   "cell_type": "code",
   "execution_count": 144,
   "metadata": {},
   "outputs": [],
   "source": [
    "\n",
    "    # return sum(labels['overlap']) / len(labels)"
   ]
  },
  {
   "cell_type": "code",
   "execution_count": null,
   "metadata": {},
   "outputs": [],
   "source": []
  },
  {
   "cell_type": "code",
   "execution_count": 145,
   "metadata": {},
   "outputs": [
    {
     "data": {
      "text/plain": [
       "0.9974226804123711"
      ]
     },
     "execution_count": 145,
     "metadata": {},
     "output_type": "execute_result"
    }
   ],
   "source": [
    "feat, lab = get_acc(onsets_df, labels)\n",
    "sum(lab['overlap']) / len(lab)"
   ]
  },
  {
   "cell_type": "code",
   "execution_count": 125,
   "metadata": {},
   "outputs": [
    {
     "data": {
      "text/html": [
       "<div>\n",
       "<style scoped>\n",
       "    .dataframe tbody tr th:only-of-type {\n",
       "        vertical-align: middle;\n",
       "    }\n",
       "\n",
       "    .dataframe tbody tr th {\n",
       "        vertical-align: top;\n",
       "    }\n",
       "\n",
       "    .dataframe thead th {\n",
       "        text-align: right;\n",
       "    }\n",
       "</style>\n",
       "<table border=\"1\" class=\"dataframe\">\n",
       "  <thead>\n",
       "    <tr style=\"text-align: right;\">\n",
       "      <th></th>\n",
       "      <th>Date</th>\n",
       "      <th>File Name</th>\n",
       "      <th>Type of Call</th>\n",
       "      <th>Time Start</th>\n",
       "      <th>Time End</th>\n",
       "      <th>Species</th>\n",
       "      <th>Notes</th>\n",
       "      <th>overlap</th>\n",
       "    </tr>\n",
       "  </thead>\n",
       "  <tbody>\n",
       "    <tr>\n",
       "      <th>0</th>\n",
       "      <td>2014-06-05</td>\n",
       "      <td>STHELENA-02_20140605_200000_1</td>\n",
       "      <td>Flight Call</td>\n",
       "      <td>2.905</td>\n",
       "      <td>4.197</td>\n",
       "      <td>Storm Petrel</td>\n",
       "      <td>NaN</td>\n",
       "      <td>True</td>\n",
       "    </tr>\n",
       "    <tr>\n",
       "      <th>1</th>\n",
       "      <td>2014-06-05</td>\n",
       "      <td>STHELENA-02_20140605_200000_1</td>\n",
       "      <td>Flight Call</td>\n",
       "      <td>10.008</td>\n",
       "      <td>11.622</td>\n",
       "      <td>Storm Petrel</td>\n",
       "      <td>NaN</td>\n",
       "      <td>True</td>\n",
       "    </tr>\n",
       "    <tr>\n",
       "      <th>2</th>\n",
       "      <td>2014-06-05</td>\n",
       "      <td>STHELENA-02_20140605_200000_1</td>\n",
       "      <td>Flight Call</td>\n",
       "      <td>14.527</td>\n",
       "      <td>16.464</td>\n",
       "      <td>Storm Petrel</td>\n",
       "      <td>NaN</td>\n",
       "      <td>True</td>\n",
       "    </tr>\n",
       "    <tr>\n",
       "      <th>3</th>\n",
       "      <td>2014-06-05</td>\n",
       "      <td>STHELENA-02_20140605_200000_1</td>\n",
       "      <td>Flight Call</td>\n",
       "      <td>17.110</td>\n",
       "      <td>18.724</td>\n",
       "      <td>Storm Petrel</td>\n",
       "      <td>NaN</td>\n",
       "      <td>True</td>\n",
       "    </tr>\n",
       "    <tr>\n",
       "      <th>4</th>\n",
       "      <td>2014-06-05</td>\n",
       "      <td>STHELENA-02_20140605_200000_1</td>\n",
       "      <td>Flight Call</td>\n",
       "      <td>20.338</td>\n",
       "      <td>21.307</td>\n",
       "      <td>Storm Petrel</td>\n",
       "      <td>NaN</td>\n",
       "      <td>True</td>\n",
       "    </tr>\n",
       "    <tr>\n",
       "      <th>5</th>\n",
       "      <td>2014-06-05</td>\n",
       "      <td>STHELENA-02_20140605_200000_1</td>\n",
       "      <td>Flight Call</td>\n",
       "      <td>34.220</td>\n",
       "      <td>34.866</td>\n",
       "      <td>Storm Petrel</td>\n",
       "      <td>NaN</td>\n",
       "      <td>False</td>\n",
       "    </tr>\n",
       "    <tr>\n",
       "      <th>6</th>\n",
       "      <td>2014-06-05</td>\n",
       "      <td>STHELENA-02_20140605_200000_1</td>\n",
       "      <td>Flight Call</td>\n",
       "      <td>47.134</td>\n",
       "      <td>52.944</td>\n",
       "      <td>Storm Petrel</td>\n",
       "      <td>NaN</td>\n",
       "      <td>True</td>\n",
       "    </tr>\n",
       "    <tr>\n",
       "      <th>7</th>\n",
       "      <td>2014-06-05</td>\n",
       "      <td>STHELENA-02_20140605_200000_1</td>\n",
       "      <td>Flight Call</td>\n",
       "      <td>60.692</td>\n",
       "      <td>61.984</td>\n",
       "      <td>Storm Petrel</td>\n",
       "      <td>NaN</td>\n",
       "      <td>False</td>\n",
       "    </tr>\n",
       "    <tr>\n",
       "      <th>8</th>\n",
       "      <td>2014-06-05</td>\n",
       "      <td>STHELENA-02_20140605_200000_1</td>\n",
       "      <td>Flight Call</td>\n",
       "      <td>64.889</td>\n",
       "      <td>66.826</td>\n",
       "      <td>Storm Petrel</td>\n",
       "      <td>NaN</td>\n",
       "      <td>True</td>\n",
       "    </tr>\n",
       "    <tr>\n",
       "      <th>9</th>\n",
       "      <td>2014-06-05</td>\n",
       "      <td>STHELENA-02_20140605_200000_1</td>\n",
       "      <td>Flight Call</td>\n",
       "      <td>67.472</td>\n",
       "      <td>68.763</td>\n",
       "      <td>Storm Petrel</td>\n",
       "      <td>NaN</td>\n",
       "      <td>False</td>\n",
       "    </tr>\n",
       "  </tbody>\n",
       "</table>\n",
       "</div>"
      ],
      "text/plain": [
       "        Date                      File Name Type of Call  Time Start  \\\n",
       "0 2014-06-05  STHELENA-02_20140605_200000_1  Flight Call       2.905   \n",
       "1 2014-06-05  STHELENA-02_20140605_200000_1  Flight Call      10.008   \n",
       "2 2014-06-05  STHELENA-02_20140605_200000_1  Flight Call      14.527   \n",
       "3 2014-06-05  STHELENA-02_20140605_200000_1  Flight Call      17.110   \n",
       "4 2014-06-05  STHELENA-02_20140605_200000_1  Flight Call      20.338   \n",
       "5 2014-06-05  STHELENA-02_20140605_200000_1  Flight Call      34.220   \n",
       "6 2014-06-05  STHELENA-02_20140605_200000_1  Flight Call      47.134   \n",
       "7 2014-06-05  STHELENA-02_20140605_200000_1  Flight Call      60.692   \n",
       "8 2014-06-05  STHELENA-02_20140605_200000_1  Flight Call      64.889   \n",
       "9 2014-06-05  STHELENA-02_20140605_200000_1  Flight Call      67.472   \n",
       "\n",
       "   Time End       Species Notes  overlap  \n",
       "0     4.197  Storm Petrel   NaN     True  \n",
       "1    11.622  Storm Petrel   NaN     True  \n",
       "2    16.464  Storm Petrel   NaN     True  \n",
       "3    18.724  Storm Petrel   NaN     True  \n",
       "4    21.307  Storm Petrel   NaN     True  \n",
       "5    34.866  Storm Petrel   NaN    False  \n",
       "6    52.944  Storm Petrel   NaN     True  \n",
       "7    61.984  Storm Petrel   NaN    False  \n",
       "8    66.826  Storm Petrel   NaN     True  \n",
       "9    68.763  Storm Petrel   NaN    False  "
      ]
     },
     "execution_count": 125,
     "metadata": {},
     "output_type": "execute_result"
    }
   ],
   "source": [
    "lab.head(10)"
   ]
  },
  {
   "cell_type": "code",
   "execution_count": 127,
   "metadata": {},
   "outputs": [
    {
     "data": {
      "text/html": [
       "<div>\n",
       "<style scoped>\n",
       "    .dataframe tbody tr th:only-of-type {\n",
       "        vertical-align: middle;\n",
       "    }\n",
       "\n",
       "    .dataframe tbody tr th {\n",
       "        vertical-align: top;\n",
       "    }\n",
       "\n",
       "    .dataframe thead th {\n",
       "        text-align: right;\n",
       "    }\n",
       "</style>\n",
       "<table border=\"1\" class=\"dataframe\">\n",
       "  <thead>\n",
       "    <tr style=\"text-align: right;\">\n",
       "      <th></th>\n",
       "      <th>File Name</th>\n",
       "      <th>Time Start</th>\n",
       "      <th>Time End</th>\n",
       "      <th>overlap</th>\n",
       "    </tr>\n",
       "  </thead>\n",
       "  <tbody>\n",
       "    <tr>\n",
       "      <th>0</th>\n",
       "      <td>STHELENA-02_20140605_200000_1</td>\n",
       "      <td>2.848</td>\n",
       "      <td>3.348</td>\n",
       "      <td>True</td>\n",
       "    </tr>\n",
       "    <tr>\n",
       "      <th>1</th>\n",
       "      <td>STHELENA-02_20140605_200000_1</td>\n",
       "      <td>2.976</td>\n",
       "      <td>3.476</td>\n",
       "      <td>True</td>\n",
       "    </tr>\n",
       "    <tr>\n",
       "      <th>2</th>\n",
       "      <td>STHELENA-02_20140605_200000_1</td>\n",
       "      <td>3.168</td>\n",
       "      <td>3.668</td>\n",
       "      <td>True</td>\n",
       "    </tr>\n",
       "    <tr>\n",
       "      <th>3</th>\n",
       "      <td>STHELENA-02_20140605_200000_1</td>\n",
       "      <td>3.296</td>\n",
       "      <td>3.796</td>\n",
       "      <td>True</td>\n",
       "    </tr>\n",
       "    <tr>\n",
       "      <th>4</th>\n",
       "      <td>STHELENA-02_20140605_200000_1</td>\n",
       "      <td>3.424</td>\n",
       "      <td>3.924</td>\n",
       "      <td>True</td>\n",
       "    </tr>\n",
       "    <tr>\n",
       "      <th>5</th>\n",
       "      <td>STHELENA-02_20140605_200000_1</td>\n",
       "      <td>3.552</td>\n",
       "      <td>4.052</td>\n",
       "      <td>True</td>\n",
       "    </tr>\n",
       "    <tr>\n",
       "      <th>6</th>\n",
       "      <td>STHELENA-02_20140605_200000_1</td>\n",
       "      <td>3.744</td>\n",
       "      <td>4.244</td>\n",
       "      <td>True</td>\n",
       "    </tr>\n",
       "    <tr>\n",
       "      <th>7</th>\n",
       "      <td>STHELENA-02_20140605_200000_1</td>\n",
       "      <td>3.936</td>\n",
       "      <td>4.436</td>\n",
       "      <td>True</td>\n",
       "    </tr>\n",
       "    <tr>\n",
       "      <th>8</th>\n",
       "      <td>STHELENA-02_20140605_200000_1</td>\n",
       "      <td>4.160</td>\n",
       "      <td>4.660</td>\n",
       "      <td>True</td>\n",
       "    </tr>\n",
       "    <tr>\n",
       "      <th>9</th>\n",
       "      <td>STHELENA-02_20140605_200000_1</td>\n",
       "      <td>8.384</td>\n",
       "      <td>8.884</td>\n",
       "      <td>True</td>\n",
       "    </tr>\n",
       "    <tr>\n",
       "      <th>10</th>\n",
       "      <td>STHELENA-02_20140605_200000_1</td>\n",
       "      <td>8.512</td>\n",
       "      <td>9.012</td>\n",
       "      <td>True</td>\n",
       "    </tr>\n",
       "    <tr>\n",
       "      <th>11</th>\n",
       "      <td>STHELENA-02_20140605_200000_1</td>\n",
       "      <td>8.672</td>\n",
       "      <td>9.172</td>\n",
       "      <td>True</td>\n",
       "    </tr>\n",
       "    <tr>\n",
       "      <th>12</th>\n",
       "      <td>STHELENA-02_20140605_200000_1</td>\n",
       "      <td>8.864</td>\n",
       "      <td>9.364</td>\n",
       "      <td>True</td>\n",
       "    </tr>\n",
       "    <tr>\n",
       "      <th>13</th>\n",
       "      <td>STHELENA-02_20140605_200000_1</td>\n",
       "      <td>9.024</td>\n",
       "      <td>9.524</td>\n",
       "      <td>True</td>\n",
       "    </tr>\n",
       "    <tr>\n",
       "      <th>14</th>\n",
       "      <td>STHELENA-02_20140605_200000_1</td>\n",
       "      <td>9.920</td>\n",
       "      <td>10.420</td>\n",
       "      <td>True</td>\n",
       "    </tr>\n",
       "    <tr>\n",
       "      <th>15</th>\n",
       "      <td>STHELENA-02_20140605_200000_1</td>\n",
       "      <td>10.016</td>\n",
       "      <td>10.516</td>\n",
       "      <td>True</td>\n",
       "    </tr>\n",
       "    <tr>\n",
       "      <th>16</th>\n",
       "      <td>STHELENA-02_20140605_200000_1</td>\n",
       "      <td>10.304</td>\n",
       "      <td>10.804</td>\n",
       "      <td>True</td>\n",
       "    </tr>\n",
       "    <tr>\n",
       "      <th>17</th>\n",
       "      <td>STHELENA-02_20140605_200000_1</td>\n",
       "      <td>10.432</td>\n",
       "      <td>10.932</td>\n",
       "      <td>True</td>\n",
       "    </tr>\n",
       "    <tr>\n",
       "      <th>18</th>\n",
       "      <td>STHELENA-02_20140605_200000_1</td>\n",
       "      <td>10.688</td>\n",
       "      <td>11.188</td>\n",
       "      <td>True</td>\n",
       "    </tr>\n",
       "    <tr>\n",
       "      <th>19</th>\n",
       "      <td>STHELENA-02_20140605_200000_1</td>\n",
       "      <td>10.880</td>\n",
       "      <td>11.380</td>\n",
       "      <td>True</td>\n",
       "    </tr>\n",
       "    <tr>\n",
       "      <th>20</th>\n",
       "      <td>STHELENA-02_20140605_200000_1</td>\n",
       "      <td>11.072</td>\n",
       "      <td>11.572</td>\n",
       "      <td>True</td>\n",
       "    </tr>\n",
       "    <tr>\n",
       "      <th>21</th>\n",
       "      <td>STHELENA-02_20140605_200000_1</td>\n",
       "      <td>14.560</td>\n",
       "      <td>15.060</td>\n",
       "      <td>True</td>\n",
       "    </tr>\n",
       "    <tr>\n",
       "      <th>22</th>\n",
       "      <td>STHELENA-02_20140605_200000_1</td>\n",
       "      <td>14.688</td>\n",
       "      <td>15.188</td>\n",
       "      <td>True</td>\n",
       "    </tr>\n",
       "    <tr>\n",
       "      <th>23</th>\n",
       "      <td>STHELENA-02_20140605_200000_1</td>\n",
       "      <td>14.848</td>\n",
       "      <td>15.348</td>\n",
       "      <td>True</td>\n",
       "    </tr>\n",
       "    <tr>\n",
       "      <th>24</th>\n",
       "      <td>STHELENA-02_20140605_200000_1</td>\n",
       "      <td>15.040</td>\n",
       "      <td>15.540</td>\n",
       "      <td>True</td>\n",
       "    </tr>\n",
       "    <tr>\n",
       "      <th>25</th>\n",
       "      <td>STHELENA-02_20140605_200000_1</td>\n",
       "      <td>15.232</td>\n",
       "      <td>15.732</td>\n",
       "      <td>True</td>\n",
       "    </tr>\n",
       "    <tr>\n",
       "      <th>26</th>\n",
       "      <td>STHELENA-02_20140605_200000_1</td>\n",
       "      <td>15.424</td>\n",
       "      <td>15.924</td>\n",
       "      <td>True</td>\n",
       "    </tr>\n",
       "    <tr>\n",
       "      <th>27</th>\n",
       "      <td>STHELENA-02_20140605_200000_1</td>\n",
       "      <td>17.600</td>\n",
       "      <td>18.100</td>\n",
       "      <td>True</td>\n",
       "    </tr>\n",
       "    <tr>\n",
       "      <th>28</th>\n",
       "      <td>STHELENA-02_20140605_200000_1</td>\n",
       "      <td>17.696</td>\n",
       "      <td>18.196</td>\n",
       "      <td>True</td>\n",
       "    </tr>\n",
       "    <tr>\n",
       "      <th>29</th>\n",
       "      <td>STHELENA-02_20140605_200000_1</td>\n",
       "      <td>17.920</td>\n",
       "      <td>18.420</td>\n",
       "      <td>True</td>\n",
       "    </tr>\n",
       "    <tr>\n",
       "      <th>30</th>\n",
       "      <td>STHELENA-02_20140605_200000_1</td>\n",
       "      <td>17.984</td>\n",
       "      <td>18.484</td>\n",
       "      <td>True</td>\n",
       "    </tr>\n",
       "    <tr>\n",
       "      <th>31</th>\n",
       "      <td>STHELENA-02_20140605_200000_1</td>\n",
       "      <td>18.080</td>\n",
       "      <td>18.580</td>\n",
       "      <td>True</td>\n",
       "    </tr>\n",
       "    <tr>\n",
       "      <th>32</th>\n",
       "      <td>STHELENA-02_20140605_200000_1</td>\n",
       "      <td>18.176</td>\n",
       "      <td>18.676</td>\n",
       "      <td>True</td>\n",
       "    </tr>\n",
       "    <tr>\n",
       "      <th>33</th>\n",
       "      <td>STHELENA-02_20140605_200000_1</td>\n",
       "      <td>20.192</td>\n",
       "      <td>20.692</td>\n",
       "      <td>True</td>\n",
       "    </tr>\n",
       "    <tr>\n",
       "      <th>34</th>\n",
       "      <td>STHELENA-02_20140605_200000_1</td>\n",
       "      <td>20.384</td>\n",
       "      <td>20.884</td>\n",
       "      <td>True</td>\n",
       "    </tr>\n",
       "    <tr>\n",
       "      <th>35</th>\n",
       "      <td>STHELENA-02_20140605_200000_1</td>\n",
       "      <td>20.512</td>\n",
       "      <td>21.012</td>\n",
       "      <td>True</td>\n",
       "    </tr>\n",
       "    <tr>\n",
       "      <th>36</th>\n",
       "      <td>STHELENA-02_20140605_200000_1</td>\n",
       "      <td>30.592</td>\n",
       "      <td>31.092</td>\n",
       "      <td>True</td>\n",
       "    </tr>\n",
       "    <tr>\n",
       "      <th>37</th>\n",
       "      <td>STHELENA-02_20140605_200000_1</td>\n",
       "      <td>32.160</td>\n",
       "      <td>32.660</td>\n",
       "      <td>True</td>\n",
       "    </tr>\n",
       "    <tr>\n",
       "      <th>38</th>\n",
       "      <td>STHELENA-02_20140605_200000_1</td>\n",
       "      <td>41.856</td>\n",
       "      <td>42.356</td>\n",
       "      <td>True</td>\n",
       "    </tr>\n",
       "    <tr>\n",
       "      <th>39</th>\n",
       "      <td>STHELENA-02_20140605_200000_1</td>\n",
       "      <td>47.904</td>\n",
       "      <td>48.404</td>\n",
       "      <td>True</td>\n",
       "    </tr>\n",
       "  </tbody>\n",
       "</table>\n",
       "</div>"
      ],
      "text/plain": [
       "                        File Name  Time Start  Time End  overlap\n",
       "0   STHELENA-02_20140605_200000_1       2.848     3.348     True\n",
       "1   STHELENA-02_20140605_200000_1       2.976     3.476     True\n",
       "2   STHELENA-02_20140605_200000_1       3.168     3.668     True\n",
       "3   STHELENA-02_20140605_200000_1       3.296     3.796     True\n",
       "4   STHELENA-02_20140605_200000_1       3.424     3.924     True\n",
       "5   STHELENA-02_20140605_200000_1       3.552     4.052     True\n",
       "6   STHELENA-02_20140605_200000_1       3.744     4.244     True\n",
       "7   STHELENA-02_20140605_200000_1       3.936     4.436     True\n",
       "8   STHELENA-02_20140605_200000_1       4.160     4.660     True\n",
       "9   STHELENA-02_20140605_200000_1       8.384     8.884     True\n",
       "10  STHELENA-02_20140605_200000_1       8.512     9.012     True\n",
       "11  STHELENA-02_20140605_200000_1       8.672     9.172     True\n",
       "12  STHELENA-02_20140605_200000_1       8.864     9.364     True\n",
       "13  STHELENA-02_20140605_200000_1       9.024     9.524     True\n",
       "14  STHELENA-02_20140605_200000_1       9.920    10.420     True\n",
       "15  STHELENA-02_20140605_200000_1      10.016    10.516     True\n",
       "16  STHELENA-02_20140605_200000_1      10.304    10.804     True\n",
       "17  STHELENA-02_20140605_200000_1      10.432    10.932     True\n",
       "18  STHELENA-02_20140605_200000_1      10.688    11.188     True\n",
       "19  STHELENA-02_20140605_200000_1      10.880    11.380     True\n",
       "20  STHELENA-02_20140605_200000_1      11.072    11.572     True\n",
       "21  STHELENA-02_20140605_200000_1      14.560    15.060     True\n",
       "22  STHELENA-02_20140605_200000_1      14.688    15.188     True\n",
       "23  STHELENA-02_20140605_200000_1      14.848    15.348     True\n",
       "24  STHELENA-02_20140605_200000_1      15.040    15.540     True\n",
       "25  STHELENA-02_20140605_200000_1      15.232    15.732     True\n",
       "26  STHELENA-02_20140605_200000_1      15.424    15.924     True\n",
       "27  STHELENA-02_20140605_200000_1      17.600    18.100     True\n",
       "28  STHELENA-02_20140605_200000_1      17.696    18.196     True\n",
       "29  STHELENA-02_20140605_200000_1      17.920    18.420     True\n",
       "30  STHELENA-02_20140605_200000_1      17.984    18.484     True\n",
       "31  STHELENA-02_20140605_200000_1      18.080    18.580     True\n",
       "32  STHELENA-02_20140605_200000_1      18.176    18.676     True\n",
       "33  STHELENA-02_20140605_200000_1      20.192    20.692     True\n",
       "34  STHELENA-02_20140605_200000_1      20.384    20.884     True\n",
       "35  STHELENA-02_20140605_200000_1      20.512    21.012     True\n",
       "36  STHELENA-02_20140605_200000_1      30.592    31.092     True\n",
       "37  STHELENA-02_20140605_200000_1      32.160    32.660     True\n",
       "38  STHELENA-02_20140605_200000_1      41.856    42.356     True\n",
       "39  STHELENA-02_20140605_200000_1      47.904    48.404     True"
      ]
     },
     "execution_count": 127,
     "metadata": {},
     "output_type": "execute_result"
    }
   ],
   "source": [
    "feat[feat['File Name'] == 'STHELENA-02_20140605_200000_1'].head(40)"
   ]
  },
  {
   "cell_type": "code",
   "execution_count": 130,
   "metadata": {},
   "outputs": [
    {
     "data": {
      "text/plain": [
       "0.9922288943836101"
      ]
     },
     "execution_count": 130,
     "metadata": {},
     "output_type": "execute_result"
    }
   ],
   "source": [
    "sum(feat['overlap'])/len(feat)"
   ]
  },
  {
   "cell_type": "code",
   "execution_count": 111,
   "metadata": {},
   "outputs": [
    {
     "data": {
      "text/plain": [
       "2067"
      ]
     },
     "execution_count": 111,
     "metadata": {},
     "output_type": "execute_result"
    }
   ],
   "source": [
    "len(onsets_df)"
   ]
  },
  {
   "cell_type": "code",
   "execution_count": 3,
   "metadata": {},
   "outputs": [
    {
     "data": {
      "text/plain": [
       "['/mnt/data/Birdman/samples/recordings/STHELENA-02_20140605_200000_11.wav',\n",
       " '/mnt/data/Birdman/samples/recordings/STHELENA-02_20140605_200000_5.wav',\n",
       " '/mnt/data/Birdman/samples/recordings/STHELENA-02_20140605_200000_3.wav',\n",
       " '/mnt/data/Birdman/samples/recordings/STHELENA-02_20140605_200000_10.wav',\n",
       " '/mnt/data/Birdman/samples/recordings/STHELENA-02_20140605_200000_2.wav',\n",
       " '/mnt/data/Birdman/samples/recordings/STHELENA-02_20140605_200000_7.wav',\n",
       " '/mnt/data/Birdman/samples/recordings/STHELENA-02_20140605_200000_13.wav',\n",
       " '/mnt/data/Birdman/samples/recordings/STHELENA-02_20140605_200000_8.wav',\n",
       " '/mnt/data/Birdman/samples/recordings/STHELENA-02_20140605_200000_9.wav',\n",
       " '/mnt/data/Birdman/samples/recordings/STHELENA-02_20140605_200000_6.wav',\n",
       " '/mnt/data/Birdman/samples/recordings/STHELENA-02_20140605_200000_1.wav',\n",
       " '/mnt/data/Birdman/samples/recordings/STHELENA-02_20140605_200000_4.wav',\n",
       " '/mnt/data/Birdman/samples/recordings/STHELENA-02_20140605_200000_12.wav']"
      ]
     },
     "execution_count": 3,
     "metadata": {},
     "output_type": "execute_result"
    }
   ],
   "source": [
    "samples_paths"
   ]
  },
  {
   "cell_type": "code",
   "execution_count": 83,
   "metadata": {},
   "outputs": [],
   "source": [
    "y, sr = librosa.load('/mnt/data/Birdman/samples/recordings/STHELENA-02_20140605_200000_1.wav', sr=16000, duration=20)"
   ]
  },
  {
   "cell_type": "code",
   "execution_count": 84,
   "metadata": {},
   "outputs": [],
   "source": [
    "onset_env = librosa.onset.onset_strength(y=y, sr=sr, feature=librosa.feature.melspectrogram,\n",
    "                                         fmax=8000.0, aggregate=np.mean, detrend=False, center=False)\n",
    "onset_s = librosa.onset.onset_detect(onset_envelope=onset_env, sr=sr, units='time', backtrack=True)\n",
    "pd.DataFrame(data=[])"
   ]
  },
  {
   "cell_type": "code",
   "execution_count": 85,
   "metadata": {},
   "outputs": [
    {
     "data": {
      "text/plain": [
       "array([ 3.348,  3.476,  3.476,  3.476,  3.668,  3.668,  3.796,  3.796,\n",
       "        3.924,  4.052,  4.244,  4.34 ,  4.436,  4.66 ,  5.428,  8.884,\n",
       "        8.884,  8.884,  9.012,  9.012,  9.172,  9.172,  9.364,  9.364,\n",
       "        9.524,  9.524, 10.42 , 10.516, 10.516, 10.804, 10.804, 10.932,\n",
       "       10.932, 11.188, 11.188, 11.38 , 11.38 , 11.572, 11.572, 13.94 ,\n",
       "       15.06 , 15.06 , 15.188, 15.348, 15.54 , 15.732, 15.828, 15.924,\n",
       "       16.02 , 17.364, 17.78 , 17.876, 18.1  , 18.196, 18.196, 18.42 ,\n",
       "       18.484, 18.484, 18.58 , 18.676, 18.676])"
      ]
     },
     "execution_count": 85,
     "metadata": {},
     "output_type": "execute_result"
    }
   ],
   "source": [
    "onset_s + 0.5"
   ]
  },
  {
   "cell_type": "code",
   "execution_count": 78,
   "metadata": {},
   "outputs": [
    {
     "data": {
      "text/html": [
       "<div>\n",
       "<style scoped>\n",
       "    .dataframe tbody tr th:only-of-type {\n",
       "        vertical-align: middle;\n",
       "    }\n",
       "\n",
       "    .dataframe tbody tr th {\n",
       "        vertical-align: top;\n",
       "    }\n",
       "\n",
       "    .dataframe thead th {\n",
       "        text-align: right;\n",
       "    }\n",
       "</style>\n",
       "<table border=\"1\" class=\"dataframe\">\n",
       "  <thead>\n",
       "    <tr style=\"text-align: right;\">\n",
       "      <th></th>\n",
       "      <th>Date</th>\n",
       "      <th>File Name</th>\n",
       "      <th>Type of Call</th>\n",
       "      <th>Time Start</th>\n",
       "      <th>Time End</th>\n",
       "      <th>Species</th>\n",
       "      <th>Notes</th>\n",
       "    </tr>\n",
       "  </thead>\n",
       "  <tbody>\n",
       "    <tr>\n",
       "      <th>0</th>\n",
       "      <td>2014-06-05</td>\n",
       "      <td>STHELENA-02_20140605_200000_1</td>\n",
       "      <td>Flight Call</td>\n",
       "      <td>2.905</td>\n",
       "      <td>4.197</td>\n",
       "      <td>Storm Petrel</td>\n",
       "      <td>NaN</td>\n",
       "    </tr>\n",
       "    <tr>\n",
       "      <th>1</th>\n",
       "      <td>2014-06-05</td>\n",
       "      <td>STHELENA-02_20140605_200000_1</td>\n",
       "      <td>Flight Call</td>\n",
       "      <td>10.008</td>\n",
       "      <td>11.622</td>\n",
       "      <td>Storm Petrel</td>\n",
       "      <td>NaN</td>\n",
       "    </tr>\n",
       "    <tr>\n",
       "      <th>2</th>\n",
       "      <td>2014-06-05</td>\n",
       "      <td>STHELENA-02_20140605_200000_1</td>\n",
       "      <td>Flight Call</td>\n",
       "      <td>14.527</td>\n",
       "      <td>16.464</td>\n",
       "      <td>Storm Petrel</td>\n",
       "      <td>NaN</td>\n",
       "    </tr>\n",
       "    <tr>\n",
       "      <th>3</th>\n",
       "      <td>2014-06-05</td>\n",
       "      <td>STHELENA-02_20140605_200000_1</td>\n",
       "      <td>Flight Call</td>\n",
       "      <td>17.110</td>\n",
       "      <td>18.724</td>\n",
       "      <td>Storm Petrel</td>\n",
       "      <td>NaN</td>\n",
       "    </tr>\n",
       "    <tr>\n",
       "      <th>4</th>\n",
       "      <td>2014-06-05</td>\n",
       "      <td>STHELENA-02_20140605_200000_1</td>\n",
       "      <td>Flight Call</td>\n",
       "      <td>20.338</td>\n",
       "      <td>21.307</td>\n",
       "      <td>Storm Petrel</td>\n",
       "      <td>NaN</td>\n",
       "    </tr>\n",
       "  </tbody>\n",
       "</table>\n",
       "</div>"
      ],
      "text/plain": [
       "        Date                      File Name Type of Call  Time Start  \\\n",
       "0 2014-06-05  STHELENA-02_20140605_200000_1  Flight Call       2.905   \n",
       "1 2014-06-05  STHELENA-02_20140605_200000_1  Flight Call      10.008   \n",
       "2 2014-06-05  STHELENA-02_20140605_200000_1  Flight Call      14.527   \n",
       "3 2014-06-05  STHELENA-02_20140605_200000_1  Flight Call      17.110   \n",
       "4 2014-06-05  STHELENA-02_20140605_200000_1  Flight Call      20.338   \n",
       "\n",
       "   Time End       Species Notes  \n",
       "0     4.197  Storm Petrel   NaN  \n",
       "1    11.622  Storm Petrel   NaN  \n",
       "2    16.464  Storm Petrel   NaN  \n",
       "3    18.724  Storm Petrel   NaN  \n",
       "4    21.307  Storm Petrel   NaN  "
      ]
     },
     "execution_count": 78,
     "metadata": {},
     "output_type": "execute_result"
    }
   ],
   "source": [
    "labels.head()"
   ]
  },
  {
   "cell_type": "code",
   "execution_count": 74,
   "metadata": {},
   "outputs": [
    {
     "data": {
      "text/plain": [
       "array([ 2.848,  2.976,  2.976,  2.976,  3.168,  3.168,  3.296,  3.296,\n",
       "        3.424,  3.552,  3.744,  3.84 ,  3.936,  4.16 ,  4.928,  8.384,\n",
       "        8.384,  8.384,  8.512,  8.512,  8.672,  8.672,  8.864,  8.864,\n",
       "        9.024,  9.024,  9.92 , 10.016, 10.016, 10.304, 10.304, 10.432,\n",
       "       10.432, 10.688, 10.688, 10.88 , 10.88 , 11.072, 11.072, 13.44 ,\n",
       "       14.56 , 14.56 , 14.688, 14.848, 15.04 , 15.232, 15.328, 15.424,\n",
       "       15.52 , 16.864, 17.28 , 17.376, 17.6  , 17.696, 17.696, 17.92 ,\n",
       "       17.984, 17.984, 18.08 , 18.176, 18.176])"
      ]
     },
     "execution_count": 74,
     "metadata": {},
     "output_type": "execute_result"
    }
   ],
   "source": [
    "\n",
    "onset_s"
   ]
  },
  {
   "cell_type": "code",
   "execution_count": 58,
   "metadata": {},
   "outputs": [],
   "source": [
    "onset = librosa.onset.onset_detect(onset_envelope=onset_env, sr=sr, units='frames', backtrack=True)\n",
    "onset_bt = librosa.onset.onset_backtrack(onset, onset_env)"
   ]
  },
  {
   "cell_type": "code",
   "execution_count": 60,
   "metadata": {},
   "outputs": [
    {
     "data": {
      "text/plain": [
       "61"
      ]
     },
     "execution_count": 60,
     "metadata": {},
     "output_type": "execute_result"
    }
   ],
   "source": [
    "len(onset_bt)"
   ]
  },
  {
   "cell_type": "code",
   "execution_count": 55,
   "metadata": {},
   "outputs": [
    {
     "data": {
      "text/plain": [
       "array([  2,   2,   9,  29,  38,  40,  49,  51,  56,  60,  64,  70,  72,\n",
       "        83,  94,  96, 103, 105, 105, 110, 110, 114, 117, 121, 123, 125,\n",
       "       131, 131, 136, 141, 145, 145, 150, 161, 163, 175, 178, 186, 188,\n",
       "       201, 207, 216, 222, 222, 231, 243, 250, 255, 264, 268, 271, 273,\n",
       "       277, 279, 281, 283, 285, 285, 300, 309, 313, 313, 321, 324, 324,\n",
       "       328, 328, 334, 336, 336, 336, 342, 342, 349, 349, 352, 358, 362,\n",
       "       366, 374, 385, 393, 400, 410, 413, 417, 420, 426, 439, 439, 443,\n",
       "       447, 451, 457, 461, 467, 470, 472, 472, 478, 478, 484, 484, 488,\n",
       "       490, 490, 498, 506, 509, 514, 517, 522, 534, 538, 542, 545, 547,\n",
       "       549, 552, 555, 559, 562, 565, 567, 567, 571, 580, 591, 597, 600,\n",
       "       605, 605, 613, 621])"
      ]
     },
     "execution_count": 55,
     "metadata": {},
     "output_type": "execute_result"
    }
   ],
   "source": [
    "onset"
   ]
  },
  {
   "cell_type": "code",
   "execution_count": 49,
   "metadata": {},
   "outputs": [
    {
     "data": {
      "text/plain": [
       "array([ 91,  95,  95,  95, 101, 101, 105, 105, 109, 113, 119, 122, 125,\n",
       "       132, 156, 264, 264, 264, 268, 268, 273, 273, 279, 279, 284, 284,\n",
       "       312, 315, 315, 324, 324, 328, 328, 336, 336, 342, 342, 348, 348,\n",
       "       422, 457, 457, 461, 466, 472, 478, 481, 484, 487, 529, 542, 545,\n",
       "       552, 555, 555, 562, 564, 564, 567, 570, 570])"
      ]
     },
     "execution_count": 49,
     "metadata": {},
     "output_type": "execute_result"
    }
   ],
   "source": [
    "onset_bt"
   ]
  },
  {
   "cell_type": "code",
   "execution_count": null,
   "metadata": {},
   "outputs": [],
   "source": [
    "times = librosa.frames_to_time(np.arange(len(onset_env)), sr=sr)\n",
    "times"
   ]
  },
  {
   "cell_type": "code",
   "execution_count": 31,
   "metadata": {},
   "outputs": [
    {
     "data": {
      "text/plain": [
       "array([ 2.912,  3.04 ,  3.04 ,  3.04 ,  3.232,  3.232,  3.36 ,  3.36 ,\n",
       "        3.488,  3.616,  3.808,  3.904,  4.   ,  4.224,  4.992,  8.448,\n",
       "        8.448,  8.448,  8.576,  8.576,  8.736,  8.736,  8.928,  8.928,\n",
       "        9.088,  9.088,  9.984, 10.08 , 10.08 , 10.368, 10.368, 10.496,\n",
       "       10.496, 10.752, 10.752, 10.944, 10.944, 11.136, 11.136, 13.504,\n",
       "       14.624, 14.624, 14.752, 14.912, 15.104, 15.296, 15.392, 15.488,\n",
       "       15.584, 16.928, 17.344, 17.44 , 17.664, 17.76 , 17.76 , 17.984,\n",
       "       18.048, 18.048, 18.144, 18.24 , 18.24 ])"
      ]
     },
     "execution_count": 31,
     "metadata": {},
     "output_type": "execute_result"
    }
   ],
   "source": [
    "librosa.frames_to_time(onset, sr=16000)"
   ]
  },
  {
   "cell_type": "code",
   "execution_count": null,
   "metadata": {},
   "outputs": [],
   "source": [
    "times = librosa.frames_to_time(np.arange(len(onset_env)), sr=sr)\n",
    "D = np.abs(librosa.stft(y))"
   ]
  },
  {
   "cell_type": "code",
   "execution_count": null,
   "metadata": {},
   "outputs": [],
   "source": [
    "onset_times = librosa.onset.onset_detect(onset_envelope=onset_env, sr=sr, units='time')\n",
    "onset_times"
   ]
  },
  {
   "cell_type": "code",
   "execution_count": null,
   "metadata": {},
   "outputs": [],
   "source": [
    "onset_frames = librosa.onset.onset_detect(onset_envelope=onset_env, sr=sr, units='frames')\n"
   ]
  },
  {
   "cell_type": "code",
   "execution_count": null,
   "metadata": {},
   "outputs": [],
   "source": [
    "plt.plot(onset_env)"
   ]
  },
  {
   "cell_type": "code",
   "execution_count": null,
   "metadata": {},
   "outputs": [],
   "source": [
    "times[onset_frames]"
   ]
  },
  {
   "cell_type": "markdown",
   "metadata": {},
   "source": [
    "![sss](\"http://latex.codecogs.com/gif.latex?%5Ba%3D%5Cfrac%7B%5Cleft(%20%7B%7B2%7D%5E%7B%5Cfrac%7B1%7D%7B3%7D%7D%7D%5Ccdot%20%5Csqrt%7B3%7D%5Ccdot%20i-%7B%7B2%7D%5E%7B%5Cfrac%7B1%7D%7B3%7D%7D%7D%5Cright)%20%5Ccdot%20%7B%7Bk%7D%5E%7B%5Cfrac%7B1%7D%7B3%7D%7D%7D%7D%7B2%7D%2Ca%3D-%5Cfrac%7B%5Cleft(%20%7B%7B2%7D%5E%7B%5Cfrac%7B1%7D%7B3%7D%7D%7D%2B%7B%7B2%7D%5E%7B%5Cfrac%7B1%7D%7B3%7D%7D%7D%5Ccdot%20%5Csqrt%7B3%7D%5Ccdot%20i%5Cright)%20%5Ccdot%20%7B%7Bk%7D%5E%7B%5Cfrac%7B1%7D%7B3%7D%7D%7D%7D%7B2%7D%2Ca%3D%7B%7B2%7D%5E%7B%5Cfrac%7B1%7D%7B3%7D%7D%7D%5Ccdot%20%7B%7Bk%7D%5E%7B%5Cfrac%7B1%7D%7B3%7D%7D%7D%5D\")"
   ]
  },
  {
   "cell_type": "code",
   "execution_count": null,
   "metadata": {},
   "outputs": [],
   "source": []
  }
 ],
 "metadata": {
  "kernelspec": {
   "display_name": "Python 3",
   "language": "python",
   "name": "python3"
  },
  "language_info": {
   "codemirror_mode": {
    "name": "ipython",
    "version": 3
   },
   "file_extension": ".py",
   "mimetype": "text/x-python",
   "name": "python",
   "nbconvert_exporter": "python",
   "pygments_lexer": "ipython3",
   "version": "3.6.6"
  }
 },
 "nbformat": 4,
 "nbformat_minor": 2
}
