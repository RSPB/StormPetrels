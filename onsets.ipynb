{
 "cells": [
  {
   "cell_type": "code",
   "execution_count": 1,
   "metadata": {},
   "outputs": [],
   "source": [
    "import os\n",
    "import sys\n",
    "import glob\n",
    "import numpy as np\n",
    "import librosa\n",
    "import librosa.display\n",
    "import pandas as pd\n",
    "import matplotlib.pyplot as plt\n",
    "from scipy.io import wavfile\n",
    "from aubio import onset\n",
    "from scipy.signal import butter, lfilter\n",
    "from multiprocessing import Pool, cpu_count\n",
    "\n",
    "import signalproc\n",
    "from birdutils import read_labels\n",
    "\n",
    "%matplotlib inline"
   ]
  },
  {
   "cell_type": "code",
   "execution_count": 2,
   "metadata": {},
   "outputs": [],
   "source": [
    "def find_overlap(features, labels):\n",
    "    features['overlap'] = False\n",
    "    labels['overlap'] = False\n",
    "    filenames = labels['File Name'].unique()\n",
    "\n",
    "    for filename in filenames:\n",
    "        df_label = labels[labels['File Name'] == filename]\n",
    "        df_feat = features[features['File Name'] == filename]\n",
    "        for index1, row_label in df_label.iterrows():\n",
    "            for index2, row_feat in df_feat.iterrows():\n",
    "                feat_start = row_feat['Time Start']\n",
    "                feat_end = row_feat['Time End']\n",
    "                label_start = row_label['Time Start']\n",
    "                label_end = row_label['Time End']\n",
    "                overlap = (label_start <= feat_end) and (label_end >= feat_start)\n",
    "                if overlap:\n",
    "                    labels.at[index1, 'overlap'] = True\n",
    "                    features.at[index2, 'overlap'] = True\n",
    "    return features, labels"
   ]
  },
  {
   "cell_type": "code",
   "execution_count": 3,
   "metadata": {},
   "outputs": [],
   "source": [
    "def find_onsets(path):\n",
    "    name = os.path.splitext(os.path.basename(path))[0]\n",
    "    y, sr = librosa.load(path, sr=16000)\n",
    "    y = signalproc.bandpass_filter(y, sr, 200, 5000)\n",
    "    onset_env = librosa.onset.onset_strength(y=y, sr=sr, feature=librosa.feature.melspectrogram, n_mels=128,\n",
    "                                            fmax=8000, aggregate=np.mean, detrend=True, center=False)\n",
    "    onset_s = librosa.onset.onset_detect(onset_envelope=onset_env, sr=sr, units='time', backtrack=True, hop_length=512)\n",
    "    onset_s = np.unique(onset_s)\n",
    "    onset_end_s = onset_s + 0.8\n",
    "    df = pd.DataFrame(data={'File Name': name, 'Time Start': onset_s, 'Time End': onset_end_s})\n",
    "    return df"
   ]
  },
  {
   "cell_type": "code",
   "execution_count": 4,
   "metadata": {},
   "outputs": [],
   "source": [
    "bird_calls_labels_path = '/mnt/data/Birdman/sthelena_labels.xls'\n",
    "samples_dir = '/mnt/data/Birdman/samples/recordings/'\n",
    "samples_paths = glob.glob(samples_dir + 'STHELENA-02_20140605_200000*.wav')\n",
    "labels_dict = read_labels(bird_calls_labels_path)\n",
    "labels = pd.concat(labels_dict, axis=0, ignore_index=True)"
   ]
  },
  {
   "cell_type": "code",
   "execution_count": 5,
   "metadata": {},
   "outputs": [],
   "source": [
    "with Pool(cpu_count()) as p:\n",
    "    onset_all = p.map(find_onsets, samples_paths)"
   ]
  },
  {
   "cell_type": "code",
   "execution_count": 6,
   "metadata": {},
   "outputs": [
    {
     "name": "stdout",
     "output_type": "stream",
     "text": [
      "2870\n"
     ]
    }
   ],
   "source": [
    "onsets_df = pd.concat(onset_all)\n",
    "print(len(onsets_df))"
   ]
  },
  {
   "cell_type": "code",
   "execution_count": 7,
   "metadata": {},
   "outputs": [
    {
     "data": {
      "text/plain": [
       "0.9226804123711341"
      ]
     },
     "execution_count": 7,
     "metadata": {},
     "output_type": "execute_result"
    }
   ],
   "source": [
    "feat, lab = find_overlap(onsets_df, labels)\n",
    "sum(lab['overlap']) / len(lab)"
   ]
  },
  {
   "cell_type": "code",
   "execution_count": null,
   "metadata": {},
   "outputs": [],
   "source": []
  }
 ],
 "metadata": {
  "kernelspec": {
   "display_name": "Python 3",
   "language": "python",
   "name": "python3"
  },
  "language_info": {
   "codemirror_mode": {
    "name": "ipython",
    "version": 3
   },
   "file_extension": ".py",
   "mimetype": "text/x-python",
   "name": "python",
   "nbconvert_exporter": "python",
   "pygments_lexer": "ipython3",
   "version": "3.6.6"
  }
 },
 "nbformat": 4,
 "nbformat_minor": 2
}
