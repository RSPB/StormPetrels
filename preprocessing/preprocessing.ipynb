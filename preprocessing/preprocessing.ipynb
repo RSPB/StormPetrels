{
 "cells": [
  {
   "cell_type": "code",
   "execution_count": 11,
   "metadata": {},
   "outputs": [],
   "source": [
    "import os\n",
    "import glob\n",
    "import pandas as pd\n",
    "from collections import OrderedDict, namedtuple\n",
    "from plotly import tools"
   ]
  },
  {
   "cell_type": "markdown",
   "metadata": {},
   "source": [
    "Load features computed for the predetermined sound samples."
   ]
  },
  {
   "cell_type": "code",
   "execution_count": 2,
   "metadata": {},
   "outputs": [],
   "source": [
    "path = '/mnt/data/Birdman/samples/features/features_petrels_bp1-8_wl256_th4.csv'\n",
    "features = pd.read_csv(path, index_col=None)"
   ]
  },
  {
   "cell_type": "code",
   "execution_count": 3,
   "metadata": {},
   "outputs": [],
   "source": [
    "selected_features = (\n",
    "    ('petrel', 'presence of storm petrel'),\n",
    "    ('sound.files', 'name of the file'),\n",
    "    ('meanfreq', 'mean frequency (in kHz)'),\n",
    "    ('sd', 'standard deviation of frequency'),\n",
    "    ('freq.Q75', 'third quantile (in kHz)'),\n",
    "    ('freq.IQR', 'interquantile range (in kHz)'),\n",
    "    ('skew', 'skewness - asymmetry of the spectrum'),\n",
    "    ('kurt', 'kurtosis - peakedness of the spectrum'),\n",
    "    ('sp.ent', 'spectral entropy'),\n",
    "    ('sfm', 'spectral flatness'),\n",
    "    ('meanfun', 'average of fundamental frequency'),\n",
    "    ('maxfun', 'maximum fundamental frequency'),\n",
    "    ('meandom', 'average of dominant frequency'),\n",
    "    ('dfrange', 'range of dominant frequency'),\n",
    "    ('modindx', 'modulation index'),\n",
    "    ('meanpeakf', 'mean peak frequency'))\n",
    "\n",
    "feature_legend = OrderedDict(selected_features)\n",
    "selected_features_names = [name for name, desc in selected_features]\n",
    "features = features[selected_features_names]\n",
    "features = features.fillna(0)"
   ]
  },
  {
   "cell_type": "code",
   "execution_count": 4,
   "metadata": {},
   "outputs": [
    {
     "name": "stdout",
     "output_type": "stream",
     "text": [
      "0    2482\n",
      "1    1281\n",
      "Name: petrel, dtype: int64\n"
     ]
    }
   ],
   "source": [
    "petrel_count = features['petrel'].value_counts()\n",
    "print(petrel_count)"
   ]
  },
  {
   "cell_type": "markdown",
   "metadata": {},
   "source": [
    "`1` denotes petrel, `0` lack of thereof (we'll call it *noise* for brevity). There is imbalance in favour of non-petrel features, primarily introduced with three files that in the selected regions represent only noise."
   ]
  },
  {
   "cell_type": "markdown",
   "metadata": {},
   "source": [
    "### Subsampling\n",
    "STHELENA-02_20140605_* contain relatively few samples compared to the top 3. For training, we're going to take all sampels from STHELENA-02_20140605_* and subsample the top 3. It should be noted that top 3 has no petrels."
   ]
  },
  {
   "cell_type": "code",
   "execution_count": 5,
   "metadata": {},
   "outputs": [
    {
     "name": "stdout",
     "output_type": "stream",
     "text": [
      "There are 3763 samples in total\n",
      "\n",
      "STHELENA-01_20140106_210000_0-15min.wav       840\n",
      "STHELENA-02_20140108_210100_110-120min.wav    600\n",
      "STHELENA-01_20140101_210000_55-105min.wav     600\n",
      "STHELENA-02_20140605_200000_1.wav             209\n",
      "STHELENA-02_20140605_200000_10.wav            185\n",
      "STHELENA-02_20140605_200000_7.wav             178\n",
      "STHELENA-02_20140605_200000_11.wav            164\n",
      "STHELENA-02_20140605_200000_2.wav             156\n",
      "STHELENA-02_20140605_200000_8.wav             138\n",
      "STHELENA-02_20140605_200000_4.wav             135\n",
      "STHELENA-02_20140605_200000_3.wav             134\n",
      "STHELENA-02_20140605_200000_5.wav             132\n",
      "STHELENA-02_20140605_200000_12.wav            104\n",
      "STHELENA-02_20140605_200000_9.wav              89\n",
      "STHELENA-02_20140605_200000_6.wav              51\n",
      "STHELENA-02_20140605_200000_13.wav             48\n",
      "Name: sound.files, dtype: int64\n"
     ]
    }
   ],
   "source": [
    "count_per_file = features['sound.files'].value_counts()\n",
    "top3_names = list(count_per_file[:3].index)\n",
    "rest_names = list(count_per_file[3:].index)\n",
    "print(f'There are {len(features)} samples in total\\n')\n",
    "print(count_per_file)"
   ]
  },
  {
   "cell_type": "code",
   "execution_count": 6,
   "metadata": {},
   "outputs": [
    {
     "name": "stdout",
     "output_type": "stream",
     "text": [
      "We need 839 extra samples to have equal population of noise and petrel features\n"
     ]
    }
   ],
   "source": [
    "features_top3 = features[features['sound.files'].isin(top3_names)]\n",
    "features_rest = features[features['sound.files'].isin(rest_names)]\n",
    "noise_samples_top3 = sum(features_top3['petrel'] == 0)\n",
    "noise_samples_rest = sum(features_rest['petrel'] == 0)\n",
    "petrels_samples_top3 = sum(features_top3['petrel'] == 1)\n",
    "petrels_samples_rest = sum(features_rest['petrel'] == 1)\n",
    "assert(petrels_samples_top3 == 0) # There should be no petrel in the top 3\n",
    "extra_noise_to_sample = petrels_samples_rest - noise_samples_rest\n",
    "print(f'We need {extra_noise_to_sample} extra samples to have equal population of noise and petrel features')"
   ]
  },
  {
   "cell_type": "code",
   "execution_count": 7,
   "metadata": {},
   "outputs": [
    {
     "name": "stdout",
     "output_type": "stream",
     "text": [
      "The leftover 1201 will be used for testing purposes\n"
     ]
    }
   ],
   "source": [
    "extra_noise_top3_df = features_top3.sample(extra_noise_to_sample, random_state=42)\n",
    "features_top3_extra_removed_df = features_top3.drop(extra_noise_top3_df.index)\n",
    "print(f'The leftover {len(features_top3_extra_removed_df)} will be used for testing purposes')"
   ]
  },
  {
   "cell_type": "code",
   "execution_count": 8,
   "metadata": {},
   "outputs": [
    {
     "data": {
      "text/html": [
       "<div>\n",
       "<style scoped>\n",
       "    .dataframe tbody tr th:only-of-type {\n",
       "        vertical-align: middle;\n",
       "    }\n",
       "\n",
       "    .dataframe tbody tr th {\n",
       "        vertical-align: top;\n",
       "    }\n",
       "\n",
       "    .dataframe thead th {\n",
       "        text-align: right;\n",
       "    }\n",
       "</style>\n",
       "<table border=\"1\" class=\"dataframe\">\n",
       "  <thead>\n",
       "    <tr style=\"text-align: right;\">\n",
       "      <th></th>\n",
       "      <th>0</th>\n",
       "      <th>1</th>\n",
       "      <th>2</th>\n",
       "      <th>3</th>\n",
       "      <th>4</th>\n",
       "    </tr>\n",
       "  </thead>\n",
       "  <tbody>\n",
       "    <tr>\n",
       "      <th>index</th>\n",
       "      <td>1756</td>\n",
       "      <td>1440</td>\n",
       "      <td>1508</td>\n",
       "      <td>2407</td>\n",
       "      <td>969</td>\n",
       "    </tr>\n",
       "    <tr>\n",
       "      <th>petrel</th>\n",
       "      <td>0</td>\n",
       "      <td>0</td>\n",
       "      <td>0</td>\n",
       "      <td>0</td>\n",
       "      <td>0</td>\n",
       "    </tr>\n",
       "    <tr>\n",
       "      <th>sound.files</th>\n",
       "      <td>STHELENA-02_20140108_210100_110-120min.wav</td>\n",
       "      <td>STHELENA-02_20140108_210100_110-120min.wav</td>\n",
       "      <td>STHELENA-02_20140108_210100_110-120min.wav</td>\n",
       "      <td>STHELENA-01_20140101_210000_55-105min.wav</td>\n",
       "      <td>STHELENA-01_20140106_210000_0-15min.wav</td>\n",
       "    </tr>\n",
       "    <tr>\n",
       "      <th>meanfreq</th>\n",
       "      <td>3.60811</td>\n",
       "      <td>3.58382</td>\n",
       "      <td>3.59702</td>\n",
       "      <td>3.45414</td>\n",
       "      <td>3.93983</td>\n",
       "    </tr>\n",
       "    <tr>\n",
       "      <th>sd</th>\n",
       "      <td>1.82977</td>\n",
       "      <td>1.82665</td>\n",
       "      <td>1.8226</td>\n",
       "      <td>1.7458</td>\n",
       "      <td>1.75462</td>\n",
       "    </tr>\n",
       "    <tr>\n",
       "      <th>freq.Q75</th>\n",
       "      <td>5.202</td>\n",
       "      <td>5.164</td>\n",
       "      <td>5.158</td>\n",
       "      <td>4.883</td>\n",
       "      <td>5.453</td>\n",
       "    </tr>\n",
       "    <tr>\n",
       "      <th>freq.IQR</th>\n",
       "      <td>3.314</td>\n",
       "      <td>3.267</td>\n",
       "      <td>3.237</td>\n",
       "      <td>2.974</td>\n",
       "      <td>3.06</td>\n",
       "    </tr>\n",
       "    <tr>\n",
       "      <th>skew</th>\n",
       "      <td>1.89412</td>\n",
       "      <td>1.83392</td>\n",
       "      <td>1.78846</td>\n",
       "      <td>1.48091</td>\n",
       "      <td>0.658565</td>\n",
       "    </tr>\n",
       "    <tr>\n",
       "      <th>kurt</th>\n",
       "      <td>9.50197</td>\n",
       "      <td>9.44598</td>\n",
       "      <td>8.89957</td>\n",
       "      <td>6.3322</td>\n",
       "      <td>3.33522</td>\n",
       "    </tr>\n",
       "    <tr>\n",
       "      <th>sp.ent</th>\n",
       "      <td>0.979052</td>\n",
       "      <td>0.978609</td>\n",
       "      <td>0.978441</td>\n",
       "      <td>0.977618</td>\n",
       "      <td>0.983968</td>\n",
       "    </tr>\n",
       "    <tr>\n",
       "      <th>sfm</th>\n",
       "      <td>0.816575</td>\n",
       "      <td>0.825397</td>\n",
       "      <td>0.838956</td>\n",
       "      <td>0.810595</td>\n",
       "      <td>0.851428</td>\n",
       "    </tr>\n",
       "    <tr>\n",
       "      <th>meanfun</th>\n",
       "      <td>5.33333</td>\n",
       "      <td>5.33333</td>\n",
       "      <td>5.33333</td>\n",
       "      <td>4.74363</td>\n",
       "      <td>5.12</td>\n",
       "    </tr>\n",
       "    <tr>\n",
       "      <th>maxfun</th>\n",
       "      <td>5.33333</td>\n",
       "      <td>5.33333</td>\n",
       "      <td>5.33333</td>\n",
       "      <td>5.33333</td>\n",
       "      <td>5.33333</td>\n",
       "    </tr>\n",
       "    <tr>\n",
       "      <th>meandom</th>\n",
       "      <td>1.27823</td>\n",
       "      <td>1.42473</td>\n",
       "      <td>1.27895</td>\n",
       "      <td>1.45733</td>\n",
       "      <td>3.18803</td>\n",
       "    </tr>\n",
       "    <tr>\n",
       "      <th>dfrange</th>\n",
       "      <td>5.125</td>\n",
       "      <td>5.0625</td>\n",
       "      <td>3.5625</td>\n",
       "      <td>2.5625</td>\n",
       "      <td>5.9375</td>\n",
       "    </tr>\n",
       "    <tr>\n",
       "      <th>modindx</th>\n",
       "      <td>6.14634</td>\n",
       "      <td>11.4074</td>\n",
       "      <td>8.05263</td>\n",
       "      <td>19.9512</td>\n",
       "      <td>39.2316</td>\n",
       "    </tr>\n",
       "    <tr>\n",
       "      <th>meanpeakf</th>\n",
       "      <td>0.97619</td>\n",
       "      <td>0.97619</td>\n",
       "      <td>0.97619</td>\n",
       "      <td>0.913194</td>\n",
       "      <td>0.850198</td>\n",
       "    </tr>\n",
       "  </tbody>\n",
       "</table>\n",
       "</div>"
      ],
      "text/plain": [
       "                                                      0  \\\n",
       "index                                              1756   \n",
       "petrel                                                0   \n",
       "sound.files  STHELENA-02_20140108_210100_110-120min.wav   \n",
       "meanfreq                                        3.60811   \n",
       "sd                                              1.82977   \n",
       "freq.Q75                                          5.202   \n",
       "freq.IQR                                          3.314   \n",
       "skew                                            1.89412   \n",
       "kurt                                            9.50197   \n",
       "sp.ent                                         0.979052   \n",
       "sfm                                            0.816575   \n",
       "meanfun                                         5.33333   \n",
       "maxfun                                          5.33333   \n",
       "meandom                                         1.27823   \n",
       "dfrange                                           5.125   \n",
       "modindx                                         6.14634   \n",
       "meanpeakf                                       0.97619   \n",
       "\n",
       "                                                      1  \\\n",
       "index                                              1440   \n",
       "petrel                                                0   \n",
       "sound.files  STHELENA-02_20140108_210100_110-120min.wav   \n",
       "meanfreq                                        3.58382   \n",
       "sd                                              1.82665   \n",
       "freq.Q75                                          5.164   \n",
       "freq.IQR                                          3.267   \n",
       "skew                                            1.83392   \n",
       "kurt                                            9.44598   \n",
       "sp.ent                                         0.978609   \n",
       "sfm                                            0.825397   \n",
       "meanfun                                         5.33333   \n",
       "maxfun                                          5.33333   \n",
       "meandom                                         1.42473   \n",
       "dfrange                                          5.0625   \n",
       "modindx                                         11.4074   \n",
       "meanpeakf                                       0.97619   \n",
       "\n",
       "                                                      2  \\\n",
       "index                                              1508   \n",
       "petrel                                                0   \n",
       "sound.files  STHELENA-02_20140108_210100_110-120min.wav   \n",
       "meanfreq                                        3.59702   \n",
       "sd                                               1.8226   \n",
       "freq.Q75                                          5.158   \n",
       "freq.IQR                                          3.237   \n",
       "skew                                            1.78846   \n",
       "kurt                                            8.89957   \n",
       "sp.ent                                         0.978441   \n",
       "sfm                                            0.838956   \n",
       "meanfun                                         5.33333   \n",
       "maxfun                                          5.33333   \n",
       "meandom                                         1.27895   \n",
       "dfrange                                          3.5625   \n",
       "modindx                                         8.05263   \n",
       "meanpeakf                                       0.97619   \n",
       "\n",
       "                                                     3  \\\n",
       "index                                             2407   \n",
       "petrel                                               0   \n",
       "sound.files  STHELENA-01_20140101_210000_55-105min.wav   \n",
       "meanfreq                                       3.45414   \n",
       "sd                                              1.7458   \n",
       "freq.Q75                                         4.883   \n",
       "freq.IQR                                         2.974   \n",
       "skew                                           1.48091   \n",
       "kurt                                            6.3322   \n",
       "sp.ent                                        0.977618   \n",
       "sfm                                           0.810595   \n",
       "meanfun                                        4.74363   \n",
       "maxfun                                         5.33333   \n",
       "meandom                                        1.45733   \n",
       "dfrange                                         2.5625   \n",
       "modindx                                        19.9512   \n",
       "meanpeakf                                     0.913194   \n",
       "\n",
       "                                                   4  \n",
       "index                                            969  \n",
       "petrel                                             0  \n",
       "sound.files  STHELENA-01_20140106_210000_0-15min.wav  \n",
       "meanfreq                                     3.93983  \n",
       "sd                                           1.75462  \n",
       "freq.Q75                                       5.453  \n",
       "freq.IQR                                        3.06  \n",
       "skew                                        0.658565  \n",
       "kurt                                         3.33522  \n",
       "sp.ent                                      0.983968  \n",
       "sfm                                         0.851428  \n",
       "meanfun                                         5.12  \n",
       "maxfun                                       5.33333  \n",
       "meandom                                      3.18803  \n",
       "dfrange                                       5.9375  \n",
       "modindx                                      39.2316  \n",
       "meanpeakf                                   0.850198  "
      ]
     },
     "execution_count": 8,
     "metadata": {},
     "output_type": "execute_result"
    }
   ],
   "source": [
    "df = pd.concat([extra_noise_top3_df, features_rest]).reset_index()\n",
    "df.head(5).T"
   ]
  },
  {
   "cell_type": "markdown",
   "metadata": {},
   "source": [
    "Now that we see that results are OK, we can preprocess all the data. **One change though**.  We will concatenate the noise together and for ML training simply cut off 1201 samples from the bottom."
   ]
  },
  {
   "cell_type": "code",
   "execution_count": 12,
   "metadata": {},
   "outputs": [],
   "source": [
    "features_path = glob.glob('/mnt/data/Birdman/samples/features/raw/features*.csv')"
   ]
  },
  {
   "cell_type": "code",
   "execution_count": 13,
   "metadata": {},
   "outputs": [
    {
     "name": "stdout",
     "output_type": "stream",
     "text": [
      "/mnt/data/Birdman/samples/features/raw/features_petrels_bp1-6_wl256_th2.csv\n",
      "/mnt/data/Birdman/samples/features/raw/features_petrels_bp1-8_wl256_th10.csv\n",
      "/mnt/data/Birdman/samples/features/raw/features_petrels_bp1-8_wl256_th2.csv\n",
      "/mnt/data/Birdman/samples/features/raw/features_petrels_bp1-8_wl256_th4.csv\n",
      "/mnt/data/Birdman/samples/features/raw/features_petrels_bp1-12_wl256_th4.csv\n"
     ]
    }
   ],
   "source": [
    "for path in features_path:\n",
    "    print(path)\n",
    "    filename = os.path.splitext(os.path.basename(path))[0]\n",
    "    features = pd.read_csv(path, index_col=None)\n",
    "    features = features.fillna(0)\n",
    "    count_per_file = features['sound.files'].value_counts()\n",
    "    top3_names = list(count_per_file[:3].index)\n",
    "    rest_names = list(count_per_file[3:].index)\n",
    "    features_top3 = features[features['sound.files'].isin(top3_names)]\n",
    "    features_rest = features[features['sound.files'].isin(rest_names)]\n",
    "    noise_samples_top3 = sum(features_top3['petrel'] == 0)\n",
    "    noise_samples_rest = sum(features_rest['petrel'] == 0)\n",
    "    petrels_samples_top3 = sum(features_top3['petrel'] == 1)\n",
    "    petrels_samples_rest = sum(features_rest['petrel'] == 1)\n",
    "    assert(petrels_samples_top3 == 0) # There should be no petrel in the top 3\n",
    "    extra_noise_to_sample = petrels_samples_rest - noise_samples_rest\n",
    "    extra_noise_top3_df = features_top3.sample(extra_noise_to_sample, random_state=42)\n",
    "    features_top3_extra_removed_df = features_top3.drop(extra_noise_top3_df.index)\n",
    "    df = pd.concat([features_top3_extra_removed_df, extra_noise_top3_df, features_rest]).reset_index()\n",
    "    df = df.drop('index', axis=1)\n",
    "    df.to_csv(filename + '.csv', index=False)"
   ]
  },
  {
   "cell_type": "code",
   "execution_count": null,
   "metadata": {},
   "outputs": [],
   "source": []
  }
 ],
 "metadata": {
  "kernelspec": {
   "display_name": "Python 3",
   "language": "python",
   "name": "python3"
  },
  "language_info": {
   "codemirror_mode": {
    "name": "ipython",
    "version": 3
   },
   "file_extension": ".py",
   "mimetype": "text/x-python",
   "name": "python",
   "nbconvert_exporter": "python",
   "pygments_lexer": "ipython3",
   "version": "3.6.6"
  }
 },
 "nbformat": 4,
 "nbformat_minor": 2
}
