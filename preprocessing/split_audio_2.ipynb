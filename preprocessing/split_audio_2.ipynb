{
 "cells": [
  {
   "cell_type": "code",
   "execution_count": 175,
   "metadata": {},
   "outputs": [],
   "source": [
    "import pandas as pd\n",
    "import numpy as np"
   ]
  },
  {
   "cell_type": "code",
   "execution_count": 176,
   "metadata": {},
   "outputs": [],
   "source": [
    "label_path = '/mnt/data/Birdman/samples/labels/petrels_all_R.csv'\n",
    "df = pd.read_csv(label_path)\n",
    "\n",
    "df['dur'] = df['end'] - df['start']\n",
    "short_idx = df['dur'] < 0.8\n",
    "long_idx = df['dur'] > 1.5"
   ]
  },
  {
   "cell_type": "code",
   "execution_count": 165,
   "metadata": {},
   "outputs": [],
   "source": [
    "des_len = 1.0\n",
    "win = des_len / 2\n",
    "\n",
    "petrels = []\n",
    "\n",
    "for index, row in df.iterrows():\n",
    "    start = row['start']\n",
    "    end = row['end']\n",
    "    if end - start > des_len:\n",
    "        start_interval = np.arange(start, end - win, win)\n",
    "        end_interval = start_interval + des_len\n",
    "        if end_interval[-1] > end:\n",
    "            end_interval[-1] = end\n",
    "        for s, e in zip(start_interval, end_interval):\n",
    "            petrels.append([row['sound.files'], s, e])\n",
    "    else:\n",
    "        petrels.append([row['sound.files'], start, end])"
   ]
  },
  {
   "cell_type": "code",
   "execution_count": 169,
   "metadata": {},
   "outputs": [],
   "source": [
    "df_split = pd.DataFrame(petrels, columns=['sound.files', 'start', 'end'])"
   ]
  },
  {
   "cell_type": "code",
   "execution_count": 171,
   "metadata": {},
   "outputs": [],
   "source": [
    "df_split.to_csv('/mnt/data/Birdman/samples/labels/petrels_all_split_R.csv')"
   ]
  },
  {
   "cell_type": "code",
   "execution_count": 172,
   "metadata": {},
   "outputs": [],
   "source": [
    "df_split['dur'] = df_split['end'] - df_split['start']"
   ]
  },
  {
   "cell_type": "code",
   "execution_count": 173,
   "metadata": {},
   "outputs": [
    {
     "data": {
      "text/plain": [
       "0.50999999999999091"
      ]
     },
     "execution_count": 173,
     "metadata": {},
     "output_type": "execute_result"
    }
   ],
   "source": [
    "df_split['dur'].min()"
   ]
  },
  {
   "cell_type": "code",
   "execution_count": 174,
   "metadata": {},
   "outputs": [
    {
     "data": {
      "text/plain": [
       "0.7366822794691648"
      ]
     },
     "execution_count": 174,
     "metadata": {},
     "output_type": "execute_result"
    }
   ],
   "source": [
    "df_split['dur'].mean()"
   ]
  },
  {
   "cell_type": "code",
   "execution_count": 1,
   "metadata": {},
   "outputs": [],
   "source": [
    "fast = 'meanfreq sd freq.median freq.Q25 freq.Q75 freq.IQR time.median time.Q25 time.Q75 time.IQR skew kurt sp.ent time.ent entropy sfm meanfun minfun maxfun meandom mindom maxdom dfrange modindx startdom enddom dfslope meanpeakf'.split(' ')\n",
    "slow = 'meanfreq sd freq.median freq.Q25 freq.Q75 freq.IQR time.median time.Q25 time.Q75 time.IQR skew kurt sp.ent time.ent entropy sfm meanfun minfun maxfun meandom mindom maxdom dfrange modindx startdom enddom dfslope meanpeakf peakf'.split(' ')"
   ]
  },
  {
   "cell_type": "code",
   "execution_count": 3,
   "metadata": {},
   "outputs": [
    {
     "data": {
      "text/plain": [
       "{'peakf'}"
      ]
     },
     "execution_count": 3,
     "metadata": {},
     "output_type": "execute_result"
    }
   ],
   "source": [
    "set(slow) - set(fast)"
   ]
  },
  {
   "cell_type": "code",
   "execution_count": null,
   "metadata": {},
   "outputs": [],
   "source": []
  }
 ],
 "metadata": {
  "kernelspec": {
   "display_name": "Python 3",
   "language": "python",
   "name": "python3"
  },
  "language_info": {
   "codemirror_mode": {
    "name": "ipython",
    "version": 3
   },
   "file_extension": ".py",
   "mimetype": "text/x-python",
   "name": "python",
   "nbconvert_exporter": "python",
   "pygments_lexer": "ipython3",
   "version": "3.6.6"
  }
 },
 "nbformat": 4,
 "nbformat_minor": 2
}
