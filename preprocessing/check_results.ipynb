{
 "cells": [
  {
   "cell_type": "code",
   "execution_count": 1,
   "metadata": {},
   "outputs": [],
   "source": [
    "import os\n",
    "import gcsfs\n",
    "import pandas as pd\n",
    "from birdutils import read_labels"
   ]
  },
  {
   "cell_type": "code",
   "execution_count": 2,
   "metadata": {},
   "outputs": [],
   "source": [
    "fs = gcsfs.GCSFileSystem(project='birdman-project')\n",
    "with fs.open('storm-petrels/samples/features/features_warbler_buffer_250ms.csv') as f:\n",
    "    warbler_df = pd.read_csv(f)\n",
    "with fs.open('storm-petrels/samples/labels/petrels_all.csv') as f:\n",
    "    labels_df = pd.read_csv(f)\n",
    "with fs.open('storm-petrels/samples/labels/sthelena_labels.xls') as f:\n",
    "    labels_dict = read_labels(f)"
   ]
  },
  {
   "cell_type": "code",
   "execution_count": 3,
   "metadata": {},
   "outputs": [],
   "source": [
    "filenames = labels_df['File Name'].unique()"
   ]
  },
  {
   "cell_type": "code",
   "execution_count": 4,
   "metadata": {},
   "outputs": [],
   "source": [
    "labels_df = pd.concat(labels_dict, axis=0, ignore_index=True)"
   ]
  },
  {
   "cell_type": "code",
   "execution_count": 5,
   "metadata": {},
   "outputs": [],
   "source": [
    "def get_acc(features, labels, filenames):\n",
    "    features['sound.files'] = features['sound.files'].str.replace('.wav', '')\n",
    "    features['overlap'] = False\n",
    "    labels['overlap'] = False\n",
    "\n",
    "    for filename in filenames:\n",
    "        df_label = labels[labels['File Name'] == filename]\n",
    "        df_feat = features[features['sound.files'] == filename]\n",
    "        for index1, row_label in df_label.iterrows():\n",
    "            for index2, row_feat in df_feat.iterrows():\n",
    "                feat_start = row_feat['Time Start']\n",
    "                feat_end = row_feat['Time End']\n",
    "                label_start = row_label['Time Start']\n",
    "                label_end = row_label['Time End']\n",
    "                overlap = (label_start <= feat_end) and (label_end >= feat_start)\n",
    "                if overlap:\n",
    "                    labels.at[index1, 'overlap'] = True\n",
    "                    features.at[index2, 'overlap'] = True\n",
    "    return sum(labels['overlap']) / len(labels)"
   ]
  },
  {
   "cell_type": "code",
   "execution_count": 6,
   "metadata": {},
   "outputs": [
    {
     "data": {
      "text/plain": [
       "0.6726804123711341"
      ]
     },
     "execution_count": 6,
     "metadata": {},
     "output_type": "execute_result"
    }
   ],
   "source": [
    "get_acc(warbler_df, labels_df, filenames)"
   ]
  },
  {
   "cell_type": "code",
   "execution_count": 7,
   "metadata": {},
   "outputs": [
    {
     "data": {
      "text/plain": [
       "array(['STHELENA-02_20140605_200000_1', 'STHELENA-02_20140605_200000_10',\n",
       "       'STHELENA-02_20140605_200000_11', 'STHELENA-02_20140605_200000_12',\n",
       "       'STHELENA-02_20140605_200000_13', 'STHELENA-02_20140605_200000_2',\n",
       "       'STHELENA-02_20140605_200000_3', 'STHELENA-02_20140605_200000_4',\n",
       "       'STHELENA-02_20140605_200000_5', 'STHELENA-02_20140605_200000_6',\n",
       "       'STHELENA-02_20140605_200000_7', 'STHELENA-02_20140605_200000_8',\n",
       "       'STHELENA-02_20140605_200000_9'], dtype=object)"
      ]
     },
     "execution_count": 7,
     "metadata": {},
     "output_type": "execute_result"
    }
   ],
   "source": [
    "filenames"
   ]
  },
  {
   "cell_type": "code",
   "execution_count": 8,
   "metadata": {},
   "outputs": [
    {
     "name": "stdout",
     "output_type": "stream",
     "text": [
      "features_samples_ssmooth800_th3.csv: 63.92%\n",
      "features_samples_ssmooth800_th4.csv: 78.35%\n",
      "features_samples_th2.csv: 81.44%\n",
      "features_samples_th3.csv: 76.55%\n",
      "features_warbler_buffer_250ms.csv: 67.27%\n",
      "features_warbler_no_buffer.csv: 66.75%\n"
     ]
    }
   ],
   "source": [
    "for feature_name in fs.glob('storm-petrels/samples/features/'):\n",
    "    with fs.open(feature_name) as f:\n",
    "        feature = pd.read_csv(f)\n",
    "    name = os.path.basename(feature_name)\n",
    "    acc = get_acc(feature, labels_df, filenames) * 100\n",
    "    print(f'{name}: {acc:.2f}%')"
   ]
  },
  {
   "cell_type": "code",
   "execution_count": 4,
   "metadata": {},
   "outputs": [
    {
     "data": {
      "text/plain": [
       "['storm-petrels/samples/features/features_samples_ssmooth800_th3.csv',\n",
       " 'storm-petrels/samples/features/features_samples_ssmooth800_th4.csv',\n",
       " 'storm-petrels/samples/features/features_samples_th2.csv',\n",
       " 'storm-petrels/samples/features/features_samples_th3.csv',\n",
       " 'storm-petrels/samples/features/features_warbler_buffer_250ms.csv',\n",
       " 'storm-petrels/samples/features/features_warbler_no_buffer.csv']"
      ]
     },
     "execution_count": 4,
     "metadata": {},
     "output_type": "execute_result"
    }
   ],
   "source": [
    "fs.glob('storm-petrels/samples/features/')"
   ]
  },
  {
   "cell_type": "code",
   "execution_count": null,
   "metadata": {},
   "outputs": [],
   "source": []
  }
 ],
 "metadata": {
  "kernelspec": {
   "display_name": "Python 3",
   "language": "python",
   "name": "python3"
  },
  "language_info": {
   "codemirror_mode": {
    "name": "ipython",
    "version": 3
   },
   "file_extension": ".py",
   "mimetype": "text/x-python",
   "name": "python",
   "nbconvert_exporter": "python",
   "pygments_lexer": "ipython3",
   "version": "3.6.5"
  }
 },
 "nbformat": 4,
 "nbformat_minor": 2
}
